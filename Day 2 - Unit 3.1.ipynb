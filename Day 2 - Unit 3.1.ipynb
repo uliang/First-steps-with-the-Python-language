{
 "cells": [
  {
   "cell_type": "code",
   "execution_count": null,
   "metadata": {
    "collapsed": true
   },
   "outputs": [],
   "source": [
    "from __future__ import print_function, division"
   ]
  },
  {
   "cell_type": "markdown",
   "metadata": {},
   "source": [
    "# 1. Visualisation with  `matplotlib`\n",
    "________\n",
    "The library `matplotlib` is an extremely versatile graphics library written for Python in order to replicate and produce MATLAB type visualisations for engineering and scientific research. It is a low-level library and uses Python as the grammar for its graphics creation. \n",
    "\n",
    "In this section of the course, we will learn about the `Figure` and `Axes` objects. These represent the backbone of `matplotlib` and all other objects are created on these two objects. We will learn how to generate the simplest chart - the \"bread and butter\" of scientific visualisation - line plots and scatter plots. \n",
    "\n",
    "Then we will cover distributional plots in one and two dimensions. Density based plots are especially important when the number of data points are huge and overplotting becomes a problem. \n",
    "\n",
    "Next we will learn how to create subplots, annotations and customize your plot. \n",
    "\n",
    "Throughout this course, we will also learn and  put  some basic principles of data visualizations into practice. \n",
    "\n",
    "## 1.1 Learning objectives\n",
    "\n",
    "In this section we will: \n",
    "\n",
    "   * Importing the `matplotlib` library and the `%matplotlib inline` magic command. \n",
    "   * How to set up `Figure` and `Axes` objects. \n",
    "   * Using the `.plot` method and its various keyword arguments. \n",
    "   * Adding plot titles at the `axis` level. \n",
    "   \n",
    "## 1.2 Win, lose or DRAW! \n",
    "\n",
    "By default, Jupyter Notebooks do not display `matplotlib` objects immediately after they are created. In order to activate the auto display function, we have to instruct Jupyter to do so by using the Ipython magic commands. In the cell below, run the command `%matplotlib inline`. \n"
   ]
  },
  {
   "cell_type": "code",
   "execution_count": null,
   "metadata": {
    "collapsed": true
   },
   "outputs": [],
   "source": [
    "%matplotlib inline"
   ]
  },
  {
   "cell_type": "markdown",
   "metadata": {},
   "source": [
    "Now we need to import the `matplotlib` plotting library. We use the `import` and `as` keyword to do this. The keyword `as` allows us to replace the lengthy module name with an alias of our choosing. By convention, use `plt`. "
   ]
  },
  {
   "cell_type": "code",
   "execution_count": null,
   "metadata": {},
   "outputs": [],
   "source": [
    "import matplotlib.pyplot as plt\n",
    "\n",
    "plt.plot([1,2,3], [4,7, -1], 'bo')"
   ]
  },
  {
   "cell_type": "markdown",
   "metadata": {},
   "source": [
    "Here above, you will see our very first plot using the `plt.plot` function: A simple scatter plot consisting of coordinates $$(1,4), (2,7), (3, -1)$$ on the $x$-$y$ plane. Notice the arguments passed to `plt.plot`. \n",
    "\n",
    "  * A `list` of the $x$-coordinates, `[1,2,3]`. In general purpose usage, this is a `Series` or an `array` object containing the predictor variables of our data. \n",
    "  \n",
    "  * A `list` of the $y$-coordinates, `[4,7,-1]`. This will usually be the response variable. \n",
    "  \n",
    "  * The final string `bo` is a convenience syntax for instructing `plt.plot` to create a scatterplot using round (`o`) markers coloured blue (`b`). \n",
    "  \n",
    "Note that if not marker string is passed to `.plot`, `matplotlib` will output a line plot by default. \n",
    "\n",
    "All this is very nice, but before we go into more details about `plt.plot`, we must set up the general  workflow for working with this library. \n",
    "\n",
    "## 1.3 The canvas: `figure` and `axes`\n",
    "\n",
    "The parent object of any `matplotlib` visualisation is the `Figure` class. Figures contains the `Axes` objects which in turn contains all the other components that make up a plot: lines, patches, dots, text, arrows, contours and the like. Even objects like legends, colorbars, axis labels, ticks and plot titles are all subclassed from either a figure object or an axes object. Note that all visualisations produced by `matplotlib` are always contained in a Figure and axes. If these are not explicitly instanced, that they are implicitly created when `plt.plot` is called. \n",
    "\n",
    "The `matplotlib` API can be interacted with using MATLAB style interfacing which uses function calls to `plt.plot` and various other annotation functions. \n",
    "\n",
    "However, in this course, we wish to emphasize the object oriented interface to the API. This makes it easier  to customize `matplotlib` and even  `seaborn` visualisations. Essentially plot customization is about tweaking the *attributes* of an object. \n",
    "\n",
    "To create a `figure` object:"
   ]
  },
  {
   "cell_type": "code",
   "execution_count": null,
   "metadata": {},
   "outputs": [],
   "source": [
    "fig1 = plt.figure()"
   ]
  },
  {
   "cell_type": "markdown",
   "metadata": {},
   "source": [
    "When run, we see that an instance of a Figure class has been created. However, we do not see anything more that that printed output. In fact, if we were using another Python IDE like Spyder or accessing Python from the command prompt (like IPython), we will see a blank pop window created. Since we are using Jupyter Notebooks, our particular graphical renderer (`inline`) will not display this. \n",
    "\n",
    "From this point on, we can create the plots with desire using `plt.plot` and assign the output to a variable name. Copy the line in the cell above and paste it below. "
   ]
  },
  {
   "cell_type": "code",
   "execution_count": null,
   "metadata": {},
   "outputs": [],
   "source": [
    "                         # This line will be pasted in by course attendee. \n",
    "\n",
    "plt.plot([1,2,3], [4,7,-1], '*r') "
   ]
  },
  {
   "cell_type": "markdown",
   "metadata": {},
   "source": [
    "The reason for initializing a figure instance calling `plt.plot` in the same cell is so that axes for this plot (call it `ax1`) will be contained in `fig1`.  By doing this we can save the figure to a file by running the following command \n",
    "\n",
    "    fig1.savefig(\"my_first_plot.jpeg\", dpi=300) \n",
    "\n",
    "in possibly another cell. Since this figure contains that `ax1` object, the saved jpeg file will contain the plot above.  If the `plot` and `figure` instance were executed in *different* cells  your jpeg file will be empty when `fig1.savefig` is called!\n",
    "\n",
    "You may want to rerender your plot to adjust some parameters. By putting the `.savefig` method in another cell, you create a jpeg file output *only once* after you are satisfied with what you see (in Jupyter Notebook). "
   ]
  },
  {
   "cell_type": "code",
   "execution_count": null,
   "metadata": {
    "collapsed": true
   },
   "outputs": [],
   "source": [
    "fig1.savefig(\"my_first_plot.jpeg\", dpi=300)"
   ]
  },
  {
   "cell_type": "markdown",
   "metadata": {},
   "source": [
    "Check your current working directory. You should see the jpeg file there now. \n",
    "Congratulations! You have completed your first visualisation project! \n",
    "\n",
    "# 2. Basic plotting with `.plot` method\n",
    "________\n",
    "The basic workflow of creating a visualisation consists on instancing a figure and axes class, getting data and plotting it and finally saving your output to a file. In this section, we will learn about `matplotlib`'s versatile `.plot` method to create basic scatter and line plots. \n",
    "\n",
    "The function of the `.plot` method is to create scatter and line plots as have been mentioned. You have seen how to create basic scatter plots, so lets work through a simple visualisation project using line plots. Along the way, we will learn about the various customization and keyword arguments to the `.plot` method. \n",
    "\n",
    "For our first task, we want to compare stock prime movements of Apple Corp. (AAPL), 3M Corp. (MMM) and Google (GOOGL) from the 9th of November 2016. Stock price data can be obtained from Google and `pandas` has an extension API to get this data from Google. We download the data, clean it and calculate the percentage difference for one time interval. "
   ]
  },
  {
   "cell_type": "code",
   "execution_count": null,
   "metadata": {
    "collapsed": true
   },
   "outputs": [],
   "source": [
    "import pandas as pd\n",
    "import pandas_datareader.data as web # requires pandas-datareader package\n",
    "from datetime import datetime\n",
    "\n",
    "\n",
    "start = datetime(2016,11,9)\n",
    "# end = datetime(2017, 7, 24)\n",
    "tickers = [\"AAPL\", \"MMM\", \"GOOGL\"]\n",
    "stock_panel = web.DataReader(tickers, \"google\", start, )\n",
    "\n",
    "closing_pct_change = (stock_panel.loc[\"Close\", :, :]\n",
    "                                 .pct_change()) \n",
    "\n",
    "# closing_pct_change.to_csv(\"closing_pct_change.csv\")\n",
    "# backup plan\n",
    "# closing_pct_change = pd.read_csv(\"closing_pct_change.csv\")"
   ]
  },
  {
   "cell_type": "markdown",
   "metadata": {},
   "source": [
    "## 2.1 Using `plt.plot` to plot lines\n",
    "\n",
    "Before we get to plotting the percentage difference in stock prices. Let's get a feel of how to plot lines in `matplotlib`. Like a scatterplot, to plot lines we: \n",
    "  * Pass an array of x-coordinates and y-coordinates to the first and second arguments of `plt.plot`. \n",
    "  * If we do not pass any other arguments, `plt.plot` thinks that you want to plot a line graph. "
   ]
  },
  {
   "cell_type": "code",
   "execution_count": null,
   "metadata": {
    "collapsed": true
   },
   "outputs": [],
   "source": [
    "# Use this space to do the following: Plot a simple line graph using plt.plot. Use the data below.\n",
    "\n",
    "xcoord = [1,2,3,4]\n",
    "ycoord = [5, -3, 9, -1]\n",
    "\n",
    "# Answer: \n",
    "\n",
    "\n",
    "\n",
    "\n",
    "\n"
   ]
  },
  {
   "cell_type": "markdown",
   "metadata": {},
   "source": [
    "In matplotlib, a line can also be created for a *time series* object by passing a `Series` object indexed by `datetime` objects. If you pass such a series as an argument to `plt.plot`, `matplotlib` is smart enough to know that you are trying to make a time series plot. In our data above, we want to plot stock price changes, which is a type of time series. \n",
    "\n",
    "Let's give it a go first by writing \n",
    "\n",
    "    plt.plot(closing_pct_change[\"AAPL\"], label=\"AAPL\")\n",
    "    plt.legend(loc=\"best\")\n",
    "\n",
    "in the cell below. The code above instructs matplotlib to create a time series plot. Note to pass **one** data argument to plot, `closing_pct_change[\"AAPL\"]`. The information for the x-axis is already contained in the *index* of that series. \n",
    "\n",
    "Next, we pass the `label` keyword argument to plt.plot. Label is a way for us to \"name\" our line. It is needed if do plot a legend (which we will). When we call `plt.legend`, we create a legend on the axes. By passing `loc` keyword argument `\"best\"`, we specify that the legend is to be placed in the best location as determined by `matplotlib`. "
   ]
  },
  {
   "cell_type": "code",
   "execution_count": null,
   "metadata": {},
   "outputs": [],
   "source": [
    "# Copy and paste the code above in the space below \n",
    "\n",
    "\n",
    "\n"
   ]
  },
  {
   "cell_type": "markdown",
   "metadata": {},
   "source": [
    "In `matplotlib`, an axes can contain many different such lines by repeatedly calling the `.plot` method  on the *same* axis object. This has the effect of constructing multiple lines on the same plot and is useful for comparing various time series objects. \n",
    "\n",
    "The code for accomplishing is below:\n",
    "\n",
    "    fig, ax = plt.subplots()\n",
    "    \n",
    "    ax.plot(time_series_1, label=name_1)\n",
    "    ax.plot(time_series_2, label=name_2)\n",
    "    ...\n",
    "    ax.plot(time_series_n, label=name_n)\n",
    "    \n",
    "We must first create a `figure` and `axis` object. And this can be accomplished together using `plt.subplots()` (and list unpacking). \n",
    "\n",
    "However, look at the code above, is there anyway in which you can improve this? \n",
    "\n",
    "## 2.2 Plotting multiple lines using the `for` loop\n",
    "\n",
    "Yes, you probably guessed that we can use a `for` loop to repeatedly draw different time series objects on the same axes. By passing a unique name for each time series to the `label` keyword argument we are able to call legend to display the labels for each line. \n",
    "\n",
    "In the cell below, we apply all that we have said above to plot the percentage change in closing stock price for Apple, 3M and Google on the same plot. We then place a legend on the plot and use `.set_title` method to write down a title for our plot. \n",
    "\n",
    "The companies ticker codes are stored in a variable name `tickers`.  We will use the ticker codes  to access each column in the data frame by name. \n",
    "\n",
    "The code to do all this is written below. Simply execute the cell below to see the results. "
   ]
  },
  {
   "cell_type": "code",
   "execution_count": null,
   "metadata": {
    "collapsed": true
   },
   "outputs": [],
   "source": [
    "fig2, ax2 = plt.subplots(figsize=(12,6)) # figure size is given in (wide, height) units\n",
    "\n",
    "for ticker in tickers:\n",
    "    ax2.plot(closing_pct_change[ticker], label=ticker)\n",
    "\n",
    "plt.legend(loc=\"best\")\n",
    "ax2.set_title(\"Stock prices percentage change\")"
   ]
  },
  {
   "cell_type": "markdown",
   "metadata": {},
   "source": [
    "Do you notice that the variation between AAPL and GOOGL are highly correlated? \n",
    "\n",
    "## 2.3 `matplotlib` marker codes\n",
    "\n",
    "`matplotlib` employs a simple string code to allow us to customize the marker and linestyles of our plots. Refer to [this page][1] for the whole documentation.\n",
    "\n",
    "### 2.3.1 Color codes\n",
    "\n",
    "First of all, we can customize colors using single letter strings. For example `'b'` would mean blue and `'r'` means red. \n",
    "\n",
    "Here is a table of supported color abbrevations used in `matplotlib`. \n",
    "\n",
    "| Color | Code |\n",
    "|:------:|:----:|\n",
    "|'b'| blue|\n",
    "|'g'|green|\n",
    "|'r'|red|\n",
    "|'c'| cyan|\n",
    "|'m'| magenta|\n",
    "|'y'| yellow|\n",
    "|'k'| blac**k**|\n",
    "|'w'| white|\n",
    "\n",
    "Besides this, you can pass your own customized colors using the `color` keyword argument to the plot function (or method). The code is `color=x` where x can be CSS colors codes ([see here for full list](https://www.w3schools.com/cssref/css_colors.asp)), RGB (RGBA) tuples, hex strings (`'#008000'`) or grayscale intensities (pass a single `float`). \n",
    "\n",
    "### 2.3.2 Line and marker styles\n",
    "\n",
    "Then we can customize line and marker styles in the same way. It is best to see just a few in action in the plot below. The full list can be found on the [documentation page][1].\n",
    "\n",
    "[1]:http://matplotlib.org/api/_as_gen/matplotlib.axes.Axes.plot.html?highlight=plot#matplotlib.axes.Axes.plot"
   ]
  },
  {
   "cell_type": "code",
   "execution_count": 1,
   "metadata": {},
   "outputs": [
    {
     "data": {
      "text/plain": [
       "<matplotlib.legend.Legend at 0x77ebef0>"
      ]
     },
     "execution_count": 1,
     "metadata": {},
     "output_type": "execute_result"
    },
    {
     "data": {
      "image/png": "[encoded data removed]",
      "text/plain": [
       "<matplotlib.figure.Figure at 0x6254ef0>"
      ]
     },
     "metadata": {},
     "output_type": "display_data"
    }
   ],
   "source": [
    "import matplotlib.pyplot as plt\n",
    "import numpy as np \n",
    "from matplotlib.style import use\n",
    "%matplotlib inline\n",
    "use('ggplot')\n",
    "xx = np.linspace(0,10,50)\n",
    "\n",
    "fig, ax = plt.subplots(figsize=(12,12))\n",
    "for m, marker in enumerate(['-', '--', ':', '-.', 'o', '.', 'v','^', '1', '2','3','4','s', '*', 'H', 'D', '+']):\n",
    "    ax.plot(xx, (m+1)*xx+10, marker, label=marker)\n",
    "ax.set_title(\"Marker and Line Style Codes\", fontsize=12)\n",
    "plt.legend(loc=\"best\")"
   ]
  },
  {
   "cell_type": "markdown",
   "metadata": {},
   "source": [
    "### 2.3.3 Combining line styles with color abbrevations\n",
    "\n",
    "The nice thing about `plot` is that it accepts as an argument the following convenience syntax: We can combine both line styles, marker styles and color into one single 2 (or 3 length string). Here are some examples. \n",
    "\n",
    "  * `'-or'` means plot a solid line, with a circle marker at the data points in red.\n",
    "  * `'bD'` means plot a blue diamond marker scatter plot. \n",
    "\n",
    "We use marker codes like this to tell `plot` whether to plot a line plot or a scatterplots. This is necessary because from `plot` point of view, there is no essential difference between one and another; a line plot (or time series plot) is created from a scatter plot by interpolating between succesive entries in the `Series` passed to `plot`. \n",
    "\n",
    "Here below, we shall use this knowledge to plot a simple scatter plot to show the correlation between percentage change in stock prices of both Google (resp. 3M) and Apple. "
   ]
  },
  {
   "cell_type": "code",
   "execution_count": null,
   "metadata": {
    "collapsed": true
   },
   "outputs": [],
   "source": [
    "fig3, ax3 = plt.subplots(figsize=(6,6))\n",
    "\n",
    "marker = [\"go\", \"rD\"]\n",
    "for mark, ticker in zip(marker, tickers[1:]):\n",
    "    ax3.plot(closing_pct_change[\"AAPL\"], closing_pct_change[ticker], mark, label=ticker, alpha=0.5)\n",
    "    \n",
    "ax3.set_xlabel(\"AAPL Percentage change\")\n",
    "ax3.set_title(\"Correlation of Percentage changes in closing stock price\")\n",
    "plt.legend(loc=\"best\")"
   ]
  },
  {
   "cell_type": "markdown",
   "metadata": {},
   "source": [
    "Here we see that Google's stock price movements correlate  with Apple's stock price movements. This is to be expected as both are technology companies. Compare this with the correlation between 3M and Apple.   As 3M is a manufacturing company, this correlation is lower.  "
   ]
  },
  {
   "cell_type": "markdown",
   "metadata": {},
   "source": [
    "# Demo: Currency exchange by country comparison project\n",
    "____\n",
    "\n",
    "Below we will use our knowledge of matplotlib to create a simple time series plot that compares the changes in currency exchange rates for some OECD and non-OECD countries. I intend to use this demo to show the whole visualisation workflow from getting data, cleaning it and visualising it. Our focus however, is on the visualisation code. If you are unfamiliar with `pandas`,  treat the data cleaning part of the code as black boxes. "
   ]
  },
  {
   "cell_type": "code",
   "execution_count": null,
   "metadata": {
    "collapsed": true
   },
   "outputs": [],
   "source": [
    "# oecd_currency_xchange.to_csv(\"oecd_currency_xchange.csv\")\n",
    "import pandas as pd \n",
    "oecd_currency_xchange = pd.read_csv(\"oecd_currency_xchange.csv\", infer_datetime_format=True, index_col=0, parse_dates=True )\n",
    "\n",
    "import matplotlib.pyplot as plt\n",
    "import seaborn as sns\n",
    "%matplotlib inline\n",
    "\n",
    "n_cols = oecd_currency_xchange.shape[1]\n",
    "color = sns.color_palette(\"tab20\", n_cols)\n",
    "non_oecd = [\"Brazil\", \"China (People's Republic of)\", \"Colombia\", \"Costa Rica\", \"India\", \"South Africa\"]\n",
    "\n",
    "fig4, ax4 = plt.subplots(figsize=(12,12))\n",
    "\n",
    "for _ in range(n_cols):\n",
    "    plotSeries = oecd_currency_xchange.iloc[:, _]\n",
    "    if plotSeries.name in non_oecd:\n",
    "        marker = '--'\n",
    "    else:\n",
    "        marker = '-'\n",
    "    ax4.plot(plotSeries, marker, label = plotSeries.name, color=color[_])\n",
    "\n",
    "ax4.set_ylabel(\"Percent change from year 2000\")\n",
    "ax4.set_xlabel(\"Year\")\n",
    "ax4.set_title(\"Currency exchange rate per USD for some OECD and non-OECD countries\\n2000 - present\", fontsize=14)\n",
    "plt.legend(loc=\"best\");\n"
   ]
  },
  {
   "cell_type": "code",
   "execution_count": null,
   "metadata": {
    "collapsed": true
   },
   "outputs": [],
   "source": [
    "fig4.savefig(\"OECD.jpeg\", dpi=300)"
   ]
  }
 ],
 "metadata": {
  "kernelspec": {
   "display_name": "Python 2",
   "language": "python",
   "name": "python2"
  },
  "language_info": {
   "codemirror_mode": {
    "name": "ipython",
    "version": 2
   },
   "file_extension": ".py",
   "mimetype": "text/x-python",
   "name": "python",
   "nbconvert_exporter": "python",
   "pygments_lexer": "ipython2",
   "version": "2.7.13"
  }
 },
 "nbformat": 4,
 "nbformat_minor": 2
}
