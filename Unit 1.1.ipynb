{
 "cells": [
  {
   "cell_type": "markdown",
   "metadata": {},
   "source": [
    "# Your first steps with Python\n",
    "____________________________\n",
    "\n",
    "## Introduction \n",
    "\n",
    "Python is a general purpose programming language. It is used extensively for scientific computing, data analytics and visualization, web development and software development. It has a wide user base and excellent library support. \n",
    "\n",
    "There are many ways to use and interact with the Python language. The first way is to access it directly from the command prompt and calling `python <script>.py`. This runs a script written in Python and does whatever you have programmed the computer to do. But scripts have to be written and how do we actually write Python scripts? \n",
    "\n",
    "Actually Python scripts are just `.txt` files. So you could just open a `.txt` file and write a script, saving the file with a `.py` extension. The downsides of this approach is obvious to anyone working with Windows. Usually, Python source code is written-not with Microsoft Word- but with and **I**ntegrated **D**evelopment **E**nvironment. An IDE combines a text editor with a running Python console to test code and actually do work with Python without switching from one program to another. If you learnt the C, or C++ language, you will be familiar with Vim. Other popular IDE's for Python are Pycharm, Spyder and the Jupyter Notebook. \n",
    "\n",
    "In this course, we will use the Jupyter Notebook as our IDE because of its ease of use ability to execute code cell by cell. It integrates with markdown so that one can annotate and document your code on the fly! All in all, it is an excellent tool for teaching and learning Python before one migrates to more advanced tools like Spyder for serious scripting and development work. \n",
    "\n",
    "## Your best friends. \n",
    "\n",
    "In order to get the most from Python, your best source of reference is the \n",
    "[Python documentation](https://docs.python.org/3.6/). Getting good at Python is a matter using it regularly and familiarizing yourself with the keywords, constructs and commonly used idioms. \n",
    "\n",
    "Learn to use the Shift-Tab when coding. This activates a hovering tooltip that provides documentation for keywords, functions and even variables that you have declared in your environment. This convenient tooltip and be expanded into a pop-up window on your browser for easy reference. Use this often to reference function signatures, documentation and general help. \n",
    "\n",
    "Jupyter notebook comes with Tab completion. This quality of life assists you in typing code by listing possible autocompletion options so that you don't have to type everything out! Use Tab completion as often as you can. This makes coding faster and less tedious. Tab completion also allows you to check out various methods on classes which comes in handy when learning a library for the first time (like `matplotlib` or `seaborn`). \n",
    "\n",
    "Finally ask [Google](www.google.com). Once you have acquired enough \"vocabulary\", you can begin to query Google with your problem.  And more often that not, somehow has experienced the same conundrum and left a message on [Stackexchange](https://stackexchange.com). Browsing the solutions listed there is a powerful way to learn programming skills.  \n",
    "\n",
    "## The learning objectives for this unit \n",
    "\n",
    "The learning objectives of this first unit are: \n",
    "\n",
    "  * Getting around the Jupyter notebook. \n",
    "  * Learning how to `print(\"Hello world!\")` \n",
    "  * Using and coding with basic Python objects: `int`, `str`, `float` and `bool`. \n",
    "  * Using the `type` function. \n",
    "  * What are variables and valid variable names.\n",
    "  * Using the `list` object and `list` methods. \n",
    "  * Learning how to access items in `list`. Slicing and indexing. \n",
    "\n",
    "  \n",
    "\n",
    "# Getting around the Jupyter notebook \n",
    "_______________\n",
    "\n",
    "## Cells and colors, just remember, green is for go\n",
    "\n",
    "All code is written in cells. Cells are where code blocks go. You execute a cell by pressing Shift-Enter or pressing the \"play\" button. Or you could just click on the drop down menu and select \"Run cell\" but who would want to do that! \n",
    "\n",
    "In general, cells have two uses: One for writing \"live\" Python code which can be executed and one more to write documentation using markdown. To toggle between the two cell types, press Escape to exit from \"edit\" mode. The edges of the cell should turn blue. Now you are in \"command\" mode. Escape actually activates \"command\" mode. Enter activates \"edit\" mode. With the cell border coloured blue, press `M` to enter into markdown mode. You should see the `In [ ]:` prompt dissappear. Press Enter to change the border to green. This means you can now \"edit\" markdown. How does one change from markdown to a live coding cell? In \"command\" mode (remember blue border) press `Y`. Now the cell is \"hot\". When you Shift-Enter, you will execute code. If you happen to write markdown when in a \"coding\" cell, the Python kernel will shout at you. (Means raise an error message)\n",
    "\n",
    "### Practise makes perfect \n",
    "\n",
    "*Now its time for you to try. In the cell below, try switching to Markdown. Press Enter to activate \"edit\" mode and type some text in the cell. Press Shift-Enter and you should see the output rendered in html. Note that this is not coding yet* "
   ]
  },
  {
   "cell_type": "code",
   "execution_count": null,
   "metadata": {
    "collapsed": true
   },
   "outputs": [],
   "source": [
    "# change this cell into a Markdown cell. Then type something here and execute it (Shift-Enter)"
   ]
  },
  {
   "cell_type": "markdown",
   "metadata": {},
   "source": [
    "## Your first script \n",
    "\n",
    "It is a time honoured tradition that your very first program should be to print \"Hello world!\" How is this achieved in Python?"
   ]
  },
  {
   "cell_type": "code",
   "execution_count": 1,
   "metadata": {},
   "outputs": [
    {
     "name": "stdout",
     "output_type": "stream",
     "text": [
      "Hello world!\n"
     ]
    }
   ],
   "source": [
    "'''Make sure you are in \"edit\" mode and that this cell is for Coding ( You should see the In [ ]:)\n",
    "on the left of the cell.  '''\n",
    "\n",
    "print(\"Hello world!\")"
   ]
  },
  {
   "cell_type": "markdown",
   "metadata": {},
   "source": [
    "Notice that `Hello world!` is printed at the bottom of the cell as an output. In general, this is how output of a python code is displayed to you. \n",
    "\n",
    "`print` is a special function in Python. It's purpose is to print `str` objects to the console. In other words, it displays textual output. Notice that we pass an argument-in this case a string `\"Hello world!\"`- to the function. All arguments passed to the function must be enclosed in round brackets and this signals to the Python interpreter to execute a function named `print` with the argument `\"Hello world!\"`. \n",
    "\n",
    "### Exercise 1.1.1 or is it 1.1.2 ? \n",
    "*Your next exercise is to print your own name to the console. Remember to enclose your name in `\" \"` or `' '`* "
   ]
  },
  {
   "cell_type": "code",
   "execution_count": null,
   "metadata": {
    "collapsed": true
   },
   "outputs": [],
   "source": [
    "# print your name in this cell. "
   ]
  },
  {
   "cell_type": "markdown",
   "metadata": {},
   "source": [
    "## Commenting\n",
    "\n",
    "Commenting is a way to annotate and document code. There are two ways to do this: Inline using the # character or by using `''' <documentation block> '''`, the latter being multi-line and hence used mainly for documenting functions or classes. Comments enclosed using ` '''  ''''` style commenting are actually registed in Jupyter notebook and can be accessed from the Shift-Tab tooltip! \n",
    "\n",
    "One should use # style commenting very sparingly. By right, code should be clear enough that # inline comments are not needed. \n",
    "\n",
    "However, # has a very important function. It is used for debugging and trouble-shooting. This is because commented code sections are never executed when you execute a cell (Shift-Enter) \n",
    "\n",
    "# Python's building blocks\n",
    "_____\n",
    "\n",
    "Python is an **O**bject **O**riented **L**anguage. That means to *all* of python is made out of objects which are instances of `classes`. The main point here is that I am going to introduce 4 basic objects of Python which form the backbone of any program or script. \n",
    "\n",
    "  * Integers or `int`. \n",
    "  * Strings or `str`. You've met one of these: `\"Hello world!\"`. For those who know about character encoding, it is highly encouraged to code Python with `UTF-8` encoding. \n",
    "  * Float or `float`. Basically the computer version of real numbers. \n",
    "  * Boolens or `bool`. In Python, true and false are indicated by the reserved keywords `True` and `False`. Take note of the capitalized first letter.\n",
    "  \n",
    "## Numbers\n",
    "\n",
    "You can't call yourself a scientific computing language without the ability to deal with numbers. The basic arithmetic operations for numbers are exactly as you expect it to be\n",
    "  "
   ]
  },
  {
   "cell_type": "code",
   "execution_count": 2,
   "metadata": {},
   "outputs": [
    {
     "data": {
      "text/plain": [
       "8"
      ]
     },
     "execution_count": 2,
     "metadata": {},
     "output_type": "execute_result"
    }
   ],
   "source": [
    "# Addition \n",
    "5+3"
   ]
  },
  {
   "cell_type": "code",
   "execution_count": 3,
   "metadata": {},
   "outputs": [
    {
     "data": {
      "text/plain": [
       "-1"
      ]
     },
     "execution_count": 3,
     "metadata": {},
     "output_type": "execute_result"
    }
   ],
   "source": [
    "# Subtraction\n",
    "8-9"
   ]
  },
  {
   "cell_type": "code",
   "execution_count": 4,
   "metadata": {},
   "outputs": [
    {
     "data": {
      "text/plain": [
       "36"
      ]
     },
     "execution_count": 4,
     "metadata": {},
     "output_type": "execute_result"
    }
   ],
   "source": [
    "# Multiplication \n",
    "3*12"
   ]
  },
  {
   "cell_type": "code",
   "execution_count": 5,
   "metadata": {},
   "outputs": [
    {
     "data": {
      "text/plain": [
       "4.0"
      ]
     },
     "execution_count": 5,
     "metadata": {},
     "output_type": "execute_result"
    }
   ],
   "source": [
    "# Division\n",
    "48/12"
   ]
  },
  {
   "cell_type": "code",
   "execution_count": 16,
   "metadata": {},
   "outputs": [
    {
     "data": {
      "text/plain": [
       "4.0"
      ]
     },
     "execution_count": 16,
     "metadata": {},
     "output_type": "execute_result"
    }
   ],
   "source": [
    "# Exponentiation (There are better ways to take square root though)\n",
    "\n",
    "16**0.5"
   ]
  },
  {
   "cell_type": "markdown",
   "metadata": {},
   "source": [
    "Note the floating point answer. In previous versions of Python, `/` meant floor division. This is no longer the case in Python 3"
   ]
  },
  {
   "cell_type": "code",
   "execution_count": 6,
   "metadata": {},
   "outputs": [
    {
     "data": {
      "text/plain": [
       "1"
      ]
     },
     "execution_count": 6,
     "metadata": {},
     "output_type": "execute_result"
    }
   ],
   "source": [
    "# Residue class modulo n \n",
    "\n",
    "5%2"
   ]
  },
  {
   "cell_type": "markdown",
   "metadata": {},
   "source": [
    "In the above `5%2` means return me the remainder after 5 is divided by 2 (which is indeed 1). \n",
    "\n",
    "### Precedence\n",
    "\n",
    "A note on arithmetic precedence. As one expects, `()` have the highest precedence, following by `*` and `/`. Addition and subtraction have the lowest precedence. "
   ]
  },
  {
   "cell_type": "code",
   "execution_count": 7,
   "metadata": {},
   "outputs": [
    {
     "data": {
      "text/plain": [
       "2"
      ]
     },
     "execution_count": 7,
     "metadata": {},
     "output_type": "execute_result"
    }
   ],
   "source": [
    "# Guess the output before executing this cell. Come on, don't cheat! \n",
    "\n",
    "6%(1+3)"
   ]
  },
  {
   "cell_type": "markdown",
   "metadata": {},
   "source": [
    "It is interesting to note that the `%` operator is not distributive. \n",
    "\n",
    "### Variables \n",
    "\n",
    "In general, one does not have to declare variables in python before using it. We merely need to assign numbers to variables. In the computer, this means that a certain place in memory has been allocated to store that particular number. Assignment to variables is executed by the `=` operator. The equal sign in Python is the binary comparison `==` operator. \n",
    "\n",
    "Python is case sensitive. So a variable name `A` is different from `a`. Variables cannot begin with numbers and cannot have empty spaces between them. So `my variable` is not a valid variable. Usually what is done is to write `my_variable`\n",
    "\n",
    "After assigning numbers to variables, the variable can be used to represent the number in any arithmetic operation. "
   ]
  },
  {
   "cell_type": "code",
   "execution_count": 8,
   "metadata": {
    "collapsed": true
   },
   "outputs": [],
   "source": [
    "# Assignment \n",
    "\n",
    "x=1\n",
    "y=2"
   ]
  },
  {
   "cell_type": "code",
   "execution_count": 9,
   "metadata": {},
   "outputs": [
    {
     "data": {
      "text/plain": [
       "3"
      ]
     },
     "execution_count": 9,
     "metadata": {},
     "output_type": "execute_result"
    }
   ],
   "source": [
    "x+y"
   ]
  },
  {
   "cell_type": "code",
   "execution_count": 10,
   "metadata": {},
   "outputs": [
    {
     "data": {
      "text/plain": [
       "0.5"
      ]
     },
     "execution_count": 10,
     "metadata": {},
     "output_type": "execute_result"
    }
   ],
   "source": [
    "x/y"
   ]
  },
  {
   "cell_type": "markdown",
   "metadata": {},
   "source": [
    "Notice that after assignment, I can access the variables in a different cell. However, if you reassign a variable to a different number, the old values for that variable are overwritten. "
   ]
  },
  {
   "cell_type": "code",
   "execution_count": 12,
   "metadata": {},
   "outputs": [
    {
     "data": {
      "text/plain": [
       "5"
      ]
     },
     "execution_count": 12,
     "metadata": {},
     "output_type": "execute_result"
    }
   ],
   "source": [
    "x=5\n",
    "x+y-2"
   ]
  },
  {
   "cell_type": "markdown",
   "metadata": {},
   "source": [
    "Now try clicking back to the cell `x+y` and re-executing it. What do you the answer will be? \n",
    "\n",
    "Even though that cell was above our reassignment cell, nevertheless re-executing that cell means executing that block of code that the latest values for that variable. It is for this reason that one must be very careful with the order of execution of code blocks. In order to help us keep track of the order of execution, each cell has a counter next to it. Notice the `In [n]`. Higher values of `n` indicates more recent executions. \n",
    "\n",
    "Variables can also be reassigned "
   ]
  },
  {
   "cell_type": "code",
   "execution_count": 13,
   "metadata": {},
   "outputs": [
    {
     "name": "stdout",
     "output_type": "stream",
     "text": [
      "6\n"
     ]
    }
   ],
   "source": [
    "# For example \n",
    "\n",
    "x = x+1\n",
    "print(x)"
   ]
  },
  {
   "cell_type": "markdown",
   "metadata": {},
   "source": [
    "So what happened here? Well, if we recall `x` originally was assigned 5. Therefore `x+1` would give us `6`. This value is then reassigned to the exact same location in memory represented by the variable `x`. So now that piece of memory contains the value `6`. We then use the `print` function to display the content of `x`. \n",
    "\n",
    "As this is a often used idiom, Python has a convenience syntax for this kind assignment"
   ]
  },
  {
   "cell_type": "code",
   "execution_count": 14,
   "metadata": {},
   "outputs": [
    {
     "name": "stdout",
     "output_type": "stream",
     "text": [
      "6\n"
     ]
    }
   ],
   "source": [
    "# reset x to 5 \n",
    "\n",
    "x=5 \n",
    "x += 1\n",
    "print(x)"
   ]
  },
  {
   "cell_type": "code",
   "execution_count": null,
   "metadata": {
    "collapsed": true
   },
   "outputs": [],
   "source": [
    "x = 5 \n",
    "\n",
    "#What do you think the values of x will be for x -= 1, x *= 2 or x /= 2? \n",
    "# Test it out in the space below\n",
    "\n",
    "\n",
    "\n",
    "print(x)"
   ]
  },
  {
   "cell_type": "markdown",
   "metadata": {},
   "source": [
    "### Floating point precision \n",
    "\n",
    "All of the above applies equally to floating point numbers (or real numbers). However, we must be mindful of floating point precision. "
   ]
  },
  {
   "cell_type": "code",
   "execution_count": 17,
   "metadata": {},
   "outputs": [
    {
     "data": {
      "text/plain": [
       "0.30000000000000004"
      ]
     },
     "execution_count": 17,
     "metadata": {},
     "output_type": "execute_result"
    }
   ],
   "source": [
    "0.1+0.2"
   ]
  },
  {
   "cell_type": "markdown",
   "metadata": {},
   "source": [
    "The [following exerpt](https://docs.python.org/2/tutorial/floatingpoint.html) from the Python documentation explains what is happening quite clearly. \n",
    "To be fair, even our decimal system is inadequate to represent rational numbers like 1/3, 1/11 and so on. "
   ]
  },
  {
   "cell_type": "markdown",
   "metadata": {},
   "source": [
    "## Strings\n",
    "\n",
    "Strings are basically text. These are enclosed in `' '` or `\" \"`. The reason for having two ways of denoting strings is because we may need to nest a string within a string like in `'The quick brown fox \"jumped\" over the lazy old dog'`. This is especially useful when setting up database queries and the like. "
   ]
  },
  {
   "cell_type": "code",
   "execution_count": 18,
   "metadata": {},
   "outputs": [
    {
     "name": "stdout",
     "output_type": "stream",
     "text": [
      "5\n",
      "x\n"
     ]
    }
   ],
   "source": [
    "# Noting the difference between printing quoted variables (strings) and printing the variable itself.\n",
    "x = 5\n",
    "\n",
    "print(x)\n",
    "print('x')"
   ]
  },
  {
   "cell_type": "markdown",
   "metadata": {},
   "source": [
    "In the second print function, the text `'x'` is printed while in the first print function, it is the contents of `x` which is printed to the console. \n",
    "\n",
    "### String formatting\n",
    "\n",
    "Strings can be assigned to variables just like numbers. And these can be recalled in a print function."
   ]
  },
  {
   "cell_type": "code",
   "execution_count": 19,
   "metadata": {},
   "outputs": [
    {
     "name": "stdout",
     "output_type": "stream",
     "text": [
      "Tang U-Liang\n"
     ]
    }
   ],
   "source": [
    "my_name = 'Tang U-Liang'\n",
    "print(my_name)"
   ]
  },
  {
   "cell_type": "code",
   "execution_count": 25,
   "metadata": {},
   "outputs": [
    {
     "name": "stdout",
     "output_type": "stream",
     "text": [
      "Hello doctor, my name is Tang U-Liang. I am 35 years old. I weigh 70.2 kg\n",
      "Hi, I'm Tang U-Liang. Please register Tang U-Liang for this conference\n"
     ]
    }
   ],
   "source": [
    "# String formatting: Using the % \n",
    "age = 35\n",
    "print('Hello doctor, my name is %s. I am %d years old. I weigh %.1f kg' % (my_name, age, 70.25))\n",
    "\n",
    "# or using .format method\n",
    "\n",
    "print(\"Hi, I'm {name}. Please register {name} for this conference\".format(name=my_name))"
   ]
  },
  {
   "cell_type": "markdown",
   "metadata": {},
   "source": [
    "When using `%` to indicate string substitution, take note of the common formatting \"placeholders\" \n",
    "\n",
    "  * `%s` to substitue strings. \n",
    "  * `%d` for printing integer substitutions\n",
    "  * `%.1f` means to print a floating point number up to 1 decimal place. Note that there is *no* rounding\n",
    "  \n",
    "The utility of the `.format` method arises when the same string needs to printed in various places in a larger body of text. This avoids duplicating code. Also did you notice I used double quotation. Why?   \n",
    "\n",
    "More about string formats can be found in this excellent [blog post](https://pyformat.info/) "
   ]
  },
  {
   "cell_type": "code",
   "execution_count": null,
   "metadata": {
    "collapsed": true
   },
   "outputs": [],
   "source": []
  }
 ],
 "metadata": {
  "kernelspec": {
   "display_name": "Python 3",
   "language": "python",
   "name": "python3"
  },
  "language_info": {
   "codemirror_mode": {
    "name": "ipython",
    "version": 3
   },
   "file_extension": ".py",
   "mimetype": "text/x-python",
   "name": "python",
   "nbconvert_exporter": "python",
   "pygments_lexer": "ipython3",
   "version": "3.6.1"
  }
 },
 "nbformat": 4,
 "nbformat_minor": 2
}
