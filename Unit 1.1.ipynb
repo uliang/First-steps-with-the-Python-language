{
 "cells": [
  {
   "cell_type": "markdown",
   "metadata": {},
   "source": [
    "# Your first steps with Python\n",
    "\n",
    "## Introduction \n",
    "\n",
    "Python is a general purpose programming language. It is used extensively for scientific computing, data analytics and visualization, web development and software development. It has a wide user base and excellent library support. \n",
    "\n",
    "There are many ways to use and interact with the Python language. The first way is to access it directly from the command prompt and calling `python <script>.py`. This runs a script written in Python and does whatever you have programmed the computer to do. But scripts have to be written and how do we actually write Python scripts? \n",
    "\n",
    "Actually Python scripts are just `.txt` files. So you could just open a `.txt` file and write a script, saving the file with a `.py` extension. The downsides of this approach is obvious to anyone working with Windows. Usually, Python source code is written-not with Microsoft Word- but with and **I**ntegrated **D**evelopment **E**nvironment. An IDE combines a text editor with a running Python console to test code and actually do work with Python without switching from one program to another. If you learnt the C, or C++ language, you will be familiar with Vim. Other popular IDE's for Python are Pycharm, Spyder and the Jupyter Notebook. \n",
    "\n",
    "In this course, we will use the Jupyter Notebook as our IDE because of its ease of use ability to execute code cell by cell. It integrates with markdown so that one can annotate and document your code on the fly! All in all, it is an excellent tool for teaching and learning Python before one migrates to more advanced tools like Spyder for serious scripting and development work. \n",
    "\n",
    "## Your best friends. \n",
    "\n",
    "In order to get the most from Python, your best source of reference is the \n",
    "[Python documentation](https://docs.python.org/3.6/). Getting good at Python is a matter using it regularly and familiarizing yourself with the keywords, constructs and commonly used idioms. \n",
    "\n",
    "Learn to use the Shift-Tab when coding. This activates a hovering tooltip that provides documentation for keywords, functions and even variables that you have declared in your environment. This convenient tooltip and be expanded into a pop-up window on your browser for easy reference. Use this often to reference function signatures, documentation and general help. \n",
    "\n",
    "Jupyter notebook comes with Tab completion. This quality of life assists you in typing code by listing possible autocompletion options so that you don't have to type everything out! Use Tab completion as often as you can. This makes coding faster and less tedious. Tab completion also allows you to check out various methods on classes which comes in handy when learning a library for the first time (like `matplotlib` or `seaborn`). \n",
    "\n",
    "Finally ask [Google](www.google.com). Once you have acquired enough \"vocabulary\", you can begin to query Google with your problem.  And more often that not, somehow has experienced the same conundrum and left a message on [Stackexchange](https://stackexchange.com). Browsing the solutions listed there is a powerful way to learn programming skills.  \n",
    "\n",
    "## The learning objectives for this unit \n",
    "\n",
    "The learning objectives of this first unit are: \n",
    "\n",
    "  * Getting around the Jupyter notebook. \n",
    "  * Learning how to `print(\"Hello world!\")` \n",
    "  * Using and coding with basic Python objects: `int`, `str`, `float` and `bool`. \n",
    "  * Using the `type` function. \n",
    "  * What are variables and valid variable names.\n",
    "  * Using the `list` object and `list` methods. \n",
    "  * Learning how to access items in `list`. Slicing and indexing. \n",
    "\n",
    "  "
   ]
  },
  {
   "cell_type": "code",
   "execution_count": null,
   "metadata": {
    "collapsed": true
   },
   "outputs": [],
   "source": []
  }
 ],
 "metadata": {
  "kernelspec": {
   "display_name": "Python 3",
   "language": "python",
   "name": "python3"
  },
  "language_info": {
   "codemirror_mode": {
    "name": "ipython",
    "version": 3
   },
   "file_extension": ".py",
   "mimetype": "text/x-python",
   "name": "python",
   "nbconvert_exporter": "python",
   "pygments_lexer": "ipython3",
   "version": "3.6.1"
  }
 },
 "nbformat": 4,
 "nbformat_minor": 2
}
