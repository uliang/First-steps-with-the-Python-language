{
 "cells": [
  {
   "cell_type": "markdown",
   "metadata": {},
   "source": [
    "# Your first steps with Python\n",
    "____________________________\n",
    "\n",
    "## Introduction \n",
    "\n",
    "Python is a general purpose programming language. It is used extensively for scientific computing, data analytics and visualization, web development and software development. It has a wide user base and excellent library support. \n",
    "\n",
    "There are many ways to use and interact with the Python language. The first way is to access it directly from the command prompt and calling `python <script>.py`. This runs a script written in Python and does whatever you have programmed the computer to do. But scripts have to be written and how do we actually write Python scripts? \n",
    "\n",
    "Actually Python scripts are just `.txt` files. So you could just open a `.txt` file and write a script, saving the file with a `.py` extension. The downsides of this approach is obvious to anyone working with Windows. Usually, Python source code is written-not with Microsoft Word- but with and **I**ntegrated **D**evelopment **E**nvironment. An IDE combines a text editor with a running Python console to test code and actually do work with Python without switching from one program to another. If you learnt the C, or C++ language, you will be familiar with Vim. Other popular IDE's for Python are Pycharm, Spyder and the Jupyter Notebook. \n",
    "\n",
    "In this course, we will use the Jupyter Notebook as our IDE because of its ease of use ability to execute code cell by cell. It integrates with markdown so that one can annotate and document your code on the fly! All in all, it is an excellent tool for teaching and learning Python before one migrates to more advanced tools like Spyder for serious scripting and development work. \n",
    "\n",
    "## Your best friends. \n",
    "\n",
    "In order to get the most from Python, your best source of reference is the \n",
    "[Python documentation](https://docs.python.org/3.6/). Getting good at Python is a matter using it regularly and familiarizing yourself with the keywords, constructs and commonly used idioms. \n",
    "\n",
    "Learn to use the Shift-Tab when coding. This activates a hovering tooltip that provides documentation for keywords, functions and even variables that you have declared in your environment. This convenient tooltip and be expanded into a pop-up window on your browser for easy reference. Use this often to reference function signatures, documentation and general help. \n",
    "\n",
    "Jupyter notebook comes with Tab completion. This quality of life assists you in typing code by listing possible autocompletion options so that you don't have to type everything out! Use Tab completion as often as you can. This makes coding faster and less tedious. Tab completion also allows you to check out various methods on classes which comes in handy when learning a library for the first time (like `matplotlib` or `seaborn`). \n",
    "\n",
    "Finally ask [Google](www.google.com). Once you have acquired enough \"vocabulary\", you can begin to query Google with your problem.  And more often that not, somehow has experienced the same conundrum and left a message on [Stackexchange](https://stackexchange.com). Browsing the solutions listed there is a powerful way to learn programming skills.  \n",
    "\n",
    "## The learning objectives for this unit \n",
    "\n",
    "The learning objectives of this first unit are: \n",
    "\n",
    "  * Getting around the Jupyter notebook. \n",
    "  * Learning how to `print(\"Hello world!\")` \n",
    "  * Using and coding with basic Python objects: `int`, `str`, `float` and `bool`. \n",
    "  * Using the `type` function. \n",
    "  * What are variables and valid variable names.\n",
    "  * Using the `list` object and `list` methods. \n",
    "  * Learning how to access items in `list`. Slicing and indexing. \n",
    "\n",
    "  \n",
    "\n",
    "# Getting around the Jupyter notebook \n",
    "_______________\n",
    "\n",
    "## Cells and colors, just remember, green is for go\n",
    "\n",
    "All code is input into cells. Cells are where code blocks go. You execute a cell by pressing Shift-Enter or pressing the \"play\" button. Or you could just click on the drop down menu and select \"Run cell\" but who would want to do that! \n",
    "\n",
    "In general, cells have two uses: One for writing \"live\" Python code which can be executed and one more to write documentation using markdown. To toggle between the two cell types, press Escape to exit from \"edit\" mode. The edges of the cell should turn blue. Now you are in \"command\" mode. Escape actually activates \"command\" mode. Enter activates \"edit\" mode. With the cell border coloured blue, press `M` to enter into markdown mode. You should see the `In [ ]:` prompt dissappear. Press Enter to change the border to green. This means you can now \"edit\" markdown. How does one change from markdown to a live coding cell? In \"command\" mode (remember blue border) press `Y`. Now the cell is \"hot\". When you Shift-Enter, you will execute code. If you happen to write markdown when in a \"coding\" cell, the Python kernel will shout at you. (Means raise an error message)\n",
    "\n",
    "### Practise makes perfect \n",
    "\n",
    "*Now its time for you to try. In the cell below, try switching to Markdown. Press Enter to activate \"edit\" mode and type some text in the cell. Press Shift-Enter and you should see the output rendered in html. Note that this is not coding yet* "
   ]
  },
  {
   "cell_type": "code",
   "execution_count": null,
   "metadata": {
    "collapsed": true
   },
   "outputs": [],
   "source": [
    "# change this cell into a Markdown cell. Then type something here and execute it (Shift-Enter)"
   ]
  },
  {
   "cell_type": "markdown",
   "metadata": {},
   "source": [
    "## Your first script \n",
    "\n",
    "It is a time honoured tradition that your very first program should be to print \"Hello world!\" How is this achieved in Python?"
   ]
  },
  {
   "cell_type": "code",
   "execution_count": 1,
   "metadata": {},
   "outputs": [
    {
     "name": "stdout",
     "output_type": "stream",
     "text": [
      "Hello world!\n"
     ]
    }
   ],
   "source": [
    "'''Make sure you are in \"edit\" mode and that this cell is for Coding ( You should see the In [ ]:)\n",
    "on the left of the cell.  '''\n",
    "\n",
    "print(\"Hello world!\")"
   ]
  },
  {
   "cell_type": "markdown",
   "metadata": {},
   "source": [
    "Notice that `Hello world!` is printed at the bottom of the cell as an output. In general, this is how output of a python code is displayed to you. \n",
    "\n",
    "`print` is a special function in Python. It's purpose is to print `str` objects to the console. In other words, it displays textual output. Notice that we pass an argument-in this case a string `\"Hello world!\"`- to the function. All arguments passed to the function must be enclosed in round brackets and this signals to the Python interpreter to execute a function named `print` with the argument `\"Hello world!\"`. \n",
    "\n",
    "### Exercise 1.1.1 or is it 1.1.2 ? \n",
    "*Your next exercise is to print your own name to the console. Remember to enclose your name in `\" \"` or `' '`* "
   ]
  },
  {
   "cell_type": "code",
   "execution_count": null,
   "metadata": {
    "collapsed": true
   },
   "outputs": [],
   "source": []
  }
 ],
 "metadata": {
  "kernelspec": {
   "display_name": "Python 3",
   "language": "python",
   "name": "python3"
  },
  "language_info": {
   "codemirror_mode": {
    "name": "ipython",
    "version": 3
   },
   "file_extension": ".py",
   "mimetype": "text/x-python",
   "name": "python",
   "nbconvert_exporter": "python",
   "pygments_lexer": "ipython3",
   "version": "3.6.1"
  }
 },
 "nbformat": 4,
 "nbformat_minor": 2
}
