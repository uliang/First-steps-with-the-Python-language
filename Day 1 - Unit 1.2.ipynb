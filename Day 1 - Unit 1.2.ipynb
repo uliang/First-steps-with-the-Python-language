{
 "cells": [
  {
   "cell_type": "code",
   "execution_count": null,
   "metadata": {
    "collapsed": true
   },
   "outputs": [],
   "source": [
    "## future import \n",
    "from __future__ import division, print_function"
   ]
  },
  {
   "cell_type": "markdown",
   "metadata": {},
   "source": [
    "# 5. Getting stuff done with Python\n",
    "____\n",
    "\n",
    "In this unit, we are going to  learn a new data structure with richer features compared to lists. The problem with lists, while flexible enough to store different data types in one variable, is that it does not provide us a way to \"label\" that information with meta data. For example in a list `['Andy', 28, 980.15]`, we would like to be able to associate with the value `Andy` a label or key `'name'` so that we don't have to keep on recalling that a staff's name is located in the first position of the list.  \n",
    "\n",
    "Secondly, we will cover the `for` and `if else` construct. \n",
    "Technically speaking, armed with the basic tools that we have learnt from the previous unit, we *could* go about writing code and basic scripts. But with these keywords, what can achieved is rather limited. Worse, the process of writing code will be tedious and unenlightening. From a scientific and analytic point of view, writing code is not only an ends to obtaining the results we want, but a way for us to structure our thinking and come to an understanding of the problem. \n",
    "\n",
    "## 5.1 Learning objectives for this unit\n",
    "\n",
    "1. To use the `dict` data structure and related methods. \n",
    "\n",
    "1. To apply boolen conditionals to control `if`, `if else` and `if elif` statements. \n",
    "\n",
    "1. To use the `for` loop to iterate through repetitive calculations. \n",
    "\n",
    "# 6. The dictionary\n",
    "____\n",
    "\n",
    "Lists - while easy to create- have the weakness that one cannot easily retrieve data that has been already stored in it. Since the primary means of retrieving information in a list is via indexing and slicing, you need to know the exact integer positions of each data stored in the list. This can (and will often) lead to human errors in programming. Furthermore, an integer based recall is unenlightening. Other people who reads your code will find it difficult to understand what is being written. \n",
    "\n",
    "To remedy this, Python has built into its base package a data structure called **dictionaries**. A dictionary is simply a key-value pairing like so $$(key_1, value_1), (key_2, value_2)\\ldots, (key_n, value_n)$$ where $key_i$ are usually (but not always) strings and $value_i$ any Python object (`int`, `str`, `list` and even other `dict`!) \n",
    "\n",
    "If `my_dictionary` is a dictionary. Then calling `my_dictionary[key_1]` will return you the value associated with `key_1` in `my_dictionary`, say `value_1`. \n",
    "\n",
    "## 6.1 Creating dictionaries\n",
    "\n",
    "Dictionaries are created using curly braces `{ }`. Inside the curly braces, we simply list down all the key-value pairs with a colon `:`. Different pairs are seperated by a `,`. "
   ]
  },
  {
   "cell_type": "code",
   "execution_count": null,
   "metadata": {
    "collapsed": true
   },
   "outputs": [],
   "source": [
    "# creating a dictionary and assigning it to a variable \n",
    "\n",
    "staff = {'name': 'Andy', 'age': 28, 'email': 'andy@company.com' }"
   ]
  },
  {
   "cell_type": "code",
   "execution_count": null,
   "metadata": {},
   "outputs": [],
   "source": [
    "staff['name']"
   ]
  },
  {
   "cell_type": "code",
   "execution_count": null,
   "metadata": {},
   "outputs": [],
   "source": [
    "staff['age']"
   ]
  },
  {
   "cell_type": "code",
   "execution_count": null,
   "metadata": {},
   "outputs": [],
   "source": [
    "print(staff['email'])"
   ]
  },
  {
   "cell_type": "code",
   "execution_count": null,
   "metadata": {},
   "outputs": [],
   "source": [
    "# A dictionary is of class dict \n",
    "print(type(staff))"
   ]
  },
  {
   "cell_type": "code",
   "execution_count": null,
   "metadata": {},
   "outputs": [],
   "source": [
    "# list of all keys, note the brackets at the end. \n",
    "# .keys is a method associated to dictionaries\n",
    "\n",
    "staff.keys()"
   ]
  },
  {
   "cell_type": "code",
   "execution_count": null,
   "metadata": {},
   "outputs": [],
   "source": [
    "# list of all values, in no particular order\n",
    "staff.values()"
   ]
  },
  {
   "cell_type": "code",
   "execution_count": null,
   "metadata": {},
   "outputs": [],
   "source": [
    "# list all key-value pairings using .items\n",
    "\n",
    "staff.items()"
   ]
  },
  {
   "cell_type": "markdown",
   "metadata": {},
   "source": [
    "## 6.2 Updating dictionaries \n",
    "\n",
    "Very often, we need to change dictionary values and/or add more entries to our dictionary. "
   ]
  },
  {
   "cell_type": "code",
   "execution_count": null,
   "metadata": {},
   "outputs": [],
   "source": [
    "# Hey, Andy mistakenly keyed in his age. He is actually 29 years old! \n",
    "\n",
    "staff['age'] = 29\n",
    "print(staff)"
   ]
  },
  {
   "cell_type": "code",
   "execution_count": null,
   "metadata": {},
   "outputs": [],
   "source": [
    "# HR wants us to record down his staff ID. \n",
    "\n",
    "staff['id'] = 12345 \n",
    "print(staff)"
   ]
  },
  {
   "cell_type": "code",
   "execution_count": null,
   "metadata": {},
   "outputs": [],
   "source": [
    "# Let's check the list of keys\n",
    "staff.keys()"
   ]
  },
  {
   "cell_type": "markdown",
   "metadata": {},
   "source": [
    "An implication of this is that we can start with an empty dictionary and add keys as we go along. \n",
    "\n",
    "And empty dictionary is created by assigning a variable to an instance of class `dict` by calling `dict()`. "
   ]
  },
  {
   "cell_type": "code",
   "execution_count": null,
   "metadata": {},
   "outputs": [],
   "source": [
    "favourite_food = dict() # You could also type favourite_food = {}\n",
    "print(favourite_food)"
   ]
  },
  {
   "cell_type": "markdown",
   "metadata": {},
   "source": [
    "### 6.2.1 Dictionary exercise \n",
    "\n",
    "*Here's what I want you to do. Go around the room and find out the favourite food of three colleagues here. Then update this empty dictionary with 3 key-value pairings where keys are your colleague's name and value his/her favourite food. Have fun!* "
   ]
  },
  {
   "cell_type": "code",
   "execution_count": null,
   "metadata": {
    "collapsed": true
   },
   "outputs": [],
   "source": [
    "# update your dictionary here \n",
    "\n",
    "\n",
    "# and print the dictionary \n",
    "print(favourite_food)"
   ]
  },
  {
   "cell_type": "markdown",
   "metadata": {},
   "source": [
    "### 6.2.2 Using the `.update` method\n",
    "\n",
    "To combine two dictionaries, we use the `.update` method.  "
   ]
  },
  {
   "cell_type": "code",
   "execution_count": null,
   "metadata": {
    "collapsed": true
   },
   "outputs": [],
   "source": [
    "staff.update({'salary': 980.15, 'department':'finance', 'colleagues': ['George', 'Liz']})"
   ]
  },
  {
   "cell_type": "code",
   "execution_count": null,
   "metadata": {},
   "outputs": [],
   "source": [
    "# Who are Andy's colleagues? Enter answer below \n",
    "\n"
   ]
  },
  {
   "cell_type": "code",
   "execution_count": null,
   "metadata": {},
   "outputs": [],
   "source": [
    "# Which department does he work in? Enter answer below\n",
    "\n"
   ]
  },
  {
   "cell_type": "markdown",
   "metadata": {},
   "source": [
    "### 6.2.3 Creating dictionaries using kwargs\n",
    "\n",
    "Dictionaries can also be created by calling `dict()` with *keyword arguments* (or kwargs). When we create dictionaries like this, the key value pairs are written as \n",
    "$$ key_1 = value_1, key_2 = value_2, \\ldots $$ again each seperated by a comma. "
   ]
  },
  {
   "cell_type": "code",
   "execution_count": null,
   "metadata": {
    "collapsed": true
   },
   "outputs": [],
   "source": [
    "my_favourite_things = dict(food=\"Assam Laksa\", music=\"classical\", number = 2)"
   ]
  },
  {
   "cell_type": "code",
   "execution_count": null,
   "metadata": {},
   "outputs": [],
   "source": [
    "# my favourite number \n",
    "\n",
    "my_favourite_things['number']"
   ]
  },
  {
   "cell_type": "markdown",
   "metadata": {},
   "source": [
    "Note from the example above that when creating dictionaries, *DO NOT* enclose the keys within quotation marks. However, when accessing the value of a dictionary by its key, you *MUST* use quotation marks. "
   ]
  },
  {
   "cell_type": "code",
   "execution_count": null,
   "metadata": {},
   "outputs": [],
   "source": [
    "# An error\n",
    "\n",
    "my_favourite_things[food]"
   ]
  },
  {
   "cell_type": "code",
   "execution_count": null,
   "metadata": {},
   "outputs": [],
   "source": [
    "# ...but this is correct \n",
    "\n",
    "food = 'food'\n",
    "\n",
    "my_favourite_things[food]"
   ]
  },
  {
   "cell_type": "markdown",
   "metadata": {},
   "source": [
    "# 7. `If` and boolen conditionals\n",
    "___\n",
    "\n",
    "Any algorithm worth its salt will have conditionals in it. Very rarely does an algorithm just proceed in a linear fashion, one step following another step. More often than not, one step will follow from another if some condition is satisfied. \n",
    "\n",
    "This situation can be programmed in Python by using the `if` keyword. The general construct of an `if` statement looks like this: \n",
    "\n",
    "`if` condition `:`\n",
    "\n",
    "    do something\n",
    "    \n",
    "Python will only execute the code block `do something` only if `condition` evaluate to `True`. Otherwise it ignores it. Notice the lack of `{ }` surrounding the code block to be executed. The Python interpreter relies on *indentation* and *newline* to \"know\" which code block is conditioned on. \n",
    "\n",
    "This enforces good coding style and makes it so nice to program with Python. No more worrying about unmatched braces! \n",
    "\n",
    "## 7.1 Conditionals \n",
    "\n",
    "Since conditionals are logical statements, we need some binary comparison operators \n",
    "\n",
    "  * `==` logical equals to \n",
    "  * `>` strictly greater than\n",
    "  * `<` strictly less than\n",
    "  * `!=` logical not equals to \n",
    "  \n",
    "We can create compound statements by using the keywords `or` and `and`. Their bitwise versions are `|` and `&`.  "
   ]
  },
  {
   "cell_type": "code",
   "execution_count": null,
   "metadata": {},
   "outputs": [],
   "source": [
    "# examples of binary comparison \n",
    "\n",
    "1 < 2"
   ]
  },
  {
   "cell_type": "code",
   "execution_count": null,
   "metadata": {},
   "outputs": [],
   "source": [
    "# compound statements \n",
    "\n",
    "1 < 2 or 1 == 2"
   ]
  },
  {
   "cell_type": "code",
   "execution_count": null,
   "metadata": {},
   "outputs": [],
   "source": [
    "# using bitwise operators \n",
    "\n",
    "1<2 & 1==2"
   ]
  },
  {
   "cell_type": "markdown",
   "metadata": {},
   "source": [
    "Here is our first example using the `if` keyword. "
   ]
  },
  {
   "cell_type": "code",
   "execution_count": null,
   "metadata": {},
   "outputs": [],
   "source": [
    "x = 300\n",
    "\n",
    "if x == 300:\n",
    "    print('This is Sparta!')"
   ]
  },
  {
   "cell_type": "markdown",
   "metadata": {},
   "source": [
    "The variable `x` has been assigned the value `300`. When Python sees the statement `if x == 300:` Python checks the conditional `x==300` and evaluates it. Since x was assigned the value `300`, the conditional is indeed `True`. When this happens, it executes the indented code block below the conditional, in this case `print` the string `'This is Sparta!'`"
   ]
  },
  {
   "cell_type": "code",
   "execution_count": null,
   "metadata": {},
   "outputs": [],
   "source": [
    "y = 13\n",
    "\n",
    "print(y)\n",
    "if y % 2 == 0:\n",
    "    print('This is an even number')\n",
    "\n",
    "print(\"I guess it's odd then\")"
   ]
  },
  {
   "cell_type": "markdown",
   "metadata": {},
   "source": [
    "The conditional checks and see whether the remainder of 13 when divided by 2 is 0. (Recall that's what `%` does.) Since 13 returns 1 remainder when divided by 2, the condition is false. Hence the string `'This is an even number'` is not printed. \n",
    "\n",
    "## 7.2 `if else` statements\n",
    "\n",
    "If you look at the previous example,  one can see an obvious problem with this block of code. What if `y=14`? Then the output would consist of two print statements `'This is an even number'` and followed by `\"I guess it's odd then\"`. This is not desireable. In fact we want to print `'This is an even number'` only when `y` is even and `\"I guess it's odd then\"` only when `y` is odd. To code this into Python, we use the `else` keyword. \n",
    "\n",
    "Code blocks under the `else` keyword are executed when the conditionals evaluate to `False`. \n",
    "\n",
    "The format of of `if else` statements are as below: \n",
    "\n",
    "`if` condition: \n",
    "    \n",
    "    do something \n",
    "\n",
    "`else`:\n",
    "    \n",
    "    do something else\n",
    "  \n",
    "  "
   ]
  },
  {
   "cell_type": "code",
   "execution_count": null,
   "metadata": {},
   "outputs": [],
   "source": [
    "y = 22 \n",
    "\n",
    "if y%2 ==0:\n",
    "    print(\"{} is an even number\".format(y))\n",
    "else:\n",
    "    print(\"{} is an odd number\".format(y))"
   ]
  },
  {
   "cell_type": "code",
   "execution_count": null,
   "metadata": {},
   "outputs": [],
   "source": [
    "y = 13 \n",
    "\n",
    "if y%2 ==0:\n",
    "    print(\"{} is an even number\".format(y))\n",
    "else:\n",
    "    print(\"{} is an odd number\".format(y))"
   ]
  },
  {
   "cell_type": "code",
   "execution_count": null,
   "metadata": {},
   "outputs": [],
   "source": [
    "# Nested if else statements\n",
    "\n",
    "y = 25 \n",
    "\n",
    "remainder = y%3\n",
    "\n",
    "if remainder == 0:\n",
    "    print(\"{} is divisible by 3\".format(y))\n",
    "else:\n",
    "    print(\"{} is not divisible by 3\".format(y))\n",
    "    if remainder ==1:\n",
    "        print(\"But has remainder {}\".format(remainder))\n",
    "    else:\n",
    "        print(\"But has remainder {}\".format(remainder))"
   ]
  },
  {
   "cell_type": "markdown",
   "metadata": {},
   "source": [
    "*Try re-executing the cell above with various values of `y` and see the effect on the output.* \n",
    "\n",
    "Nested `if else` statements make for horrible coding. It makes code hard to read and understand. Surely there must be a better way! \n",
    "\n",
    "## 7.3 `elif` to rescue\n",
    "\n",
    "We use `elif` when we need to test conditionals in a sequential manner. A sequence of conditionals is tested, one after another until the first `True` condition is encountered. Then, the code block corresponding to that conditional is executed and program continues on *without* checking the other conditionals. \n",
    "\n",
    "The format of `elif` statements looks like this: \n",
    "\n",
    "`if` $condition_1$:\n",
    "\n",
    "    do code 1\n",
    "`elif` $condition_2$:\n",
    "\n",
    "    do code 2\n",
    "\n",
    "$\\vdots$\n",
    "\n",
    "`elif` $condition_n$:\n",
    "    \n",
    "    do code n\n",
    "    \n",
    "`elif` chains can be \"terminated\" either by an `elif` statement itself or by an `else` if there is no final conditional to be evaluated. \n",
    "\n",
    "Let's try to refactor (recode) the nested `if else` statements above using the `elif` keyword. "
   ]
  },
  {
   "cell_type": "code",
   "execution_count": null,
   "metadata": {},
   "outputs": [],
   "source": [
    "y=25\n",
    "\n",
    "remainder = y%3\n",
    "\n",
    "if remainder == 0:\n",
    "    div = 'is'\n",
    "    s = 'Hence'\n",
    "elif remainder == 1:\n",
    "    div = 'is not'\n",
    "    s = 'But'\n",
    "elif remainder == 2:\n",
    "    div = 'is not'\n",
    "    s = 'But'\n",
    "    \n",
    "print('{} {} divisible by 3\\n{} has remainder {}'.format(y, div, s, remainder)) "
   ]
  },
  {
   "cell_type": "markdown",
   "metadata": {},
   "source": [
    "See how much more elegant this is instead of nested `if else` statements. \n",
    "\n",
    "Now let's try another example. This time we use `elif` to program Python to assign letter grades to student marks on an an exam. \n",
    "Here are the letter grade and their assigned intervals. \n",
    "\n",
    "| Grades | Interval       |\n",
    "|:--------:|:----------:|\n",
    "|A |[80, 100] |\n",
    "|B |[70, 80) |\n",
    "|C |[60, 70) |\n",
    "|D | [50, 60) | \n",
    "|E | [45, 50) |\n",
    "|F | [0, 45)| "
   ]
  },
  {
   "cell_type": "code",
   "execution_count": null,
   "metadata": {},
   "outputs": [],
   "source": [
    "marks = 78.35\n",
    "\n",
    "if marks >= 80:\n",
    "    grade = 'A'\n",
    "elif marks >= 70:\n",
    "    grade = 'B'\n",
    "elif marks >= 60:\n",
    "    grade = 'C'\n",
    "elif marks >= 50:\n",
    "    grade = 'D'\n",
    "elif marks >= 45:\n",
    "    grade = 'E'\n",
    "else:\n",
    "    grade = 'F'\n",
    "\n",
    "print('Student obtained %.1f marks in the test and hence is awarded %s for this module' % (marks, grade))"
   ]
  },
  {
   "cell_type": "markdown",
   "metadata": {},
   "source": [
    "As before, play around with the various values of marks to make sure that `elif` structure is working as intended. Notice that I phrased the conditional only to check agains a lower bound. This is because Python will only execute the code block corresponding to *first* `True` conditional in the `elif` sequence. Even if subsequent conditionals evaluate to true, their code is not run. \n",
    "\n",
    "# 8. Performing repetitive tasks. Using the `for` loop\n",
    "________\n",
    "\n",
    "Most algorithms consist of repeating a certain calculations or computer tasks in an almost similiar manner. To give a scenario, I could instruct Python to `print` the names of three staff members to the output. I could go about fulfilling this task by writing the following code \n",
    "\n",
    "    print(\"Staff member Lisa\")\n",
    "    print(\"Staff member Mark\")\n",
    "    print(\"Staff member Andy\")\n",
    "\n",
    "Clearly this is repetitive and tedious. The `for` keyword allows us to simplify code by writing a single intruction - here `print` and looping this over a `list` consisting of staff names `[Lisa, Mark, Andy]`. \n",
    "\n",
    "The general format of a `for` loop is given by the following: \n",
    "\n",
    "    for item_n in list:\n",
    "\n",
    "        do code substituted with item_n\n",
    "\n",
    "## 8.1 How a `for` loop works\n",
    "\n",
    "Let's start by doing the above by looping over the index of the list. The way it is usually done in Javascript or C is to  declare a \"counter variable\" `i` and increment it by one to perform the next loop of the algorithm. We could do something like this in Python. "
   ]
  },
  {
   "cell_type": "code",
   "execution_count": null,
   "metadata": {},
   "outputs": [],
   "source": [
    "staff = ['Lisa', 'Mark', 'Andy']\n",
    "\n",
    "for i in range(0,3): # range(0,3) is a function that produces a sequence of numbers in the form of a list: [0,1,2]\n",
    "    print(\"Staff member \"+staff[i])"
   ]
  },
  {
   "cell_type": "markdown",
   "metadata": {},
   "source": [
    "But Python allows us to write a more readable form of the for loop. So the following is equivalent to the above and is preferred. "
   ]
  },
  {
   "cell_type": "code",
   "execution_count": null,
   "metadata": {},
   "outputs": [],
   "source": [
    "for staff_name in staff:\n",
    "    print(\"Staff member \"+ staff_name)"
   ]
  },
  {
   "cell_type": "markdown",
   "metadata": {},
   "source": [
    "Note that the \"counter variable\" `staff_name` is actually a variable containing the current item in the list as the loop progresses. I could have used any name I wanted for the variable - I could use `i` to represent the staff's name. But I chose `staff_name` for readability purposes. As the variable `staff_name` runs through each item of `staff`, the code block `print` is executed with the current value of `staff_name`. Once that is done, the variable is updated with the next item in the list and the block is executed once more. This proceeds until the end of the list is reached and the `for` loop terminates. \n",
    "\n",
    "## 8.2 Combining `for` and `if` statements\n",
    "\n",
    "To further control what each iteration of the `for` loop does, we can combine `if` statements within `for` statements to trigger certain instructions when   a particular iteration fulfils certain conditions. \n",
    "\n",
    "If we need to exit a `for` loop prematurely, we can use the `break` keyword. This is usually used in conjuction with `if`. When conditions for `break` is fulfilled, the `for` loop terminates immediately. Python will not evaluate `for` statements for remaining items in the iterating list. "
   ]
  },
  {
   "cell_type": "code",
   "execution_count": null,
   "metadata": {},
   "outputs": [],
   "source": [
    "# A common programming interview task. Print 'foo' if x is divisible by 3 and 'bar' if it is divisible by 5 and 'baz' \n",
    "# if x is divisible by both 3 and 5. Do this for numbers 1 to 15. \n",
    "\n",
    "for num in range(1,16): # range(1,16) produces a list of numbers started from 1 and ending at 15. \n",
    "    if num % 3 == 0 and num % 5 !=0:\n",
    "        print('%d foo' % (num))\n",
    "    elif num % 5 == 0 and num % 3 != 0:\n",
    "        print('%d bar' % (num))\n",
    "    elif num % 5 == 0 and num % 3 == 0:\n",
    "        print('%d baz' % (num))\n",
    "    else:\n",
    "        print('%d' % (num))"
   ]
  },
  {
   "cell_type": "markdown",
   "metadata": {},
   "source": [
    "Here's a more mathematical usage of the `for` statement. Suppose we want to compute the decimal expansion of $\\sqrt{2}$ accurate to 3 decimal places.After searching [Wikipedia](https://en.wikipedia.org/wiki/Square_root_of_2#Computation_algorithms), I came up with this recursive formula $$\\begin{align*}a_0 &=1 \\\\ a_{n+1} &= \\frac{a_n}{2}+\\frac{1}{a_n}\\end{align*}$$  Here's how we could implement this. "
   ]
  },
  {
   "cell_type": "code",
   "execution_count": null,
   "metadata": {},
   "outputs": [],
   "source": [
    "max_iter = 10\n",
    "a = 1\n",
    "\n",
    "# Since _ is considered a valid variable name, we can use this to\n",
    "# \"suppress\" counting indices. \n",
    "for _ in range(0, max_iter): \n",
    "    a_next = a/2.0 + 1/a\n",
    "\n",
    "    if abs(a_next-a) < 1e-4: # You can use engineering format numbers in Python\n",
    "        print(\"Required accuracy found! Breaking out of the loop.\")\n",
    "        break  \n",
    "    \n",
    "    a = a_next\n",
    "    \n",
    "print(\"Approximation of sqrt(2) is: %.3f\" % (a))        "
   ]
  },
  {
   "cell_type": "markdown",
   "metadata": {},
   "source": [
    "### 8.2.1 Your mission, should you choose to accept it \n",
    "\n",
    "*...is to list down all prime numbers less than 100.* \n",
    "\n",
    "A prime number $p$ is a number which is divisible only by 1 and itself. "
   ]
  },
  {
   "cell_type": "code",
   "execution_count": null,
   "metadata": {},
   "outputs": [],
   "source": [
    "# Answer\n",
    "\n",
    "\n",
    "\n",
    "\n",
    "\n",
    "\n"
   ]
  },
  {
   "cell_type": "markdown",
   "metadata": {},
   "source": [
    "Expected output: \n",
    "\n",
    "`2\n",
    "3\n",
    "5\n",
    "7\n",
    "11\n",
    "13\n",
    "17\n",
    "19\n",
    "23\n",
    "29\n",
    "31\n",
    "37\n",
    "41\n",
    "43\n",
    "47\n",
    "53\n",
    "59\n",
    "61\n",
    "67\n",
    "71\n",
    "73\n",
    "79\n",
    "83\n",
    "89\n",
    "97`"
   ]
  },
  {
   "cell_type": "code",
   "execution_count": null,
   "metadata": {
    "collapsed": true
   },
   "outputs": [],
   "source": []
  }
 ],
 "metadata": {
  "kernelspec": {
   "display_name": "Python 2",
   "language": "python",
   "name": "python2"
  },
  "language_info": {
   "codemirror_mode": {
    "name": "ipython",
    "version": 2
   },
   "file_extension": ".py",
   "mimetype": "text/x-python",
   "name": "python",
   "nbconvert_exporter": "python",
   "pygments_lexer": "ipython2",
   "version": "2.7.13"
  }
 },
 "nbformat": 4,
 "nbformat_minor": 2
}
