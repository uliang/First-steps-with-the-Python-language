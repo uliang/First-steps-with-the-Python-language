{
 "cells": [
  {
   "cell_type": "code",
   "execution_count": 12,
   "metadata": {
    "collapsed": true
   },
   "outputs": [],
   "source": [
    "from __future__ import print_function, division"
   ]
  },
  {
   "cell_type": "markdown",
   "metadata": {},
   "source": [
    "# 1. Visualisation with  `matplotlib`\n",
    "________\n",
    "The library `matplotlib` is an extremely versatile graphics library written for Python in order to replicate and produce MATLAB type visualisations for engineering and scientific research. It is a low-level library and uses Python as the grammar for its graphics creation. \n",
    "\n",
    "In this section of the course, we will learn about the `Figure` and `Axes` objects. These represent the backbone of `matplotlib` and all other objects are created on these two objects. We will learn how to generate the simplest chart - the \"bread and butter\" of scientific visualisation - line plots and scatter plots. \n",
    "\n",
    "Then we will cover distributional plots in one and two dimensions. Density based plots are especially important when the number of data points are huge and overplotting becomes a problem. \n",
    "\n",
    "Next we will learn how to create subplots, annotations and customizing your plot. \n",
    "\n",
    "The ultimate learning objective of this course though is to actually put into practise some basic principles of data visualizations and how to choose the most appropriate visualization for the intended purpose. \n",
    "\n",
    "## 1.1 Learning objectives\n",
    "\n",
    "In this section we will: \n",
    "\n",
    "   * Importing the `matplotlib` library and the `%matplotlib inline` magic command. \n",
    "   * How to set up `Figure` and `Axes` objects. \n",
    "   * Using the `.plot` method and its various keyword arguments. \n",
    "   * Adding plot titles at the `axis` and `figure` level. \n",
    "   \n",
    "## 1.2 Win, lose or DRAW! \n",
    "\n",
    "By default, Jupyter Notebooks do not display `matplotlib` objects straight after they are created. In order to activate the auto display function, we have to instruct Jupyter to do so by using the Ipython magic commands. In the cell below, run the command `%matplotlib inline`. \n"
   ]
  },
  {
   "cell_type": "code",
   "execution_count": 13,
   "metadata": {
    "collapsed": true
   },
   "outputs": [],
   "source": [
    "%matplotlib inline"
   ]
  },
  {
   "cell_type": "markdown",
   "metadata": {},
   "source": [
    "Now we need to import the `matplotlib` plotting library. We use the `import` and `as` keyword to do this. The keyword `as` allows to replace the lengthy module name with an alias of our choosing. By convention, use `plt`. "
   ]
  },
  {
   "cell_type": "code",
   "execution_count": 15,
   "metadata": {},
   "outputs": [
    {
     "data": {
      "text/plain": [
       "[<matplotlib.lines.Line2D at 0x7578cc0>]"
      ]
     },
     "execution_count": 15,
     "metadata": {},
     "output_type": "execute_result"
    },
    {
     "data": {
      "image/png": "[encoded data removed]",
      "text/plain": [
       "<matplotlib.figure.Figure at 0x73c98d0>"
      ]
     },
     "metadata": {},
     "output_type": "display_data"
    }
   ],
   "source": [
    "import matplotlib.pyplot as plt\n",
    "\n",
    "plt.plot([1,2,3], [4,7, -1], 'bo')"
   ]
  },
  {
   "cell_type": "markdown",
   "metadata": {},
   "source": [
    "Here above, you will see our very first plot using the `plt.plot` function: A simple scatter plot consisting of coordinates $$(1,4), (2,7), (3, -1)$$ on the $x$-$y$ plane. Notice the arguments passed to `plt.plot`. \n",
    "\n",
    "  * A `list` of the $x$-coordinates, `[1,2,3]`. In general purpose usage, this is a `Series` or an `array` object containing the predictor variables of our data. \n",
    "  \n",
    "  * A `list` of the $y$-coordinates, `[4,7,-1]`. This will usually be the response variable. \n",
    "  \n",
    "  * The final string `bo` is a convenience syntax for instructing `plt.plot` to create a scatterplot using round (`o`) markers coloured blue (`b`). \n",
    "  \n",
    "Note that if not marker string is passed to `.plot`, `matplotlib` will output a line plot by default. \n",
    "\n",
    "All this is very nice, but before we go into more details about `plt.plot`, we must set up the general framework and workflow of working with this library. \n",
    "\n",
    "## 1.3 The canvas: `figure` and `axes`\n",
    "\n",
    "The parent object of any `matplotlib` visualisation is the `Figure` class. Figures hold the `Axes` objects which in turn holds all the other components that make up a plot: The `artist` objects like lines, patches, dots, text, arrows, contours and the like. Even objects like legends, colorbars, axis labels, ticks and plot titles are all subclassed from either a figure object or an axes object. Note that all visualisations produced by `matplotlib` are always contained in a Figure and axes. If these are not explicitly instanced, that they are implicitly created when `plt.plot` is called. \n",
    "\n",
    "The `matplotlib` API can be interacted with using MATLAB style interfacing which uses function calls to `plt.plot` and various other annotation functions. \n",
    "\n",
    "However, in this course, we wish to emphasize the object oriented interface to the API. This makes it easier  to customize `matplotlib` and even  `seaborn` visualisations. Essentially plot customization is about tweaking the *attributes* of an object. \n",
    "\n",
    "To create a `figure` object:"
   ]
  },
  {
   "cell_type": "code",
   "execution_count": 16,
   "metadata": {},
   "outputs": [
    {
     "data": {
      "text/plain": [
       "<matplotlib.figure.Figure at 0x73c9748>"
      ]
     },
     "metadata": {},
     "output_type": "display_data"
    }
   ],
   "source": [
    "fig1 = plt.figure()"
   ]
  },
  {
   "cell_type": "markdown",
   "metadata": {},
   "source": [
    "When run, we see that an instance of a Figure class has been created. However, we do not see anything more that that printed output. In fact, if we were using another Python IDE like Spyder or accessing Python from the command prompt (like IPython), we will see a blank pop window created. Since we are using Jupyter Notebooks, our particular graphical renderer (`inline`) will not display this. \n",
    "\n",
    "From this point on, we can create the plots with desire using `plt.plot` and assign the output to a variable name. Copy the line in the cell above and paste it below. "
   ]
  },
  {
   "cell_type": "code",
   "execution_count": 20,
   "metadata": {},
   "outputs": [
    {
     "data": {
      "image/png": "[encoded data removed]",
      "text/plain": [
       "<matplotlib.figure.Figure at 0x791b7b8>"
      ]
     },
     "metadata": {},
     "output_type": "display_data"
    }
   ],
   "source": [
    "fig1 = plt.figure() # This line will be pasted in by course attendee. delete on deployment\n",
    "ax1 = plt.plot([1,2,3], [4,7,-1], '*r') "
   ]
  },
  {
   "cell_type": "markdown",
   "metadata": {},
   "source": [
    "The reason for putting both figure instance and the axes instance calls in the same cell is so that axes `ax1` will be contained in `fig1`. It's not that we can't plot without doing this, but by doing this we can save the figure to a file by running the following command \n",
    "\n",
    "    fig1.savefig(\"my_first_plot.jpeg\", dpi=300) \n",
    "\n",
    "in possibly another cell. Since this figure contains that `ax1` object, the saved jpeg file will contain the plot above. If we do not instance a figure, it is quite difficult (though not impossible) to save our plot. Note that if the `plot` and `figure` instance were executed in *different* cells, when `fig1.savefig` is called, your jpeg file will be empty!\n",
    "\n",
    "You may want to rerender your plot to adjust some parameters. By putting the `.savefig` method in another cell, you create a jpeg file output *only once* after you are satisfied with what you see (in Jupyter Notebook). "
   ]
  },
  {
   "cell_type": "code",
   "execution_count": 22,
   "metadata": {
    "collapsed": true
   },
   "outputs": [],
   "source": [
    "fig1.savefig(\"my_first_plot.jpeg\", dpi=300)"
   ]
  },
  {
   "cell_type": "markdown",
   "metadata": {},
   "source": [
    "Check your current working directory. You should see the jpeg file there now. \n",
    "\n",
    "Congratulations! You have completed your first visualisation project! \n",
    "\n",
    "# 2. Basic plotting with `.plot` method\n",
    "________\n",
    "The basic workflow of creating a visualisation consists on instancing a figure and axes class, getting data and plotting it and finally saving your output to a file. In this section, we will learn about `matplotlib`'s versatile `.plot` method to create basic scatter and line plots. \n",
    "\n",
    "The function of the `.plot` method is to create scatter and line plots as have been mentioned. You have seen how to create basic scatter plots, so lets work through a simple visualisation project using line plots. Along the way, we will learn about the various customization and keyword arguments to the `.plot` method. "
   ]
  },
  {
   "cell_type": "code",
   "execution_count": null,
   "metadata": {
    "collapsed": true
   },
   "outputs": [],
   "source": []
  }
 ],
 "metadata": {
  "kernelspec": {
   "display_name": "Python 2",
   "language": "python",
   "name": "python2"
  },
  "language_info": {
   "codemirror_mode": {
    "name": "ipython",
    "version": 2
   },
   "file_extension": ".py",
   "mimetype": "text/x-python",
   "name": "python",
   "nbconvert_exporter": "python",
   "pygments_lexer": "ipython2",
   "version": "2.7.13"
  }
 },
 "nbformat": 4,
 "nbformat_minor": 2
}
