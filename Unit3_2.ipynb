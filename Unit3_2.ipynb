{
 "cells": [
  {
   "cell_type": "code",
   "execution_count": 1,
   "metadata": {
    "collapsed": true
   },
   "outputs": [],
   "source": [
    "from __future__ import print_function, division"
   ]
  },
  {
   "cell_type": "code",
   "execution_count": 58,
   "metadata": {
    "collapsed": true
   },
   "outputs": [],
   "source": [
    "import matplotlib.pyplot as plt\n",
    "import pandas as pd\n",
    "from matplotlib.style import use\n",
    "import numpy as np\n",
    "import matplotlib as mpl\n",
    "%matplotlib inline\n",
    "use(\"ggplot\")"
   ]
  },
  {
   "cell_type": "markdown",
   "metadata": {},
   "source": [
    "# 2. Density based plots with `matplotlib`\n",
    "\n",
    "In this section, we will be looking at density based plots. Plots like these address a problem with big data: How does one visualise a plot with 10,000++ data points and avoid **overplotting**. "
   ]
  },
  {
   "cell_type": "code",
   "execution_count": 37,
   "metadata": {},
   "outputs": [
    {
     "data": {
      "text/html": [
       "<div>\n",
       "<style>\n",
       "    .dataframe thead tr:only-child th {\n",
       "        text-align: right;\n",
       "    }\n",
       "\n",
       "    .dataframe thead th {\n",
       "        text-align: left;\n",
       "    }\n",
       "\n",
       "    .dataframe tbody tr th {\n",
       "        vertical-align: top;\n",
       "    }\n",
       "</style>\n",
       "<table border=\"1\" class=\"dataframe\">\n",
       "  <thead>\n",
       "    <tr style=\"text-align: right;\">\n",
       "      <th></th>\n",
       "      <th>year</th>\n",
       "      <th>month</th>\n",
       "      <th>day</th>\n",
       "      <th>hour</th>\n",
       "      <th>pm2.5</th>\n",
       "      <th>DEWP</th>\n",
       "      <th>TEMP</th>\n",
       "      <th>PRES</th>\n",
       "      <th>cbwd</th>\n",
       "      <th>Iws</th>\n",
       "      <th>Is</th>\n",
       "      <th>Ir</th>\n",
       "    </tr>\n",
       "    <tr>\n",
       "      <th>No</th>\n",
       "      <th></th>\n",
       "      <th></th>\n",
       "      <th></th>\n",
       "      <th></th>\n",
       "      <th></th>\n",
       "      <th></th>\n",
       "      <th></th>\n",
       "      <th></th>\n",
       "      <th></th>\n",
       "      <th></th>\n",
       "      <th></th>\n",
       "      <th></th>\n",
       "    </tr>\n",
       "  </thead>\n",
       "  <tbody>\n",
       "    <tr>\n",
       "      <th>1</th>\n",
       "      <td>2010</td>\n",
       "      <td>1</td>\n",
       "      <td>1</td>\n",
       "      <td>0</td>\n",
       "      <td>NaN</td>\n",
       "      <td>-21</td>\n",
       "      <td>-11.0</td>\n",
       "      <td>1021.0</td>\n",
       "      <td>NW</td>\n",
       "      <td>1.79</td>\n",
       "      <td>0</td>\n",
       "      <td>0</td>\n",
       "    </tr>\n",
       "    <tr>\n",
       "      <th>2</th>\n",
       "      <td>2010</td>\n",
       "      <td>1</td>\n",
       "      <td>1</td>\n",
       "      <td>1</td>\n",
       "      <td>NaN</td>\n",
       "      <td>-21</td>\n",
       "      <td>-12.0</td>\n",
       "      <td>1020.0</td>\n",
       "      <td>NW</td>\n",
       "      <td>4.92</td>\n",
       "      <td>0</td>\n",
       "      <td>0</td>\n",
       "    </tr>\n",
       "    <tr>\n",
       "      <th>3</th>\n",
       "      <td>2010</td>\n",
       "      <td>1</td>\n",
       "      <td>1</td>\n",
       "      <td>2</td>\n",
       "      <td>NaN</td>\n",
       "      <td>-21</td>\n",
       "      <td>-11.0</td>\n",
       "      <td>1019.0</td>\n",
       "      <td>NW</td>\n",
       "      <td>6.71</td>\n",
       "      <td>0</td>\n",
       "      <td>0</td>\n",
       "    </tr>\n",
       "    <tr>\n",
       "      <th>4</th>\n",
       "      <td>2010</td>\n",
       "      <td>1</td>\n",
       "      <td>1</td>\n",
       "      <td>3</td>\n",
       "      <td>NaN</td>\n",
       "      <td>-21</td>\n",
       "      <td>-14.0</td>\n",
       "      <td>1019.0</td>\n",
       "      <td>NW</td>\n",
       "      <td>9.84</td>\n",
       "      <td>0</td>\n",
       "      <td>0</td>\n",
       "    </tr>\n",
       "    <tr>\n",
       "      <th>5</th>\n",
       "      <td>2010</td>\n",
       "      <td>1</td>\n",
       "      <td>1</td>\n",
       "      <td>4</td>\n",
       "      <td>NaN</td>\n",
       "      <td>-20</td>\n",
       "      <td>-12.0</td>\n",
       "      <td>1018.0</td>\n",
       "      <td>NW</td>\n",
       "      <td>12.97</td>\n",
       "      <td>0</td>\n",
       "      <td>0</td>\n",
       "    </tr>\n",
       "  </tbody>\n",
       "</table>\n",
       "</div>"
      ],
      "text/plain": [
       "    year  month  day  hour  pm2.5  DEWP  TEMP    PRES cbwd    Iws  Is  Ir\n",
       "No                                                                       \n",
       "1   2010      1    1     0    NaN   -21 -11.0  1021.0   NW   1.79   0   0\n",
       "2   2010      1    1     1    NaN   -21 -12.0  1020.0   NW   4.92   0   0\n",
       "3   2010      1    1     2    NaN   -21 -11.0  1019.0   NW   6.71   0   0\n",
       "4   2010      1    1     3    NaN   -21 -14.0  1019.0   NW   9.84   0   0\n",
       "5   2010      1    1     4    NaN   -20 -12.0  1018.0   NW  12.97   0   0"
      ]
     },
     "execution_count": 37,
     "metadata": {},
     "output_type": "execute_result"
    }
   ],
   "source": [
    "import pandas as pd\n",
    "\n",
    "PRSA = pd.read_csv(\"https://archive.ics.uci.edu/ml/machine-learning-databases/00381/PRSA_data_2010.1.1-2014.12.31.csv\",\n",
    "                  index_col=0)\n",
    "PRSA.head()"
   ]
  },
  {
   "cell_type": "markdown",
   "metadata": {},
   "source": [
    "*Source* : https://archive.ics.uci.edu/ml/datasets/Beijing+PM2.5+Data"
   ]
  },
  {
   "cell_type": "code",
   "execution_count": 18,
   "metadata": {},
   "outputs": [
    {
     "data": {
      "text/plain": [
       "<matplotlib.text.Text at 0xcd70eb8>"
      ]
     },
     "execution_count": 18,
     "metadata": {},
     "output_type": "execute_result"
    },
    {
     "data": {
      "image/png": "[encoded data removed]",
      "text/plain": [
       "<matplotlib.figure.Figure at 0xc57a748>"
      ]
     },
     "metadata": {},
     "output_type": "display_data"
    }
   ],
   "source": [
    "import matplotlib.pyplot as plt\n",
    "from matplotlib.style import use\n",
    "%matplotlib inline\n",
    "use('ggplot')\n",
    "\n",
    "plt.plot( PRSA.TEMP, PRSA[\"pm2.5\"], 'o', color=\"steelblue\", alpha=0.5)\n",
    "plt.ylabel(\"$\\mu g/m^3$\")\n",
    "plt.title(\"PM 2.5 readings as a function of temperature (Celsius)\")\n"
   ]
  },
  {
   "cell_type": "markdown",
   "metadata": {},
   "source": [
    "As one can see, there's not much one can say about the structure of the data because every point below 400 $\\mu g/m^3$ is totally filled up with blue color. \n",
    "\n",
    "It is here, that a density plot helps mitigate this problem. The central idea is that individual data points are not so important in as much as they contribute to revealing the underlying **distribution** of the data. In other words, for large amounts of data, we want to visualize the distribution instead of visualizing how individual datapoints are placed. \n",
    "\n",
    "For this lesson, we will look at this data set and others to investigate the use of other plotting functions in `matplotlib`. \n",
    "\n",
    "## 2.1 Learning objectives \n",
    "\n",
    "  * To use histograms to visualize distribution of univariate data. \n",
    "  * To use Kernel Density Estimation Plots to visualize distribution of univariate data. \n",
    "  * To customize KDE plots using various keyword arguments to the underlying plotting function. \n",
    "  * To use 2D KDE plots and hexbin plots to plot 2D distributions.  \n",
    "\n",
    "# 3. Histograms\n",
    "\n",
    "Histograms are created using the `hist` command. We illustrate this using the PRSA data set. Let's say that we are interested in plotting the distribution of the variables `DEWP`, `TEMP` and `PRES`. "
   ]
  },
  {
   "cell_type": "code",
   "execution_count": 2,
   "metadata": {
    "collapsed": true
   },
   "outputs": [],
   "source": [
    "import matplotlib.pyplot as plt\n",
    "import pandas as pd\n",
    "%matplotlib inline\n",
    "\n",
    "plt.hist()"
   ]
  },
  {
   "cell_type": "code",
   "execution_count": 10,
   "metadata": {},
   "outputs": [
    {
     "data": {
      "text/plain": [
       "(array([   20.,   275.,  3142.,  5542.,  5446.,  6412.,  5049.,  6162.,\n",
       "         8685.,  3091.]),\n",
       " array([-40. , -33.2, -26.4, -19.6, -12.8,  -6. ,   0.8,   7.6,  14.4,\n",
       "         21.2,  28. ]),\n",
       " <a list of 10 Patch objects>)"
      ]
     },
     "execution_count": 10,
     "metadata": {},
     "output_type": "execute_result"
    },
    {
     "data": {
      "image/png": "[encoded data removed]",
      "text/plain": [
       "<matplotlib.figure.Figure at 0xc73f5c0>"
      ]
     },
     "metadata": {},
     "output_type": "display_data"
    }
   ],
   "source": [
    "fig = plt.figure()\n",
    "ax = fig.add_subplot(111)\n",
    "\n",
    "ax.set_title(\"Histogram of dew point readings\")\n",
    "ax.set_xlabel(\"Dew point (C$^\\circ$)\")\n",
    "ax.hist(PRSA.DEWP)\n"
   ]
  },
  {
   "cell_type": "markdown",
   "metadata": {},
   "source": [
    "## 3.1 Understanding the plotting code\n",
    "\n",
    "So how was this produced? \n",
    "\n",
    "1. We initialized a figure object using `plt.figure`. \n",
    "2. Next we created an axis within the figure. We used the command `fig.add_subplot`. We passed an argument `111` to the function which is a short hand for creating only one axes. We will learn about this command in the next unit. \n",
    "3. With an ax object created, we now set a title using the `set_title` function and also label the x -axis with its label. \n",
    "4. The histogram proper is plotting by calling the `hist` method on the axes instance. We merely need to pass the (1-dimensional) array of data to the function. \n",
    "\n",
    "Notice the output that is produced. It's not very nice and probably needs some prettying up. But as a quick exploratory plot, it does its job. Notice the extra textual output. These can be suppressed with the `;` written at the end of the last statement in the code block. \n",
    "\n",
    "## 3.2 Customizing our histogram\n",
    "\n",
    "The chart above can be customized to our liking by passing keyword arguments to the function. \n",
    "\n",
    "1. **Number of bins**. The number of bins may be adjusted with the `bins=` keyword argument. However, do note that more bins does not translate into a better chart. With more bins, one tends to pick up much more variation between data (noise) that what is necessary. Therefore, try to choose a value which will give you the best sense of how the data is dristributed between the extremes of no details (small `bins` value) to a noisy chart (high `bins` value). \n",
    "\n",
    "2. **Normalization**. Setting `normed=True` (it is `False` by default) means that the total area of the histogram is set to 1. This setting is useful to compare distributions of variables on different orders of magnitude. \n",
    "\n",
    "3. **Is a log scale needed?**. `log=` flag may be used if you want the *count* (*or relative counts*) to be plotted on a log scale. This may be useful if the counts in different bins differ by huge orders of magnitude. This is especially true for data modelled by to power law distributions. \n",
    "\n",
    "4. **Cumulative sums**. Sometimes, you want to plot the ogive instead. Enable this by setting `cumulative=True`. \n",
    "\n",
    "3. **Colors**. Selecting the best color, especially when comparing multiple histograms on the same axis is crucial. You have choose different colors using `color=` argument. You may use any hexadecimal color codes (e.g. `##660000`) or CSS color names, matplotlib color abbrevations (e.g. `c` for `cyan`, `m` for magenta, `b` for blue etc..) \n",
    "\n",
    "1. **Lines between bars**. A histogram is more presentable is one draws lines between bars. Enable this by setting `lw=` to an appropraite thickness (any value around 0.5 is ok) and giving it a color by setting `ec=`. \n",
    "\n",
    "3. **Transparency control**. This is useful if there are multiple histograms. Use `alpha=` and enter any value from 0 (fully transparent) to 1 (fully opaque). "
   ]
  },
  {
   "cell_type": "code",
   "execution_count": null,
   "metadata": {},
   "outputs": [],
   "source": [
    "from matplotlib.style import use\n",
    "\n",
    "use('ggplot')\n",
    "fig = plt.figure()\n",
    "ax = fig.add_subplot(111)\n",
    "\n",
    "ax.set_title(\"Histogram of dew point readings\")\n",
    "ax.set_xlabel(\"Dew point (C$^\\circ$)\")\n",
    "# Remove comments from each option to see its effect or write one of your own. \n",
    "ax.hist(PRSA.DEWP,\n",
    "#        bins=15,\n",
    "#        normed=True,\n",
    "#        log=False,\n",
    "#        cumulative=False,\n",
    "#        color=\"aquamarine\",\n",
    "#        lw=1.5,\n",
    "#        ec='b',\n",
    "#        alpha=0.5\n",
    "       );\n"
   ]
  },
  {
   "cell_type": "markdown",
   "metadata": {},
   "source": [
    "More options can be found of the [documentation page][1].\n",
    "\n",
    "## 3.3 Histograms with weights\n",
    "\n",
    "The `hist` function is not only used to plot histograms. In essence, it is a function used to plot rectangular patches on an axis. Thus, we use `hist` to plot bar charts. In fact, we may use it to plot stacked bar charts, which is something `seaborn` cannot do. \n",
    "\n",
    "In the following dataset, we want to plot the distribution of daily bike rental counts (variable `cnt`) on any given day of the week and seperate them by the variable `weathersit` which is an ordinal variable denoting the severity of the weather. 1 means good weather, 4 means bad.  \n",
    "\n",
    "[1]:http://matplotlib.org/api/_as_gen/matplotlib.axes.Axes.hist.html?highlight=hist#matplotlib.axes.Axes.hist"
   ]
  },
  {
   "cell_type": "code",
   "execution_count": 13,
   "metadata": {},
   "outputs": [
    {
     "data": {
      "text/html": [
       "<div>\n",
       "<style>\n",
       "    .dataframe thead tr:only-child th {\n",
       "        text-align: right;\n",
       "    }\n",
       "\n",
       "    .dataframe thead th {\n",
       "        text-align: left;\n",
       "    }\n",
       "\n",
       "    .dataframe tbody tr th {\n",
       "        vertical-align: top;\n",
       "    }\n",
       "</style>\n",
       "<table border=\"1\" class=\"dataframe\">\n",
       "  <thead>\n",
       "    <tr style=\"text-align: right;\">\n",
       "      <th></th>\n",
       "      <th>dteday</th>\n",
       "      <th>season</th>\n",
       "      <th>yr</th>\n",
       "      <th>mnth</th>\n",
       "      <th>holiday</th>\n",
       "      <th>weekday</th>\n",
       "      <th>workingday</th>\n",
       "      <th>weathersit</th>\n",
       "      <th>temp</th>\n",
       "      <th>atemp</th>\n",
       "      <th>hum</th>\n",
       "      <th>windspeed</th>\n",
       "      <th>casual</th>\n",
       "      <th>registered</th>\n",
       "      <th>cnt</th>\n",
       "    </tr>\n",
       "    <tr>\n",
       "      <th>instant</th>\n",
       "      <th></th>\n",
       "      <th></th>\n",
       "      <th></th>\n",
       "      <th></th>\n",
       "      <th></th>\n",
       "      <th></th>\n",
       "      <th></th>\n",
       "      <th></th>\n",
       "      <th></th>\n",
       "      <th></th>\n",
       "      <th></th>\n",
       "      <th></th>\n",
       "      <th></th>\n",
       "      <th></th>\n",
       "      <th></th>\n",
       "    </tr>\n",
       "  </thead>\n",
       "  <tbody>\n",
       "    <tr>\n",
       "      <th>1</th>\n",
       "      <td>2011-01-01</td>\n",
       "      <td>1</td>\n",
       "      <td>0</td>\n",
       "      <td>1</td>\n",
       "      <td>0</td>\n",
       "      <td>6</td>\n",
       "      <td>0</td>\n",
       "      <td>2</td>\n",
       "      <td>0.344167</td>\n",
       "      <td>0.363625</td>\n",
       "      <td>0.805833</td>\n",
       "      <td>0.160446</td>\n",
       "      <td>331</td>\n",
       "      <td>654</td>\n",
       "      <td>985</td>\n",
       "    </tr>\n",
       "    <tr>\n",
       "      <th>2</th>\n",
       "      <td>2011-01-02</td>\n",
       "      <td>1</td>\n",
       "      <td>0</td>\n",
       "      <td>1</td>\n",
       "      <td>0</td>\n",
       "      <td>0</td>\n",
       "      <td>0</td>\n",
       "      <td>2</td>\n",
       "      <td>0.363478</td>\n",
       "      <td>0.353739</td>\n",
       "      <td>0.696087</td>\n",
       "      <td>0.248539</td>\n",
       "      <td>131</td>\n",
       "      <td>670</td>\n",
       "      <td>801</td>\n",
       "    </tr>\n",
       "    <tr>\n",
       "      <th>3</th>\n",
       "      <td>2011-01-03</td>\n",
       "      <td>1</td>\n",
       "      <td>0</td>\n",
       "      <td>1</td>\n",
       "      <td>0</td>\n",
       "      <td>1</td>\n",
       "      <td>1</td>\n",
       "      <td>1</td>\n",
       "      <td>0.196364</td>\n",
       "      <td>0.189405</td>\n",
       "      <td>0.437273</td>\n",
       "      <td>0.248309</td>\n",
       "      <td>120</td>\n",
       "      <td>1229</td>\n",
       "      <td>1349</td>\n",
       "    </tr>\n",
       "    <tr>\n",
       "      <th>4</th>\n",
       "      <td>2011-01-04</td>\n",
       "      <td>1</td>\n",
       "      <td>0</td>\n",
       "      <td>1</td>\n",
       "      <td>0</td>\n",
       "      <td>2</td>\n",
       "      <td>1</td>\n",
       "      <td>1</td>\n",
       "      <td>0.200000</td>\n",
       "      <td>0.212122</td>\n",
       "      <td>0.590435</td>\n",
       "      <td>0.160296</td>\n",
       "      <td>108</td>\n",
       "      <td>1454</td>\n",
       "      <td>1562</td>\n",
       "    </tr>\n",
       "    <tr>\n",
       "      <th>5</th>\n",
       "      <td>2011-01-05</td>\n",
       "      <td>1</td>\n",
       "      <td>0</td>\n",
       "      <td>1</td>\n",
       "      <td>0</td>\n",
       "      <td>3</td>\n",
       "      <td>1</td>\n",
       "      <td>1</td>\n",
       "      <td>0.226957</td>\n",
       "      <td>0.229270</td>\n",
       "      <td>0.436957</td>\n",
       "      <td>0.186900</td>\n",
       "      <td>82</td>\n",
       "      <td>1518</td>\n",
       "      <td>1600</td>\n",
       "    </tr>\n",
       "  </tbody>\n",
       "</table>\n",
       "</div>"
      ],
      "text/plain": [
       "             dteday  season  yr  mnth  holiday  weekday  workingday  \\\n",
       "instant                                                               \n",
       "1        2011-01-01       1   0     1        0        6           0   \n",
       "2        2011-01-02       1   0     1        0        0           0   \n",
       "3        2011-01-03       1   0     1        0        1           1   \n",
       "4        2011-01-04       1   0     1        0        2           1   \n",
       "5        2011-01-05       1   0     1        0        3           1   \n",
       "\n",
       "         weathersit      temp     atemp       hum  windspeed  casual  \\\n",
       "instant                                                                \n",
       "1                 2  0.344167  0.363625  0.805833   0.160446     331   \n",
       "2                 2  0.363478  0.353739  0.696087   0.248539     131   \n",
       "3                 1  0.196364  0.189405  0.437273   0.248309     120   \n",
       "4                 1  0.200000  0.212122  0.590435   0.160296     108   \n",
       "5                 1  0.226957  0.229270  0.436957   0.186900      82   \n",
       "\n",
       "         registered   cnt  \n",
       "instant                    \n",
       "1               654   985  \n",
       "2               670   801  \n",
       "3              1229  1349  \n",
       "4              1454  1562  \n",
       "5              1518  1600  "
      ]
     },
     "execution_count": 13,
     "metadata": {},
     "output_type": "execute_result"
    }
   ],
   "source": [
    "import matplotlib.pyplot as plt\n",
    "import pandas as pd\n",
    "import numpy as np\n",
    "%matplotlib inline\n",
    "\n",
    "bike_sharing = pd.read_csv(\"day.csv\", index_col=0)\n",
    "bike_sharing.head()"
   ]
  },
  {
   "cell_type": "markdown",
   "metadata": {},
   "source": [
    "*Source*: https://archive.ics.uci.edu/ml/datasets/bike+sharing+dataset\n",
    "\n",
    "As you can see in the dataset above, we need to plot `weekday` on the x-axis and have `cnt` as the y-axis. How can we plot this using `hist`? The problem is that if we pass the `weekday` array to `hist`, we end up counting the frequency of *each day* in the dataset! \n",
    "\n",
    "To solve this, we pass the `cnt` variable as a seperate parameter to `hist` through the keyword argument `weights`. "
   ]
  },
  {
   "cell_type": "code",
   "execution_count": 34,
   "metadata": {},
   "outputs": [],
   "source": [
    "group = bike_sharing.groupby(\"weathersit\")\n",
    "weathers = [w_r for w_r, _ in group]\n",
    "day_data = [group.get_group(weather).weekday for weather in weathers]\n",
    "weights_data = [group.get_group(weather).cnt for weather in weathers]"
   ]
  },
  {
   "cell_type": "markdown",
   "metadata": {},
   "source": [
    "What we need to do is to group the data set by weather rating and create a list of array data to be passed to `hist`. We can do this efficiently using the `groupby` method on data frames and list comprehension statements. Now we have three lists: One for weather rating, one for the day of the week and one more for the daily bike rental counts. \n",
    "\n",
    "We pass this to the `hist` function and pass a sequence of floats `[-0.5, 0.5,..., 6.5]` so that each bar is nicely centered on the tick mark. We also plot this count on a log scale (set `log=True`) because we expect quite a large difference between bike rental counts in good weather as compared to bad. Without this, it is very difficult to see any variation for rentals during bad weather. "
   ]
  },
  {
   "cell_type": "code",
   "execution_count": 35,
   "metadata": {},
   "outputs": [
    {
     "data": {
      "image/png": "[encoded data removed]",
      "text/plain": [
       "<matplotlib.figure.Figure at 0x115940240>"
      ]
     },
     "metadata": {},
     "output_type": "display_data"
    }
   ],
   "source": [
    "fig2 = plt.figure()\n",
    "\n",
    "ax2 = fig2.add_subplot(111)\n",
    "ax2.set_title(\"Distribution of daily bike rental counts by weather conditions\", y=1.05)\n",
    "ax2.set_xlabel(\"Day\")\n",
    "ax2.set_ylabel(\"Bike rental counts\")\n",
    "\n",
    "# Bars are placed side by side\n",
    "# ============================\n",
    "ax2.hist(day_data, \n",
    "         label=weathers,\n",
    "         weights=weights_data,\n",
    "         bins=np.linspace(-0.5,6.5,8), \n",
    "         histtype=\"bar\", # this is the default setting. \n",
    "         ec=\"k\", lw=1.0, log=True,\n",
    "    )\n",
    "\n",
    "\n",
    "'''\n",
    "# Bars are stacked on top of each other\n",
    "# =====================================\n",
    "ax2.set_ylim(*(0,5e5))\n",
    "ax2.hist(day_data,\n",
    "       label=weathers,\n",
    "       weights=weights_data,\n",
    "       bins=np.linspace(-0.5, 6.5, 8),\n",
    "       ec=\"k\", lw=1.,\n",
    "       histtype=\"barstacked\", \n",
    "       rwidth=0.8)\n",
    "\n",
    "'''\n",
    "ax2.legend(loc=\"best\");"
   ]
  },
  {
   "cell_type": "markdown",
   "metadata": {},
   "source": [
    "As expected, bike rentals are low in bad weather. However, notice the variation within a week for the bad weather category. It is quite clear that people do not go biking on a bad weather Sunday since they have a choice not to go out! \n",
    "\n",
    "Let's rerun the cell above by replacing the `ax.hist` function with the following code snippet. This helps us create a stacked bar chart. \n",
    "\n",
    "    ax2.set_ylim(*(0,5e5))\n",
    "    ax2.hist(day_data,\n",
    "           label=weathers,\n",
    "           weights=weights_data,\n",
    "           bins=np.linspace(-0.5, 6.5, 8),\n",
    "           ec=\"k\", lw=1.,\n",
    "           histtype=\"barstacked\", \n",
    "           rwidth=0.8\n",
    "        )\n",
    "\n",
    "A note on this new code: The `histtype=\"barstacked\"` stacks the data on top each other. The new parameter `rwidth=` sets the ratio between the bar width and the bin width, which is the way you put spaces between bars. We disable `log` scale so that the natural totals are more clearly seen. Notice the extreme difference between rentals in different weather conditions. \n",
    "\n",
    "There is hardly any differences between work days and weekends although we can detect a slight increase through the week. People do love the outdoors!  \n",
    "\n",
    "## 3.4 Summary of plotting a histogram\n",
    "\n",
    "To summarize the teaching points above: \n",
    "\n",
    "  * Pass either a single array of data to make into a histogram or a list of arrays if you want multiple data on one chart. You do not need to summarize the data. `hist` will do it for you. \n",
    "  * Visual properties can be customize with keyword arguments like `color`, `lw`, `ec`, `alpha`, etc...\n",
    "  * You can control whether to normalize the plot to have unit area by setting `normed`. \n",
    "  * Choose an appropriate chart by setting `histtype= ` to either `bar` or `barstacked`. \n",
    "  * Pass frequency counts to the `weights=` parameter if you have a summarized bin count already. \n",
    "  \n",
    "# 4. `hist2d` and the `hexbin` plot\n",
    "\n",
    "We use `hist2d` to visualize the joint distribution of bivariate data. When we expect correlation between two variables, a two dimensional histogram helps us reveal the structure of that relationship and avoids overplotting. \n",
    "\n",
    "Let's return to the PRSA data set. Recall that a scatterplot suffers from **overplotting**. In order to circumvent this and still get useful insight into the data, we use `hist2d`."
   ]
  },
  {
   "cell_type": "code",
   "execution_count": 72,
   "metadata": {},
   "outputs": [
    {
     "data": {
      "image/png": "[encoded data removed]",
      "text/plain": [
       "<matplotlib.figure.Figure at 0x115217978>"
      ]
     },
     "metadata": {},
     "output_type": "display_data"
    }
   ],
   "source": [
    "PRSA = PRSA.dropna() #drop missing data\n",
    "fig3, ax3 = plt.subplots(figsize=(8,6))\n",
    "\n",
    "ax3.grid(b=\"off\")\n",
    "ax3.set_facecolor(\"white\")\n",
    "ax3.set_title(\"PM2.5 readings distribution by temperature\")\n",
    "ax3.set_ylabel(\"$\\mu g$/$m^3$\")\n",
    "ax3.set_xlabel(\"Daily temperature (C$^\\circ$)\")\n",
    "ax3.hist2d(PRSA.TEMP, PRSA[\"pm2.5\"],\n",
    "           bins=55,\n",
    "           cmin=5,\n",
    "           range=[[-15,40],[0,600]],\n",
    "           cmap=\"plasma\");"
   ]
  },
  {
   "cell_type": "markdown",
   "metadata": {},
   "source": [
    "This chart is more informative that a simple scatterplot. For one, we now know that there are two modes in the distribution of temperature and pollutant. Furthermore, there is more variation in pollution levels in the colder seasons as compared to warmer days. \n",
    "\n",
    "Let's try to understand how this plot was created. \n",
    "\n",
    "    fig3, ax3 = plt.subplots(figsize=(8,6))\n",
    "\n",
    "We initialize a figure object of width=8 units and height=6 units and an axis object to contain our histogram. \n",
    "\n",
    "    ax3.grid(b=\"off\")\n",
    "    ax3.set_facecolor(\"white\")\n",
    "    ax3.set_title(\"PM2.5 readings distribution by temperature\")\n",
    "    ax3.set_ylabel(\"$\\mu g$/$m^3$\")\n",
    "    ax3.set_xlabel(\"Daily temperature (C$^\\circ$)\")\n",
    "\n",
    "These codes set the axis grid to invisible and the background color to white. The rest are plotting information: plot titles and the units used on each axes. \n",
    "\n",
    "    ax3.hist2d(PRSA.TEMP, PRSA[\"pm2.5\"],\n",
    "               bins=55,\n",
    "               cmin=5,\n",
    "               range=[[-15,40],[0,600]],\n",
    "               cmap=\"plasma\");\n",
    "\n",
    "Finally, this is the command to plot the histogram. Since this is a 2d histogram, we pass two arrays of data, first for the x-axis and then for the y-axis. \n",
    "\n",
    "  * The `bins=` parameter is set to 55. That means there are 55 bins in each dimension. Again, too high a number leads to overfitting and creates a very noisy chart. So choose a suitable number so as not to lose too much information. \n",
    "  * `cmin=` controls which frequency counts are displayed. If a particular frequency count is below `cmin`, it is not plotted. \n",
    "  * The `range` parameter sets the expected range of the data in each dimension. Data points which are outside the range are considered outliers and not tallied. \n",
    "  * Finally `cmap` controls the color scheme used to indicate frequency counts. There are many color schemes to choose from and all can be [seen here][1]. `\"plasma\"` is a type of color scheme known as a *sequential* color scheme. Use this for measures like frequency counts where the contrast between min and max is important. \n",
    "  \n",
    "This plot is still not perfect. For example, it would be nice to have an way to tell the frequency counts at each color level. To do this, we add a color bar to the plot. \n",
    "\n",
    "[1]:https://matplotlib.org/examples/color/colormaps_reference.html"
   ]
  },
  {
   "cell_type": "code",
   "execution_count": null,
   "metadata": {
    "collapsed": true
   },
   "outputs": [],
   "source": []
  }
 ],
 "metadata": {
  "kernelspec": {
   "display_name": "Python 3",
   "language": "python",
   "name": "python3"
  },
  "language_info": {
   "codemirror_mode": {
    "name": "ipython",
    "version": 3
   },
   "file_extension": ".py",
   "mimetype": "text/x-python",
   "name": "python",
   "nbconvert_exporter": "python",
   "pygments_lexer": "ipython3",
   "version": "3.6.2"
  }
 },
 "nbformat": 4,
 "nbformat_minor": 2
}
