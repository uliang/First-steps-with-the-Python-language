{
 "cells": [
  {
   "cell_type": "code",
   "execution_count": 1,
   "metadata": {
    "collapsed": true
   },
   "outputs": [],
   "source": [
    "from __future__ import division, print_function"
   ]
  },
  {
   "cell_type": "markdown",
   "metadata": {},
   "source": [
    "# Python functions \n",
    "________\n",
    "\n",
    "Sometimes, a portion of code is reused over and over again in the entire script. To prevent repetitive coding, we are able to define our own custom defined functions using the `def` keyword. When invoked, functions will instruct the computer to perform a set list of instructions, possibly returning an output at the end. Functions can also be pre-defined and saved in another file (with extension `.py`) so that it can be used for another project. \n",
    "\n",
    "You will have encountered many pre-defined functions in Python up to now. Functions like `print`, `len`, etc... But there are many other pre-built functions in Python which are extremely useful and makes code more transparent and readable. Some like `map` are written and optimized for speed so that scripts run faster. \n",
    "\n",
    "We will also encounter what is known as anonymous functions which are defined using the `lambda` keyword. These are short functions and can only be defined in one line of code. While technically `def` does what `lambda` does, nevertheless `lambda` allows for less pendantic and more natural style of coding. You will encounter anonymous functions alot when working with `pandas` especially when cleaning up data frames. \n",
    "\n",
    "## Learning objectives \n",
    "\n",
    "The objectives of this unit are:\n",
    "\n",
    "1. To use the `def` keyword to defined functions. \n",
    "\n",
    "1. Recall the terms  arguments, keyword arguments, the signature of a function, documenting functions using a docstring. \n",
    "\n",
    "1. To use `lambda` to define anonymous functions. \n",
    "\n",
    "1. To use build in  functions: `map`, `zip` and `enumerate`.  \n",
    "\n",
    "## Let's build our own functions\n",
    "\n",
    "All functions are defined using the `def` keyword. In general, the format of function definition looks like this: \n",
    "\n",
    "    def my_function_name(arg_1, arg_2, ..., arg_n) : \n",
    "    \n",
    "        code\n",
    "        \n",
    "        return <something, or None> \n",
    "        \n",
    "First, we tell Python that we are going to define a function by typing out `def`. Then we proceed by naming our function. The normal rules for naming variables apply to naming functions as well - one cannot start a name with a number or use special characters or use words which have been reserved for Python. \n",
    "\n",
    "Then after the name, we describe the *signature* of the function by writing down every argument to the function seperated by commas and enclosed in round braces `( )`. And *argument* to a function is an input to the code which will be executed when the function is *called*. It is not mandatory that a function recieve inputs. Sometimes, a function just needs to run a set of instructions, without any input. We end the `def` statement with a `:`. The newline under this marks the beginning of the function code. \n",
    "\n",
    "Every line of code meant for the function *must* be indented. There are no enclosing `{ }` which marks the \"body\" of the function. In Python, the \"body\" of the function is denoted with indentation only. Thus, every line of code meant for the function must be on the same indentation level. Finally, at the end of the function we `return` an output or `None`. While this last syntax is not mandatory, it is not good practice to leave off a function definition *without* a `return` statement.  "
   ]
  },
  {
   "cell_type": "code",
   "execution_count": 2,
   "metadata": {
    "collapsed": true
   },
   "outputs": [],
   "source": [
    "# Our first function\n",
    "\n",
    "def my_first_function():\n",
    "    pass"
   ]
  },
  {
   "cell_type": "markdown",
   "metadata": {},
   "source": [
    "For our first function, we see above that `my_first_function` does not take in any input and does nothing. The `pass` keyword is a kind of temporary placeholder and basically does nothing. We use `pass` because one cannot leave a function \"body\" without any code at all. \n",
    "\n",
    "Now let's code something into `my_first_function` so that it does something useful. "
   ]
  },
  {
   "cell_type": "code",
   "execution_count": 3,
   "metadata": {
    "collapsed": true
   },
   "outputs": [],
   "source": [
    "def my_first_function():\n",
    "    print(\"Hello world!\")"
   ]
  },
  {
   "cell_type": "markdown",
   "metadata": {},
   "source": [
    "`my_first_function` will `print` the string `\"Hello world!\"` whenever it is *called*. Calling a function basically means instructing Python to run the code contained in the function. Notice that after defining a function and running the cell, there is no output. But that doesn't mean nothing has happened. In fact, Python has populated the global namespace with a new name, `my_first_function` and is ready to do what ever has been coded into this function when it is called. "
   ]
  },
  {
   "cell_type": "code",
   "execution_count": 4,
   "metadata": {},
   "outputs": [
    {
     "data": {
      "text/plain": [
       "<function __main__.my_first_function>"
      ]
     },
     "execution_count": 4,
     "metadata": {},
     "output_type": "execute_result"
    }
   ],
   "source": [
    "my_first_function"
   ]
  },
  {
   "cell_type": "markdown",
   "metadata": {},
   "source": [
    "It is good to understand what happens when we type `my_first_function` and execute a cell. Notice that the output says `<function ...` This means that the variable `my_first_function` represents an object of type `function`. The rest of the output indicates that this function is represented by a name `my_first_function` in the module `__main__`. We will not describe what modules are in this course, but suffices for our purposes to think of `__main__` as file containing all the functions that we will define in this Jupyter Notebook session. \n",
    "\n",
    "To actually execute the instructions in `my_first_function`, we must type `my_first_function()`. "
   ]
  },
  {
   "cell_type": "code",
   "execution_count": 5,
   "metadata": {},
   "outputs": [
    {
     "name": "stdout",
     "output_type": "stream",
     "text": [
      "Hello world!\n"
     ]
    }
   ],
   "source": [
    "my_first_function()"
   ]
  },
  {
   "cell_type": "code",
   "execution_count": null,
   "metadata": {
    "collapsed": true
   },
   "outputs": [],
   "source": []
  }
 ],
 "metadata": {
  "kernelspec": {
   "display_name": "Python 2",
   "language": "python",
   "name": "python2"
  },
  "language_info": {
   "codemirror_mode": {
    "name": "ipython",
    "version": 2
   },
   "file_extension": ".py",
   "mimetype": "text/x-python",
   "name": "python",
   "nbconvert_exporter": "python",
   "pygments_lexer": "ipython2",
   "version": "2.7.13"
  }
 },
 "nbformat": 4,
 "nbformat_minor": 2
}
