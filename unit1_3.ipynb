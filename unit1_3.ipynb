{
 "cells": [
  {
   "cell_type": "code",
   "execution_count": 1,
   "metadata": {
    "collapsed": true
   },
   "outputs": [],
   "source": [
    "from __future__ import division, print_function"
   ]
  },
  {
   "cell_type": "markdown",
   "metadata": {},
   "source": [
    "# 9. Python functions \n",
    "________\n",
    "\n",
    "Sometimes, a portion of code is reused over and over again in the entire script. To prevent repetitive coding, we are able to define our own custom defined functions using the `def` keyword. When invoked, functions will instruct the computer to perform a set list of instructions, possibly returning an output at the end. Functions can also be pre-defined and saved in another file (with extension `.py`) so that it can be used for another project. \n",
    "\n",
    "You will have encountered many pre-defined functions in Python up to now. Functions like `print`, `len`, etc... But there are many other pre-built functions in Python which are extremely useful and makes code more transparent and readable.\n",
    "\n",
    "We will also encounter what is known as anonymous functions which are defined using the `lambda` keyword. These are short functions and can only be defined in one line of code. While technically `def` does what `lambda` does, nevertheless `lambda` allows for less pendantic and more natural style of coding. You will encounter anonymous functions alot when working with `pandas` especially when cleaning up data frames. \n",
    "\n",
    "Finally we introduce what is perhaps one of the more important concepts in Python programming: List comprehensions. These are syntatical shortcuts for the `for` loop which translate not only to better code style, but faster scripts. \n",
    "\n",
    "## 9.1 Learning objectives \n",
    "\n",
    "The objectives of this unit are:\n",
    "\n",
    "1. To use the `def` keyword to defined functions. \n",
    "\n",
    "1. Recall the terms  arguments, keyword arguments, the signature of a function. \n",
    "\n",
    "1. To use `lambda` to define anonymous functions. \n",
    "\n",
    "1. To use build in  functions: `zip` and `enumerate`.  \n",
    "\n",
    "1. To learn how to refactor `for` loops into list comprehension statements. \n",
    "\n",
    "## 9.2 Let's build our own functions\n",
    "\n",
    "All functions are defined using the `def` keyword. In general, the format of function definition looks like this: \n",
    "\n",
    "    def my_function_name(arg_1, arg_2, ..., arg_n) : \n",
    "    \n",
    "        code\n",
    "        \n",
    "        return <something, or None> \n",
    "        \n",
    "First, we tell Python that we are going to define a function by typing out `def`. Then we proceed by naming our function. The normal rules for naming variables apply to naming functions as well - one cannot start a name with a number or use special characters or use words which have been reserved for Python. \n",
    "\n",
    "Then after the name, we describe the *signature* of the function by writing down every argument to the function seperated by commas and enclosed in round braces `( )`. And *argument* to a function is an input to the code which will be executed when the function is *called*. It is not mandatory that a function recieve inputs. Sometimes, a function just needs to run a set of instructions, without any input. We end the `def` statement with a `:`. The newline under this marks the beginning of the function code. \n",
    "\n",
    "Every line of code meant for the function *must* be indented. There are no enclosing `{ }` which marks the \"body\" of the function. In Python, the \"body\" of the function is denoted with indentation only. Thus, every line of code meant for the function must be on the same indentation level. Finally, at the end of the function we `return` an output or `None`. While this last syntax is not mandatory, it is not good practice to leave off a function definition *without* a `return` statement.  "
   ]
  },
  {
   "cell_type": "code",
   "execution_count": 2,
   "metadata": {
    "collapsed": true
   },
   "outputs": [],
   "source": [
    "# Our first function\n",
    "\n",
    "def my_first_function():\n",
    "    pass"
   ]
  },
  {
   "cell_type": "markdown",
   "metadata": {},
   "source": [
    "For our first function, we see above that `my_first_function` does not take in any input and does nothing. The `pass` keyword is a kind of temporary placeholder and basically does nothing. We use `pass` because one cannot leave a function \"body\" without any code at all. \n",
    "\n",
    "Now let's code something into `my_first_function` so that it does something useful. "
   ]
  },
  {
   "cell_type": "code",
   "execution_count": 3,
   "metadata": {
    "collapsed": true
   },
   "outputs": [],
   "source": [
    "def my_first_function():\n",
    "    print(\"Hello world!\")"
   ]
  },
  {
   "cell_type": "markdown",
   "metadata": {},
   "source": [
    "`my_first_function` will `print` the string `\"Hello world!\"` whenever it is *called*. Calling a function basically means instructing Python to run the code contained in the function. Notice that after defining a function and running the cell, there is no output. But that doesn't mean nothing has happened. In fact, Python has populated the global namespace with a new name, `my_first_function` and is ready to do what ever has been coded into this function when it is called. "
   ]
  },
  {
   "cell_type": "code",
   "execution_count": 4,
   "metadata": {},
   "outputs": [
    {
     "data": {
      "text/plain": [
       "<function __main__.my_first_function>"
      ]
     },
     "execution_count": 4,
     "metadata": {},
     "output_type": "execute_result"
    }
   ],
   "source": [
    "my_first_function"
   ]
  },
  {
   "cell_type": "markdown",
   "metadata": {},
   "source": [
    "It is good to understand what happens when we type `my_first_function` and execute a cell. Notice that the output says `<function ...` This means that the variable `my_first_function` represents an object of type `function`. The rest of the output indicates that this function is represented by a name `my_first_function` in the module `__main__`. We will not describe what modules are in this course, but suffices for our purposes to think of `__main__` as file containing all the functions that we will define in this Jupyter Notebook session. \n",
    "\n",
    "To actually execute the instructions in `my_first_function`, we must type `my_first_function()`. "
   ]
  },
  {
   "cell_type": "code",
   "execution_count": 5,
   "metadata": {},
   "outputs": [
    {
     "name": "stdout",
     "output_type": "stream",
     "text": [
      "Hello world!\n"
     ]
    }
   ],
   "source": [
    "my_first_function()"
   ]
  },
  {
   "cell_type": "markdown",
   "metadata": {},
   "source": [
    "## 9.3 Functions with arguments\n",
    "\n",
    "Functions won't be useful if we are unable to pass input into it. Most of the time, the set of instructions will act on the input we have supplied to the function and produces some output which is then passed to a variable to be stored. Let's modify `my_first_function` to print out a name supplied as input to it. "
   ]
  },
  {
   "cell_type": "code",
   "execution_count": 6,
   "metadata": {},
   "outputs": [
    {
     "name": "stdout",
     "output_type": "stream",
     "text": [
      "Hello Tang U-Liang\n"
     ]
    }
   ],
   "source": [
    "def my_first_function(name):\n",
    "    print(\"Hello %s\" % (name))\n",
    "    return None\n",
    "\n",
    "my_first_function(\"Tang U-Liang\")"
   ]
  },
  {
   "cell_type": "code",
   "execution_count": 15,
   "metadata": {
    "collapsed": true
   },
   "outputs": [],
   "source": [
    "# Passing two arguments\n",
    "\n",
    "def special_product(x,y):\n",
    "    prod = x-y+x*y\n",
    "    return prod "
   ]
  },
  {
   "cell_type": "markdown",
   "metadata": {},
   "source": [
    "When defining functions with arguments, the same variable name used in the signature must be used in the body of the function. Now there is nothing inherently special about using `name` to represent the argument for names to `my_first_function`. After all, the computer doesn't \"understand\" that we intend to print out a name when calling `my_first_function`. However, we should use recognizable variable names to improve readibility of our code and to make our intentions transparent. \n",
    "\n",
    "In the function `special_product`, I passed two arguments named `x` and `y`. Inside the function, it performs the operation and assigns the result to a variable named `prod`. Then the function uses the keyword `return` to send the answer out from the function environment to the global environment. "
   ]
  },
  {
   "cell_type": "code",
   "execution_count": 16,
   "metadata": {},
   "outputs": [
    {
     "name": "stdout",
     "output_type": "stream",
     "text": [
      "1\n"
     ]
    }
   ],
   "source": [
    "answer = special_product(1,3)\n",
    "print(answer)"
   ]
  },
  {
   "cell_type": "markdown",
   "metadata": {},
   "source": [
    "What  happened is that the function `special_product` performs the said operation on inputs `1` and `3`. It then outputs the answer, in this case `7`. We assign the output `7` to a variable named `answer` and print it. \n",
    "\n",
    "Note that we do not need to explicit declare a variable to \"capture\" the answer. The following works too. "
   ]
  },
  {
   "cell_type": "code",
   "execution_count": 17,
   "metadata": {},
   "outputs": [
    {
     "data": {
      "text/plain": [
       "1"
      ]
     },
     "execution_count": 17,
     "metadata": {},
     "output_type": "execute_result"
    }
   ],
   "source": [
    "special_product(1,3)"
   ]
  },
  {
   "cell_type": "markdown",
   "metadata": {},
   "source": [
    "Passing arguments in correct sequence matters. Python will pass values to arguments according to the sequence as it was declared in the signature. "
   ]
  },
  {
   "cell_type": "code",
   "execution_count": 20,
   "metadata": {},
   "outputs": [
    {
     "name": "stdout",
     "output_type": "stream",
     "text": [
      "1\n",
      "5\n"
     ]
    }
   ],
   "source": [
    "# x = 1, and y =3\n",
    "print(special_product(1,3))\n",
    "\n",
    "# x =3 and y = 1\n",
    "print(special_product(3,1))"
   ]
  },
  {
   "cell_type": "markdown",
   "metadata": {},
   "source": [
    "What will happen if we try to display the variable `prod` directly? "
   ]
  },
  {
   "cell_type": "code",
   "execution_count": 18,
   "metadata": {},
   "outputs": [
    {
     "ename": "NameError",
     "evalue": "name 'prod' is not defined",
     "output_type": "error",
     "traceback": [
      "\u001b[0;31m---------------------------------------------------------------------------\u001b[0m",
      "\u001b[0;31mNameError\u001b[0m                                 Traceback (most recent call last)",
      "\u001b[0;32m<ipython-input-18-2d17e3b3f56a>\u001b[0m in \u001b[0;36m<module>\u001b[0;34m()\u001b[0m\n\u001b[0;32m----> 1\u001b[0;31m \u001b[1;32mprint\u001b[0m\u001b[1;33m(\u001b[0m\u001b[0mprod\u001b[0m\u001b[1;33m)\u001b[0m\u001b[1;33m\u001b[0m\u001b[0m\n\u001b[0m",
      "\u001b[0;31mNameError\u001b[0m: name 'prod' is not defined"
     ]
    }
   ],
   "source": [
    "print(prod)"
   ]
  },
  {
   "cell_type": "markdown",
   "metadata": {},
   "source": [
    "### 9.3.1 Function scope\n",
    "\n",
    "But isn't the variable `prod` defined already when we defined the function `special_product`? This happens because the variable `prod` is only available in the *scope* of the function. The global environment is another scope. In general, variables from one scope are not accessible in another scope with exeptions given by scoping rules (which are programming language dependant). For this course, it suffices to know that variables defined in the function scope will *NOT* be accessible from the global scope. \n",
    "\n",
    "(This can be overriden using the `global` keyword. But this is not encouraged.) \n",
    "\n",
    "## 9.4 Function defaults\n",
    "\n",
    "When we define functions, all variables we define in the signature must be assigned values. We cannot leave any out. "
   ]
  },
  {
   "cell_type": "code",
   "execution_count": 21,
   "metadata": {},
   "outputs": [
    {
     "ename": "TypeError",
     "evalue": "special_product() takes exactly 2 arguments (1 given)",
     "output_type": "error",
     "traceback": [
      "\u001b[0;31m---------------------------------------------------------------------------\u001b[0m",
      "\u001b[0;31mTypeError\u001b[0m                                 Traceback (most recent call last)",
      "\u001b[0;32m<ipython-input-21-a921fb88b85c>\u001b[0m in \u001b[0;36m<module>\u001b[0;34m()\u001b[0m\n\u001b[0;32m----> 1\u001b[0;31m \u001b[0mspecial_product\u001b[0m\u001b[1;33m(\u001b[0m\u001b[1;36m1\u001b[0m\u001b[1;33m,\u001b[0m\u001b[1;33m)\u001b[0m\u001b[1;33m\u001b[0m\u001b[0m\n\u001b[0m",
      "\u001b[0;31mTypeError\u001b[0m: special_product() takes exactly 2 arguments (1 given)"
     ]
    }
   ],
   "source": [
    "special_product(1,)"
   ]
  },
  {
   "cell_type": "markdown",
   "metadata": {},
   "source": [
    "Therefore, it becomes quite a hassle if we have to call the function in various places in our code with the same input in one of the arguments. To do that we can assign default values to particular arguments in the following manner.\n",
    "\n",
    "    def my_function(arg_1, arg_2 = default_value, ...):\n",
    "    \n",
    "        code\n",
    "        \n",
    "Note that arguments assigned default values must come after arguments without default values. Also, don't worry that you cannot input values other than defaults. You are still able to override default values when you need to. "
   ]
  },
  {
   "cell_type": "code",
   "execution_count": 24,
   "metadata": {},
   "outputs": [
    {
     "name": "stdout",
     "output_type": "stream",
     "text": [
      "3\n",
      "11\n"
     ]
    }
   ],
   "source": [
    "def special_product(x, y=1): # default value of y is 1\n",
    "    return x-y+x*y\n",
    "\n",
    "# We don't have to pass any value to arguments with default values\n",
    "print(special_product(2))\n",
    "\n",
    "# Default values can be overriden\n",
    "print(special_product(2,9))"
   ]
  },
  {
   "cell_type": "markdown",
   "metadata": {},
   "source": [
    "## 9.5 Passing arguments to functions by keyword \n",
    "\n",
    "The arguments to a function have names, just as variables have names. The names of arguments to a function are called keywords. We can pass arguments to functions by assigning values explicitly to keywords like so:\n",
    "\n",
    "    my_function(keyword_1 = value_1, keyword_2 = value_2,...)\n",
    "    \n",
    "This gives enormous flexibility in using Python interactively. Most functions given in the `matplotlib` and `seaborn` libraries have many arguments almost all of have them have default values. However, we often use a few of these keywords and it is quite a pain to remember the exact sequence of arguments in the function signature. Passing argments to keywords allows us to pass arguments in any order convenient to us. "
   ]
  },
  {
   "cell_type": "code",
   "execution_count": 25,
   "metadata": {},
   "outputs": [
    {
     "data": {
      "text/plain": [
       "False"
      ]
     },
     "execution_count": 25,
     "metadata": {},
     "output_type": "execute_result"
    }
   ],
   "source": [
    "special_product(1,3) == special_product(3,1)"
   ]
  },
  {
   "cell_type": "code",
   "execution_count": 27,
   "metadata": {},
   "outputs": [
    {
     "data": {
      "text/plain": [
       "True"
      ]
     },
     "execution_count": 27,
     "metadata": {},
     "output_type": "execute_result"
    }
   ],
   "source": [
    "special_product(x=1, y=3) == special_product( y=3, x=1)"
   ]
  },
  {
   "cell_type": "markdown",
   "metadata": {},
   "source": [
    "### 9.5.1 An application: A function to implement the Euclidean algorithm\n",
    "\n",
    "To end this section, below is code to find the gcd of two positive integers. The function will also print out each stage of the algorithm as an output of 3 numbers: (m, n, remainder). "
   ]
  },
  {
   "cell_type": "code",
   "execution_count": 1,
   "metadata": {
    "collapsed": true
   },
   "outputs": [],
   "source": [
    "def gcd(m=1,n=1):\n",
    "    \"\"\"\n",
    "    This function implementats the Euclidean algorithm to find the gcd of two positive integers. \n",
    "    \n",
    "    Returns:\n",
    "        int, greatest common divisor of m and n. \n",
    "    \"\"\"\n",
    "    \n",
    "    if m < n:\n",
    "        r = [n, m, n%m]\n",
    "    else:\n",
    "        r = [m, n, m%n]\n",
    "        \n",
    "    for _ in range(0, r[1]):\n",
    "        \n",
    "        print(\"{} {} {}\".format(r[0], r[1], r[2]))\n",
    "        \n",
    "        if r[2] == 0:\n",
    "            break\n",
    "        else:\n",
    "            r = [r[1], r[2], r[1]%r[2]]\n",
    "        \n",
    "    print(\"Greatest common divisor of {} and {} is {}\".format(m, n, r[1]))\n",
    "    return r[1]"
   ]
  },
  {
   "cell_type": "code",
   "execution_count": 2,
   "metadata": {},
   "outputs": [
    {
     "name": "stdout",
     "output_type": "stream",
     "text": [
      "151000 14356 7440\n",
      "14356 7440 6916\n",
      "7440 6916 524\n",
      "6916 524 104\n",
      "524 104 4\n",
      "104 4 0\n",
      "Greatest common divisor of 151000 and 14356 is 4\n"
     ]
    },
    {
     "data": {
      "text/plain": [
       "4"
      ]
     },
     "execution_count": 2,
     "metadata": {},
     "output_type": "execute_result"
    }
   ],
   "source": [
    "gcd(151000,14356)"
   ]
  },
  {
   "cell_type": "markdown",
   "metadata": {
    "collapsed": true
   },
   "source": [
    "# 10. Lambda expressions\n",
    "_______\n",
    "\n",
    "Lambda expressions are used to define short functions that may be written in one line of code. This is more than just a convenience. Most arguments to `pandas` and `seaborn` functions are intended to take in *callables* (functions) and lambda expressions provide a good syntactical way of passing functions as arguments to other functions. \n",
    "\n",
    "Recall our definition of `my_first_function`: "
   ]
  },
  {
   "cell_type": "code",
   "execution_count": 3,
   "metadata": {
    "collapsed": true
   },
   "outputs": [],
   "source": [
    "def my_first_function(name):\n",
    "    print(\"Hello %s\" % (name))"
   ]
  },
  {
   "cell_type": "markdown",
   "metadata": {},
   "source": [
    "Notice that this function essentially consists of one line, namely the `print` statement. Using lambda expressions, this can be shortened to:"
   ]
  },
  {
   "cell_type": "code",
   "execution_count": 8,
   "metadata": {
    "collapsed": true
   },
   "outputs": [],
   "source": [
    "printer = lambda name: print(\"Hello %s\" % (name))"
   ]
  },
  {
   "cell_type": "markdown",
   "metadata": {},
   "source": [
    "We use the `lambda` keyword to define lambda expressions. After `lambda` we type in the arguments to the function but without enclosing it in `( )`. All arguments must be seperated by commas. Once that is done, type a `:` and follow it with one line of code which does whatever you want it to do. In this case here, I simply want to `print` a name. Functionally, this lambda expression is equivalent to `my_first_function`. However, as you can see below, they are different objects."
   ]
  },
  {
   "cell_type": "code",
   "execution_count": 9,
   "metadata": {},
   "outputs": [
    {
     "data": {
      "text/plain": [
       "False"
      ]
     },
     "execution_count": 9,
     "metadata": {},
     "output_type": "execute_result"
    }
   ],
   "source": [
    "my_first_function is printer"
   ]
  },
  {
   "cell_type": "code",
   "execution_count": 10,
   "metadata": {},
   "outputs": [
    {
     "data": {
      "text/plain": [
       "<function __main__.<lambda>>"
      ]
     },
     "execution_count": 10,
     "metadata": {},
     "output_type": "execute_result"
    }
   ],
   "source": [
    "printer"
   ]
  },
  {
   "cell_type": "markdown",
   "metadata": {},
   "source": [
    "Notice that `printer` is of class `function` but is given a name `<lambda>`. However, we can call `printer` just as we called `my_first_function`, by passing arguments to it.  "
   ]
  },
  {
   "cell_type": "code",
   "execution_count": 11,
   "metadata": {},
   "outputs": [
    {
     "name": "stdout",
     "output_type": "stream",
     "text": [
      "Hello Joe\n"
     ]
    }
   ],
   "source": [
    "printer(\"Joe\")"
   ]
  },
  {
   "cell_type": "markdown",
   "metadata": {},
   "source": [
    "Lambda expressions can take on more than one argument. Here is the function `special_product` refactored as a lambda expression."
   ]
  },
  {
   "cell_type": "code",
   "execution_count": 15,
   "metadata": {},
   "outputs": [
    {
     "data": {
      "text/plain": [
       "91"
      ]
     },
     "execution_count": 15,
     "metadata": {},
     "output_type": "execute_result"
    }
   ],
   "source": [
    "special_product = lambda x, y: x-y+x*y\n",
    "\n",
    "special_product(10,9)"
   ]
  },
  {
   "cell_type": "markdown",
   "metadata": {},
   "source": [
    "Notice that I did not need to put a `return` to indicate which output to pass to the global environment. This is because lambda expressions are meant to be written in one line, hence it is understood that that one line of code *is* the output. \n",
    "\n",
    "## 10.1 Use cases\n",
    "\n",
    "Lambda expressions are also known as anonymous functions because we rarely assign lambda expressions to variables. Instead, they are passed directly to keywords or as arguments to most `pandas` functions or methods. Here is an example to how this is used in a pandas dataframe.\n",
    "\n",
    "In what follows, we intend to calculate the ratio of `sulphates` to `alchohol` content for each sample (row) and assign it as a new column to the data frame. The data frame is displayed below and has been assigned to variable named `wine`. "
   ]
  },
  {
   "cell_type": "code",
   "execution_count": 17,
   "metadata": {},
   "outputs": [
    {
     "data": {
      "text/html": [
       "<div>\n",
       "<style>\n",
       "    .dataframe thead tr:only-child th {\n",
       "        text-align: right;\n",
       "    }\n",
       "\n",
       "    .dataframe thead th {\n",
       "        text-align: left;\n",
       "    }\n",
       "\n",
       "    .dataframe tbody tr th {\n",
       "        vertical-align: top;\n",
       "    }\n",
       "</style>\n",
       "<table border=\"1\" class=\"dataframe\">\n",
       "  <thead>\n",
       "    <tr style=\"text-align: right;\">\n",
       "      <th></th>\n",
       "      <th>fixed acidity</th>\n",
       "      <th>volatile acidity</th>\n",
       "      <th>citric acid</th>\n",
       "      <th>residual sugar</th>\n",
       "      <th>chlorides</th>\n",
       "      <th>free sulfur dioxide</th>\n",
       "      <th>total sulfur dioxide</th>\n",
       "      <th>density</th>\n",
       "      <th>pH</th>\n",
       "      <th>sulphates</th>\n",
       "      <th>alcohol</th>\n",
       "      <th>quality</th>\n",
       "    </tr>\n",
       "  </thead>\n",
       "  <tbody>\n",
       "    <tr>\n",
       "      <th>290</th>\n",
       "      <td>8.7</td>\n",
       "      <td>0.520</td>\n",
       "      <td>0.09</td>\n",
       "      <td>2.5</td>\n",
       "      <td>0.091</td>\n",
       "      <td>20.0</td>\n",
       "      <td>49.0</td>\n",
       "      <td>0.99760</td>\n",
       "      <td>3.34</td>\n",
       "      <td>0.86</td>\n",
       "      <td>10.6</td>\n",
       "      <td>7</td>\n",
       "    </tr>\n",
       "    <tr>\n",
       "      <th>1478</th>\n",
       "      <td>7.1</td>\n",
       "      <td>0.875</td>\n",
       "      <td>0.05</td>\n",
       "      <td>5.7</td>\n",
       "      <td>0.082</td>\n",
       "      <td>3.0</td>\n",
       "      <td>14.0</td>\n",
       "      <td>0.99808</td>\n",
       "      <td>3.40</td>\n",
       "      <td>0.52</td>\n",
       "      <td>10.2</td>\n",
       "      <td>3</td>\n",
       "    </tr>\n",
       "    <tr>\n",
       "      <th>622</th>\n",
       "      <td>10.0</td>\n",
       "      <td>0.580</td>\n",
       "      <td>0.22</td>\n",
       "      <td>1.9</td>\n",
       "      <td>0.080</td>\n",
       "      <td>9.0</td>\n",
       "      <td>32.0</td>\n",
       "      <td>0.99740</td>\n",
       "      <td>3.13</td>\n",
       "      <td>0.55</td>\n",
       "      <td>9.5</td>\n",
       "      <td>5</td>\n",
       "    </tr>\n",
       "    <tr>\n",
       "      <th>287</th>\n",
       "      <td>7.5</td>\n",
       "      <td>0.400</td>\n",
       "      <td>0.12</td>\n",
       "      <td>3.0</td>\n",
       "      <td>0.092</td>\n",
       "      <td>29.0</td>\n",
       "      <td>53.0</td>\n",
       "      <td>0.99670</td>\n",
       "      <td>3.37</td>\n",
       "      <td>0.70</td>\n",
       "      <td>10.3</td>\n",
       "      <td>6</td>\n",
       "    </tr>\n",
       "    <tr>\n",
       "      <th>1292</th>\n",
       "      <td>5.9</td>\n",
       "      <td>0.395</td>\n",
       "      <td>0.13</td>\n",
       "      <td>2.4</td>\n",
       "      <td>0.056</td>\n",
       "      <td>14.0</td>\n",
       "      <td>28.0</td>\n",
       "      <td>0.99362</td>\n",
       "      <td>3.62</td>\n",
       "      <td>0.67</td>\n",
       "      <td>12.4</td>\n",
       "      <td>6</td>\n",
       "    </tr>\n",
       "  </tbody>\n",
       "</table>\n",
       "</div>"
      ],
      "text/plain": [
       "      fixed acidity  volatile acidity  citric acid  residual sugar  chlorides  \\\n",
       "290             8.7             0.520         0.09             2.5      0.091   \n",
       "1478            7.1             0.875         0.05             5.7      0.082   \n",
       "622            10.0             0.580         0.22             1.9      0.080   \n",
       "287             7.5             0.400         0.12             3.0      0.092   \n",
       "1292            5.9             0.395         0.13             2.4      0.056   \n",
       "\n",
       "      free sulfur dioxide  total sulfur dioxide  density    pH  sulphates  \\\n",
       "290                  20.0                  49.0  0.99760  3.34       0.86   \n",
       "1478                  3.0                  14.0  0.99808  3.40       0.52   \n",
       "622                   9.0                  32.0  0.99740  3.13       0.55   \n",
       "287                  29.0                  53.0  0.99670  3.37       0.70   \n",
       "1292                 14.0                  28.0  0.99362  3.62       0.67   \n",
       "\n",
       "      alcohol  quality  \n",
       "290      10.6        7  \n",
       "1478     10.2        3  \n",
       "622       9.5        5  \n",
       "287      10.3        6  \n",
       "1292     12.4        6  "
      ]
     },
     "execution_count": 17,
     "metadata": {},
     "output_type": "execute_result"
    }
   ],
   "source": [
    "import pandas as pd # Importing the pandas library\n",
    "\n",
    "wine = pd.read_csv(\"winequality-red.csv\", sep=';')\n",
    "\n",
    "wine.sample(5)"
   ]
  },
  {
   "cell_type": "markdown",
   "metadata": {},
   "source": [
    "Here's how this could be achieved. We first define the function that calculates the ratio and then proceed to create the new calculated column. "
   ]
  },
  {
   "cell_type": "code",
   "execution_count": 20,
   "metadata": {},
   "outputs": [
    {
     "data": {
      "text/html": [
       "<div>\n",
       "<style>\n",
       "    .dataframe thead tr:only-child th {\n",
       "        text-align: right;\n",
       "    }\n",
       "\n",
       "    .dataframe thead th {\n",
       "        text-align: left;\n",
       "    }\n",
       "\n",
       "    .dataframe tbody tr th {\n",
       "        vertical-align: top;\n",
       "    }\n",
       "</style>\n",
       "<table border=\"1\" class=\"dataframe\">\n",
       "  <thead>\n",
       "    <tr style=\"text-align: right;\">\n",
       "      <th></th>\n",
       "      <th>fixed acidity</th>\n",
       "      <th>volatile acidity</th>\n",
       "      <th>citric acid</th>\n",
       "      <th>residual sugar</th>\n",
       "      <th>chlorides</th>\n",
       "      <th>free sulfur dioxide</th>\n",
       "      <th>total sulfur dioxide</th>\n",
       "      <th>density</th>\n",
       "      <th>pH</th>\n",
       "      <th>sulphates</th>\n",
       "      <th>alcohol</th>\n",
       "      <th>quality</th>\n",
       "      <th>ratio_sul_to_alc</th>\n",
       "    </tr>\n",
       "  </thead>\n",
       "  <tbody>\n",
       "    <tr>\n",
       "      <th>0</th>\n",
       "      <td>7.4</td>\n",
       "      <td>0.70</td>\n",
       "      <td>0.00</td>\n",
       "      <td>1.9</td>\n",
       "      <td>0.076</td>\n",
       "      <td>11.0</td>\n",
       "      <td>34.0</td>\n",
       "      <td>0.9978</td>\n",
       "      <td>3.51</td>\n",
       "      <td>0.56</td>\n",
       "      <td>9.4</td>\n",
       "      <td>5</td>\n",
       "      <td>0.059574</td>\n",
       "    </tr>\n",
       "    <tr>\n",
       "      <th>1</th>\n",
       "      <td>7.8</td>\n",
       "      <td>0.88</td>\n",
       "      <td>0.00</td>\n",
       "      <td>2.6</td>\n",
       "      <td>0.098</td>\n",
       "      <td>25.0</td>\n",
       "      <td>67.0</td>\n",
       "      <td>0.9968</td>\n",
       "      <td>3.20</td>\n",
       "      <td>0.68</td>\n",
       "      <td>9.8</td>\n",
       "      <td>5</td>\n",
       "      <td>0.069388</td>\n",
       "    </tr>\n",
       "    <tr>\n",
       "      <th>2</th>\n",
       "      <td>7.8</td>\n",
       "      <td>0.76</td>\n",
       "      <td>0.04</td>\n",
       "      <td>2.3</td>\n",
       "      <td>0.092</td>\n",
       "      <td>15.0</td>\n",
       "      <td>54.0</td>\n",
       "      <td>0.9970</td>\n",
       "      <td>3.26</td>\n",
       "      <td>0.65</td>\n",
       "      <td>9.8</td>\n",
       "      <td>5</td>\n",
       "      <td>0.066327</td>\n",
       "    </tr>\n",
       "    <tr>\n",
       "      <th>3</th>\n",
       "      <td>11.2</td>\n",
       "      <td>0.28</td>\n",
       "      <td>0.56</td>\n",
       "      <td>1.9</td>\n",
       "      <td>0.075</td>\n",
       "      <td>17.0</td>\n",
       "      <td>60.0</td>\n",
       "      <td>0.9980</td>\n",
       "      <td>3.16</td>\n",
       "      <td>0.58</td>\n",
       "      <td>9.8</td>\n",
       "      <td>6</td>\n",
       "      <td>0.059184</td>\n",
       "    </tr>\n",
       "    <tr>\n",
       "      <th>4</th>\n",
       "      <td>7.4</td>\n",
       "      <td>0.70</td>\n",
       "      <td>0.00</td>\n",
       "      <td>1.9</td>\n",
       "      <td>0.076</td>\n",
       "      <td>11.0</td>\n",
       "      <td>34.0</td>\n",
       "      <td>0.9978</td>\n",
       "      <td>3.51</td>\n",
       "      <td>0.56</td>\n",
       "      <td>9.4</td>\n",
       "      <td>5</td>\n",
       "      <td>0.059574</td>\n",
       "    </tr>\n",
       "  </tbody>\n",
       "</table>\n",
       "</div>"
      ],
      "text/plain": [
       "   fixed acidity  volatile acidity  citric acid  residual sugar  chlorides  \\\n",
       "0            7.4              0.70         0.00             1.9      0.076   \n",
       "1            7.8              0.88         0.00             2.6      0.098   \n",
       "2            7.8              0.76         0.04             2.3      0.092   \n",
       "3           11.2              0.28         0.56             1.9      0.075   \n",
       "4            7.4              0.70         0.00             1.9      0.076   \n",
       "\n",
       "   free sulfur dioxide  total sulfur dioxide  density    pH  sulphates  \\\n",
       "0                 11.0                  34.0   0.9978  3.51       0.56   \n",
       "1                 25.0                  67.0   0.9968  3.20       0.68   \n",
       "2                 15.0                  54.0   0.9970  3.26       0.65   \n",
       "3                 17.0                  60.0   0.9980  3.16       0.58   \n",
       "4                 11.0                  34.0   0.9978  3.51       0.56   \n",
       "\n",
       "   alcohol  quality  ratio_sul_to_alc  \n",
       "0      9.4        5          0.059574  \n",
       "1      9.8        5          0.069388  \n",
       "2      9.8        5          0.066327  \n",
       "3      9.8        6          0.059184  \n",
       "4      9.4        5          0.059574  "
      ]
     },
     "execution_count": 20,
     "metadata": {},
     "output_type": "execute_result"
    }
   ],
   "source": [
    "def ratio(df): \n",
    "    \"\"\" This function calculates the ratio of sulphates to alcohol content in the wine dataframe\n",
    "    \n",
    "    Returns\n",
    "        Series, shape (n_samples, ) Array containing the ratio of sulphate to alcohol content for each sample\n",
    "    \"\"\"\n",
    "    ratio_col = df.sulphates/df.alcohol\n",
    "    return ratio_col\n",
    "\n",
    "(wine.assign(ratio_sul_to_alc=ratio)\n",
    "     .head(5))"
   ]
  },
  {
   "cell_type": "markdown",
   "metadata": {},
   "source": [
    "As you can see, a new column has been added with the calculated column named `ratio_sul_to_alc`. However, we had to define a function named `ratio` which we may or may not use again. We would like to achieve the same thing, but without populating the global namespace with unnecessary variables.  \n",
    "\n",
    "So let's do the same thing but with lambda expressions. "
   ]
  },
  {
   "cell_type": "code",
   "execution_count": 21,
   "metadata": {},
   "outputs": [
    {
     "data": {
      "text/html": [
       "<div>\n",
       "<style>\n",
       "    .dataframe thead tr:only-child th {\n",
       "        text-align: right;\n",
       "    }\n",
       "\n",
       "    .dataframe thead th {\n",
       "        text-align: left;\n",
       "    }\n",
       "\n",
       "    .dataframe tbody tr th {\n",
       "        vertical-align: top;\n",
       "    }\n",
       "</style>\n",
       "<table border=\"1\" class=\"dataframe\">\n",
       "  <thead>\n",
       "    <tr style=\"text-align: right;\">\n",
       "      <th></th>\n",
       "      <th>fixed acidity</th>\n",
       "      <th>volatile acidity</th>\n",
       "      <th>citric acid</th>\n",
       "      <th>residual sugar</th>\n",
       "      <th>chlorides</th>\n",
       "      <th>free sulfur dioxide</th>\n",
       "      <th>total sulfur dioxide</th>\n",
       "      <th>density</th>\n",
       "      <th>pH</th>\n",
       "      <th>sulphates</th>\n",
       "      <th>alcohol</th>\n",
       "      <th>quality</th>\n",
       "      <th>ratio_sul_to_alc</th>\n",
       "    </tr>\n",
       "  </thead>\n",
       "  <tbody>\n",
       "    <tr>\n",
       "      <th>0</th>\n",
       "      <td>7.4</td>\n",
       "      <td>0.70</td>\n",
       "      <td>0.00</td>\n",
       "      <td>1.9</td>\n",
       "      <td>0.076</td>\n",
       "      <td>11.0</td>\n",
       "      <td>34.0</td>\n",
       "      <td>0.9978</td>\n",
       "      <td>3.51</td>\n",
       "      <td>0.56</td>\n",
       "      <td>9.4</td>\n",
       "      <td>5</td>\n",
       "      <td>0.059574</td>\n",
       "    </tr>\n",
       "    <tr>\n",
       "      <th>1</th>\n",
       "      <td>7.8</td>\n",
       "      <td>0.88</td>\n",
       "      <td>0.00</td>\n",
       "      <td>2.6</td>\n",
       "      <td>0.098</td>\n",
       "      <td>25.0</td>\n",
       "      <td>67.0</td>\n",
       "      <td>0.9968</td>\n",
       "      <td>3.20</td>\n",
       "      <td>0.68</td>\n",
       "      <td>9.8</td>\n",
       "      <td>5</td>\n",
       "      <td>0.069388</td>\n",
       "    </tr>\n",
       "    <tr>\n",
       "      <th>2</th>\n",
       "      <td>7.8</td>\n",
       "      <td>0.76</td>\n",
       "      <td>0.04</td>\n",
       "      <td>2.3</td>\n",
       "      <td>0.092</td>\n",
       "      <td>15.0</td>\n",
       "      <td>54.0</td>\n",
       "      <td>0.9970</td>\n",
       "      <td>3.26</td>\n",
       "      <td>0.65</td>\n",
       "      <td>9.8</td>\n",
       "      <td>5</td>\n",
       "      <td>0.066327</td>\n",
       "    </tr>\n",
       "    <tr>\n",
       "      <th>3</th>\n",
       "      <td>11.2</td>\n",
       "      <td>0.28</td>\n",
       "      <td>0.56</td>\n",
       "      <td>1.9</td>\n",
       "      <td>0.075</td>\n",
       "      <td>17.0</td>\n",
       "      <td>60.0</td>\n",
       "      <td>0.9980</td>\n",
       "      <td>3.16</td>\n",
       "      <td>0.58</td>\n",
       "      <td>9.8</td>\n",
       "      <td>6</td>\n",
       "      <td>0.059184</td>\n",
       "    </tr>\n",
       "    <tr>\n",
       "      <th>4</th>\n",
       "      <td>7.4</td>\n",
       "      <td>0.70</td>\n",
       "      <td>0.00</td>\n",
       "      <td>1.9</td>\n",
       "      <td>0.076</td>\n",
       "      <td>11.0</td>\n",
       "      <td>34.0</td>\n",
       "      <td>0.9978</td>\n",
       "      <td>3.51</td>\n",
       "      <td>0.56</td>\n",
       "      <td>9.4</td>\n",
       "      <td>5</td>\n",
       "      <td>0.059574</td>\n",
       "    </tr>\n",
       "  </tbody>\n",
       "</table>\n",
       "</div>"
      ],
      "text/plain": [
       "   fixed acidity  volatile acidity  citric acid  residual sugar  chlorides  \\\n",
       "0            7.4              0.70         0.00             1.9      0.076   \n",
       "1            7.8              0.88         0.00             2.6      0.098   \n",
       "2            7.8              0.76         0.04             2.3      0.092   \n",
       "3           11.2              0.28         0.56             1.9      0.075   \n",
       "4            7.4              0.70         0.00             1.9      0.076   \n",
       "\n",
       "   free sulfur dioxide  total sulfur dioxide  density    pH  sulphates  \\\n",
       "0                 11.0                  34.0   0.9978  3.51       0.56   \n",
       "1                 25.0                  67.0   0.9968  3.20       0.68   \n",
       "2                 15.0                  54.0   0.9970  3.26       0.65   \n",
       "3                 17.0                  60.0   0.9980  3.16       0.58   \n",
       "4                 11.0                  34.0   0.9978  3.51       0.56   \n",
       "\n",
       "   alcohol  quality  ratio_sul_to_alc  \n",
       "0      9.4        5          0.059574  \n",
       "1      9.8        5          0.069388  \n",
       "2      9.8        5          0.066327  \n",
       "3      9.8        6          0.059184  \n",
       "4      9.4        5          0.059574  "
      ]
     },
     "execution_count": 21,
     "metadata": {},
     "output_type": "execute_result"
    }
   ],
   "source": [
    "(wine.assign(ratio_sul_to_alc=lambda df: df.sulphates/df.alcohol)\n",
    "     .head(5))"
   ]
  },
  {
   "cell_type": "markdown",
   "metadata": {},
   "source": [
    "Notice that they give the same answer. We will learn how to do this in detail in the next unit. For now, the purpose of this example is to illustrate how lambda expressions are a great help in simplifying and making code more compact and readable. "
   ]
  },
  {
   "cell_type": "markdown",
   "metadata": {
    "collapsed": true
   },
   "source": [
    "# 11. Built in functions\n",
    "_____\n",
    "Python has some built in functions for coding purposes. While there are quite a few of them, the following three will be used quite often in handling dataframes and visualization. These are \n",
    "\n",
    "  * `zip` is a utility function that produces tuples from two lists of equal length. \n",
    "  * `enumerate` also creates a tuple in the form $ (i, item_i)$ for $0\\leq i < $ `len(items)`. \n",
    "\n",
    "We will also cover the concept of **list comprehension** in this section as it is an important programming concept and syntax in Python. \n",
    "\n",
    "## 11.1 `zip`\n",
    "\n",
    "To understand what `zip` does, we need to describe a rather simple data structure called `tuple`. A tuple is like a list, with the difference being that its elements are **immutable**. Tuples are created by enclosing a list of objects seperated by commas within two round braces `()`"
   ]
  },
  {
   "cell_type": "code",
   "execution_count": 1,
   "metadata": {},
   "outputs": [
    {
     "name": "stdout",
     "output_type": "stream",
     "text": [
      "(1, 4)\n"
     ]
    }
   ],
   "source": [
    "pair = (1,4)\n",
    "\n",
    "print(pair)"
   ]
  },
  {
   "cell_type": "markdown",
   "metadata": {},
   "source": [
    "As with lists, tuples can also be indexed and sliced. However, once assigned, individual components of a tuple cannot be changed. For example, the following code will raise and error"
   ]
  },
  {
   "cell_type": "code",
   "execution_count": 4,
   "metadata": {},
   "outputs": [
    {
     "ename": "TypeError",
     "evalue": "'tuple' object does not support item assignment",
     "output_type": "error",
     "traceback": [
      "\u001b[0;31m---------------------------------------------------------------------------\u001b[0m",
      "\u001b[0;31mTypeError\u001b[0m                                 Traceback (most recent call last)",
      "\u001b[0;32m<ipython-input-4-43fb3051a481>\u001b[0m in \u001b[0;36m<module>\u001b[0;34m()\u001b[0m\n\u001b[0;32m----> 1\u001b[0;31m \u001b[0mpair\u001b[0m\u001b[1;33m[\u001b[0m\u001b[1;36m0\u001b[0m\u001b[1;33m]\u001b[0m \u001b[1;33m=\u001b[0m \u001b[1;36m2\u001b[0m\u001b[1;33m\u001b[0m\u001b[0m\n\u001b[0m",
      "\u001b[0;31mTypeError\u001b[0m: 'tuple' object does not support item assignment"
     ]
    }
   ],
   "source": [
    "pair[0] = 2"
   ]
  },
  {
   "cell_type": "markdown",
   "metadata": {},
   "source": [
    "Think of tuples as lists which you wish to protect from changing by accidental assignment. Another way of thinking about tuples are also as constant lists, or as \"coordinates\" in $\\mathbb{R}^n$. \n",
    "\n",
    "Given two lists with items $$ x_1, \\ldots, x_n$$ and $$ y_1, \\ldots, y_n$$ `zip` produces a new list of `tuples` in the following form $$ (x_1, y_1), \\ldots, (x_n, y_n)$$\n",
    "\n",
    "To understand how `zip` works, let's try to replicate its function using a for loop.  "
   ]
  },
  {
   "cell_type": "code",
   "execution_count": 6,
   "metadata": {},
   "outputs": [
    {
     "name": "stdout",
     "output_type": "stream",
     "text": [
      "[('Andy', 29), ('Lisa', 24), ('Dayton', 50)]\n"
     ]
    }
   ],
   "source": [
    "zipped = list() # This creates and empty list \n",
    "\n",
    "my_colleagues = ['Andy', 'Lisa', 'Dayton']\n",
    "ages = [29, 24, 50]\n",
    "\n",
    "for i in range(0,3):\n",
    "    zipped.append((my_colleagues[i], ages[i]))\n",
    "\n",
    "print(zipped)"
   ]
  },
  {
   "cell_type": "markdown",
   "metadata": {},
   "source": [
    "Imagine having to write such a snippet of code every time we need to do something with elements from two lists! As you can imagine, it can cause code to be bloated and distracts from the main logic of the program. \n",
    "\n",
    "Here's how `zip` is typically used in a program.  "
   ]
  },
  {
   "cell_type": "code",
   "execution_count": 7,
   "metadata": {},
   "outputs": [
    {
     "name": "stdout",
     "output_type": "stream",
     "text": [
      "Andy's age is 29\n",
      "Lisa's age is 24\n",
      "Dayton's age is 50\n"
     ]
    }
   ],
   "source": [
    "for tup in zip(my_colleagues, ages):\n",
    "    name = tup[0]\n",
    "    age = tup[1]\n",
    "    print(\"%s's age is %d\" % (name, age))"
   ]
  },
  {
   "cell_type": "markdown",
   "metadata": {},
   "source": [
    "In fact, we can do even better in terms of readibility. We can utilize what is known as **list unpacking** to rewrite this for loop. "
   ]
  },
  {
   "cell_type": "code",
   "execution_count": 8,
   "metadata": {},
   "outputs": [
    {
     "name": "stdout",
     "output_type": "stream",
     "text": [
      "Andy's age is 29\n",
      "Lisa's age is 24\n",
      "Dayton's age is 50\n"
     ]
    }
   ],
   "source": [
    "for name, age in zip(my_colleagues, ages): # The syntax name, age is what is known as list unpacking\n",
    "    print(\"%s's age is %d\" % (name, age))"
   ]
  },
  {
   "cell_type": "markdown",
   "metadata": {},
   "source": [
    "Of course, `zip` is used in many other context other than to simplify `for` loops. Can you think of any other situations where you might need to use `zip`? \n",
    "\n",
    "## 11.2 `enumerate`\n",
    "\n",
    "As the name of this function suggests, `enumerate` is useful when we wish to produce a count of items in the list. This is one of the most useful functions you will ever use in Python. It's utility can not be understated. \n",
    "\n",
    "`enumerate` works by producing from a list $$ x_0, x_1, \\ldots, x_n$$ the following list of tuples (note the 0 indexing) $$(0, x_0), (1, x_1), \\ldots, (n, x_n) $$.  \n",
    "\n",
    "We can use list unpacking to capture both the enumerated index and the object itself. You will use `enumerate` most often in `for` loops. Below is an example where we wish to assign staff names to staff id numbers based on a running serial number. "
   ]
  },
  {
   "cell_type": "code",
   "execution_count": 9,
   "metadata": {},
   "outputs": [
    {
     "name": "stdout",
     "output_type": "stream",
     "text": [
      "A list of staff id numbers\n",
      "['s2017-1', 's2017-0', 's2017-2']\n",
      "and the respective staff names\n",
      "['Lisa', 'Andy', 'Dayton']\n"
     ]
    }
   ],
   "source": [
    "staff_id = dict()\n",
    "\n",
    "for i, name in enumerate(my_colleagues):\n",
    "    id_no = 's2017-'+str(i) # The str function coerces and integer i into 'i'\n",
    "    staff_id[id_no] = name\n",
    "\n",
    "print(\"A list of staff id numbers\")    \n",
    "print(staff_id.keys())\n",
    "print(\"and the respective staff names\")\n",
    "print(staff_id.values())"
   ]
  },
  {
   "cell_type": "markdown",
   "metadata": {},
   "source": [
    "## 11.3 List comprehension\n",
    "\n",
    "One one the great things about `for` loops in Python is there are easy to write and understand. However, this comes at a cost: time. `for` loops in Python are slow. Thus, if the code is iterated over a large number of loops, it *will* take time. \n",
    "\n",
    "Let's see this. The scenario here is that we want to assign a running serial number to staff id. This will involve coercing `int` into `str` type. The thing is, we have `5000` staff. So let's see how much computer time it takes by using `%timeit`. "
   ]
  },
  {
   "cell_type": "code",
   "execution_count": 1,
   "metadata": {},
   "outputs": [
    {
     "name": "stdout",
     "output_type": "stream",
     "text": [
      "1.87 ms ± 10.2 µs per loop (mean ± std. dev. of 7 runs, 1000 loops each)\n"
     ]
    }
   ],
   "source": [
    "%%timeit\n",
    "\n",
    "serial_numbers = list()\n",
    "for i in range(0,5000): # 5000 staff, so we need 5000 int's\n",
    "    serial_numbers.append('s'+str(i)) # our serial numbers are prefixed with 's'"
   ]
  },
  {
   "cell_type": "markdown",
   "metadata": {},
   "source": [
    "Notice that the entire script needed about 1.8 ms to execute. This isn't exactly a short amount of time as far as computers go. Just imagine that we have to do this for 10 times in a row! \n",
    "\n",
    "Fortunately Python implements what is known as **list comprehension** which is a way of writing `for` loops in a more compact and abstracted way. If we think about a `for` loop to create a list element by element, the code will look something like this: \n",
    "\n",
    "    for i in iterable:\n",
    "        \n",
    "        do code and return result_i\n",
    "        append(result_i) to list[i]\n",
    "\n",
    "Python **list comprehension** provides an alternative syntax which does the exact same thing but faster. The syntax is:\n",
    "\n",
    "    [do code for i in iterable]\n",
    "\n",
    "The code is enclosed in `[ ]` because we are using **list comprehension** to create a `list` using a set instruction for each item in the iterable (think of iterables as a `list`). If one is familiar with set notation from calculus courses, list comprehension is syntatically similiar to the following $$\\{\\, f(x_n) \\mid x_n \\in A\\}$$ where $f$ is some function meant to be evaluated element-wise on each element in a set $A$.  \n",
    "\n",
    "Now let's refactor the for loop above using list comprehension and time the script. "
   ]
  },
  {
   "cell_type": "code",
   "execution_count": 4,
   "metadata": {},
   "outputs": [
    {
     "name": "stdout",
     "output_type": "stream",
     "text": [
      "1.68 ms ± 11 µs per loop (mean ± std. dev. of 7 runs, 1000 loops each)\n"
     ]
    }
   ],
   "source": [
    "%%timeit\n",
    "\n",
    "serial_numbers = ['s'+str(i) for i in range(5000)]"
   ]
  },
  {
   "cell_type": "markdown",
   "metadata": {},
   "source": [
    "That's an improvement of about 10.2 %! \n",
    "\n",
    "Let's see another example to really familiarize ourselves with list comprehensions. In the following example, we wish to to extract the first three letters of the months in a year and capitalize them "
   ]
  },
  {
   "cell_type": "code",
   "execution_count": 8,
   "metadata": {},
   "outputs": [
    {
     "name": "stdout",
     "output_type": "stream",
     "text": [
      "['JAN', 'FEB', 'MAR', 'APR', 'MAY', 'JUN', 'JUL', 'AUG', 'SEP', 'OCT', 'NOV', 'DEC']\n"
     ]
    }
   ],
   "source": [
    "months = [\"January\", \"February\", \"March\", \"April\", \"May\", \"June\", \"July\", \"August\", \"September\", \"October\", \n",
    "          \"November\", \"December\"]\n",
    "\n",
    "# multiline statements are allowed in Python as long as they are enclosed in some sort of braces. \n",
    "\n",
    "short_name = []\n",
    "mk_list = short_name.append # Here's a neat trick, assign the append method to a variable mk_list.\n",
    "                            # mk_list is now a function\n",
    "\n",
    "for month in months:\n",
    "    mk_list(month[0:3].upper()) # .upper() is a string method that simply capitalizes all letters in a string. \n",
    "    \n",
    "print(short_name)\n"
   ]
  },
  {
   "cell_type": "markdown",
   "metadata": {},
   "source": [
    "To refactor this into a list comprehension statement, we first identify the code that is being looped over. That is \n",
    "\n",
    "    mk_list(month[0:3].upper())\n",
    "\n",
    "However, this composite statement can be broken down into steps: \n",
    "\n",
    "1. `month[0:3]` just extracts the first 3 letters from `month`\n",
    "\n",
    "1. Calling the `.upper()` method on the string of 3 letters captilizes them. \n",
    "\n",
    "1. Calling `mk_list` is essentially the task of appending the result of the previous two steps to the list `short_name`. \n",
    "\n",
    "In list comprehension, the last step is taken care of. Thus, the essential part of the code is `month[0:3].upper()`. Now we identify the iterable: This is simply the list `months` (note plural). \n",
    "\n",
    "What is the variable to indicate the particular month as we iterate over the lists of months? This is simply denoted by the name `month` (note singular). There is nothing particularly special about using `month` to name each object in the list `months`. I could have easily used `mon` as well. In that case, the essential part of the code which is being looped should be written `mon[0:3].upper()`. With that clarified, the list comprehension statement is"
   ]
  },
  {
   "cell_type": "code",
   "execution_count": 9,
   "metadata": {},
   "outputs": [
    {
     "name": "stdout",
     "output_type": "stream",
     "text": [
      "['JAN', 'FEB', 'MAR', 'APR', 'MAY', 'JUN', 'JUL', 'AUG', 'SEP', 'OCT', 'NOV', 'DEC']\n"
     ]
    }
   ],
   "source": [
    "short_name = [month[0:3].upper() for month in months]\n",
    "print(short_name)"
   ]
  },
  {
   "cell_type": "markdown",
   "metadata": {
    "collapsed": true
   },
   "source": [
    "# 12. A concluding demonstration\n",
    "_____\n",
    "In this section I want to pull together all that we have learnt in this unit to write a script that illustrates and implements the [RSA](https://en.wikipedia.org/wiki/RSA_(cryptosystem) cryptosystem method. While I will not go through the mathematical details of RSA, I will describe an outline of the program. The script is an attempt to simulate how  Bob can pass sensitive information (like a password) securely to Alice over and open channel using public key cryptography. \n",
    "\n",
    "A brief sypnosis on what you will see. \n",
    "\n",
    "1. Although we did not cover this in the course, I have created a class called `RSA` which will be used to create an object called `rsa`. Alice will use the *instance method* `rsa.keygen()` which is a `function` to create a pair of tuples: a public and private key. \n",
    "\n",
    "1. Bob will use Alice's public key, a pair numbers $(e, n)$ to encrypt his message by the following way: If $M$ is his message coded as a number ($ < n$), the ciphertext $C(M)$ is defined to be $$ C(M) \\equiv M^e\\mod n $$ This is implemented in Python as `pow(M, e, n)` where `pow` is another of Python's built in function to implement the following code `(M**e)%n` without running into overflow problems.   \n",
    "\n",
    "1. Bob sends the ciphertext $C(M)$ to Alice to be decrypted. $M$ can be recovered from $C(M)$ by the following $$M \\equiv C(M)^d \\mod n $$ where $d$ is Alice's private key exponent which *must not* be revealed to anybody else. \n",
    "\n",
    "1. The public key exponent is usually a large (but not to big) prime number which does not divide $n$. However, $n$ itself is very huge (almost 200 digits long). \n",
    "\n",
    "Note that this is merely a simulated exchange and nothing here is meant to be a reflection of how cryptosystems are actually implemented in real life. But the essential ideas of the algorithm are real and I want to use this to illustrate program flow and how Python scripts will generally look like. \n",
    "\n",
    "Note too that the code for the `RSA` class is stored on a  `RSA.py` file. So you will get to see how to import user written code into Jupyter Notebook. "
   ]
  },
  {
   "cell_type": "code",
   "execution_count": 4,
   "metadata": {
    "collapsed": true
   },
   "outputs": [
    {
     "name": "stdout",
     "output_type": "stream",
     "text": [
      "(2504750317581791448985588752089058367438510412639011327498285803746935669168501483003807414025965308, 0, 1)\n",
      "(1922518107136737381672168164299776692285333654030003069900854772943687487541073642122567353124593338, 1, -1)\n",
      "(582232210445054067313420587789281675153176758609008257597431030803248181627427840881240060901371970, -1, 2)\n",
      "(175821475801575179731906400931931666825803378202978297108561680533942942658790119478847170420477428, 4, -7)\n",
      "(54767783040328528117701384993486674675766624000073366271745989201419353651057482444698549639939686, -13, 23)\n",
      "(11518126680589595378802245951471642798503506202758198293323712929684881705617672144751521500658370, 43, -76)\n",
      "(8695276317970146602492401187600103481752599189040573098451137482679826828586793865692463637306206, -185, 327)\n",
      "(2822850362619448776309844763871539316750907013717625194872575447005054877030878279059057863352164, 228, -403)\n",
      "(226725230111800273562866895985485531499878147887697513833411141664662197494159028515290047249714, -869, 1536)\n",
      "(102147601277845493555442012045712938752369239065255028871641747029108507100969936875577296355596, 10656, -18835)\n",
      "(22430027556109286451982871894059653995139669757187456090127647606445183292219154764135454538522, -22181, 39206)\n",
      "(12427491053408347747510524469474322771810560036505204511131156603327773932093317819035478201508, 99380, -175659)\n",
      "(10002536502700938704472347424585331223329109720682251578996491003117409360125836945099976337014, -121561, 214865)\n",
      "(2424954550707409043038177044888991548481450315822952932134665600210364571967480873935501864494, 220941, -390524)\n",
      "(302718299871302532319639245029365029403308457390439850457828602275951072255913449357968879038, -1005325, 1776961)\n",
      "(3208151736988784481063084654071313254982656699434128472036782002755993920173279071750832190, 8263541, -14606212)\n",
      "(1152036594356791099709287546661583434938727643631774086371094016887643759625216613390653178, -777778179, 1374760889)\n",
      "(904078548275202281644509560748146385105201412170580299294593968980706400922845844969525834, 1563819899, -2764127990)\n",
      "(247958046081588818064777985913437049833526231461193787076500047906937358702370768421127344, -2341598078, 4138888879)\n",
      "(160204410030435827450175603007835235604622717786998938065093825259894324815733539706143802, 8588614133, -15180794627)\n",
      "(87753636051152990614602382905601814228903513674194849011406222647043033886637228714983542, -10930212211, 19319683506)\n",
      "(72450773979282836835573220102233421375719204112804089053687602612851290929096310991160260, 19518826344, -34500478133)\n",
      "(15302862071870153779029162803368392853184309561390759957718620034191742957540917723823282, -30449038555, 53820161639)\n",
      "(11239325691802221719456568888759849962981965867241049222813122476084319098932640095867132, 141314980564, -249781124689)\n",
      "(4063536380067932059572593914608542890202343694149710734905497558107423858608277627956150, -171764019119, 303601286328)\n",
      "(3112252931666357600311381059542764182577278478941627753002127359869471381716084839954832, 484843018802, -856983697345)\n",
      "(951283448401574459261212855065778707625065215208082981903370198237952476892192788001318, -656607037921, 1160584983673)\n",
      "(258402586461634222527742494345428059702082833317378807292016765155613951039506475950878, 2454664132565, -4338738648364)\n",
      "(176075689016671791677985372029494528518816715255946560027319902771110623773673360148684, -8020599435616, 14176800928765)\n",
      "(82326897444962430849757122315933531183266118061432247264696862384503327265833115802194, 10475263568181, -18515539577129)\n",
      "(11421894126746929978471127397627466152284479133082065497926178002103969242007128544296, -28971126571978, 51207880083023)\n",
      "(2373638557733921000459230532541268117274764129857788779213616369775542571783215992122, 213273149572027, -376970700158290)\n",
      "(1927339895811245976634205267462393683185422613650910381071712523001798954874264575808, -882063724860086, 1559090680716183)\n",
      "(446298661922675023825025265078874434089341516206878398141903846773743616908951416314, 1095336874432113, -1936061380874473)\n",
      "(142145248120545881334104207146895946828056548823396788504097135906824487238458910552, -5263411222588538, 9303336204214075)\n",
      "(19862917561037379822712643638186593605171869736688032629612439053270155193574684658, 16885570542197727, -29846069993516698)\n",
      "(3104825193284222575115701679589791591853460666580560096810062533933400883436117946, -123462405017972627, 218225826158830961)\n",
      "(1233966401332044372018433560647844054051105737204672048752063849669749892957976982, 757660000650033489, -1339201026946502464)\n",
      "(636892390620133831078834558294103483751249192171215999305934834593901097520163982, -1638782406318039605, 2896627880051835889)\n",
      "(597074010711910540939599002353740570299856545033456049446129015075848795437813000, 2396442406968073094, -4235828906998338353)\n",
      "(39818379908223290139235555940362913451392647137759949859805819518052302082350982, -4035224813286112699, 7132456787050174242)\n",
      "(39616691996784478990301219188659781980359485104816751408847541823116566284899252, 58889589792973650880, -104090223925700777741)\n",
      "(201687911438811148934336751703131471033162032943198450958277694935735797451730, -62924814606259763579, 111222680712750951983)\n",
      "(85861354777493799171215854846013657859726647949855021025113615712349984360172, 12392153252619887312364, -21903735643624887366409)\n",
      "(29965201883823550591905042011104155313708737043488408908050463511035828731386, -24847231319846034388307, 43918693967962525684801)\n",
      "(25930951009846697987405770823805347232309173862878203209012688690278326897400, 62086615892311956088978, -109741123579549938736011)\n",
      "(4034250873976852604499271187298808081399563180610205699037774820757501833986, -86933847212157990477285, 153659817547512464420812)\n",
      "(1725445765985582360410143700012498743911794779216969014786039765733315893484, 583689699165259898952688, -1031700028864624725260883)\n",
      "(583359342005687883678983787273810593575973622176267669465695289290870047018, -1254313245542677788382661, 2217059875276761914942578)\n",
      "(558727081974206593052176125464877556759847534864433675854649187151575799448, 3092316190250615475718010, -5465819779418148555146039)\n",
      "(24632260031481290626807661808933036816126087311833993611046102139294247570, -4346629435793293264100671, 7682879654694910470088617)\n",
      "(16817361281618199262407565668350746805073614004085816411634940087102352908, 98718163777703067285932772, -174489172182706178897095613)\n",
      "(7814898749863091364400096140582290011052473307748177199411162052191894662, -103064793213496360550033443, 182172051837401089367184230)\n",
      "(1187563781892016533607373387186166782968667388589462012812615982718563584, 304847750204695788385999658, -538833275857508357631464073)\n",
      "(689516058510992162755855817465289313240468976211405122535466155880513158, -1932151294441671090866031391, 3415171706982451235155968668)\n",
      "(498047723381024370851517569720877469728198412378056890277149826838050426, 2236999044646366879252031049, -3954004982839959592787432741)\n",
      "(191468335129967791904338247744411843512270563833348232258316329042462732, -4169150339088037970118062440, 7369176689822410827943401409)\n",
      "(115111053121088787042841074232053782703657284711360425760517168753124962, 10575299722822442819488155929, -18692358362484781248674235559)\n",
      "(76357282008879004861497173512358060808613279121987806497799160289337770, -14744450061910480789606218369, 26061535052307192076617636968)\n",
      "(38753771112209782181343900719695721895044005589372619262718008463787192, 25319749784732923609094374298, -44753893414791973325291872527)\n",
      "(37603510896669222680153272792662338913569273532615187235081151825550578, -40064199846643404398700592667, 70815428467099165401909509495)\n",
      "(1150260215540559501190627927033382981474732056757432027636856638236614, 65383949631376328007794966965, -115569321881891138727201382022)\n",
      "(795183999371318642053179127594083506377847716377362350701739401978930, -2132350588050685900648139535547, 3769033728687615604672353734199)\n",
      "(355076216169240859137448799439299475096884340380069676935117236257684, 2197734537682062228655934502512, -3884603050569506743399555116221)\n",
      "(85031567032836923778281528715484556184079035617222996831504929463562, -6527819663414810357960008540571, 11538239829826629091471463966641)\n",
      "(14949948037893164024322684577361250360568197911177689609097518403436, 28309013191341303660495968664796, -50037562369876023109285410982785)\n",
      "(10281826843371103656668105828678304381238046061334548786017337446382, -148072885620121328660439851864551, 261726051679206744637898518880566)\n",
      "(4668121194522060367654578748682945979330151849843140823080180957054, 176381898811462632320935820529347, -311763614049082767747183929863351)\n",
      "(945584454326982921358948331312412422577742361648267139856975532274, -500836683243046593302311492923245, 885253279777372280132266378607268)\n",
      "(885783377214128682218785423433296289019182403250072263652278827958, 2179728631783649005530181792222327, -3852776733158571888276249444292423)\n",
      "(59801077112854239140162907879116133558559958398194876204696704316, -2680565315026695598832493285145572, 4738030012935944168408515822899691)\n",
      "(48568297634169334256504713125670419199342985675343996786524967534, 39707643042157387389185087784260335, -70185196914261790245995470964888097)\n",
      "(11232779478684904883658194753445714359216972722850879418171736782, -42388208357184082988017581069405907, 74923226927197734414403986787787788)\n",
      "(3637179719429714721871934111887561762475094783940479113838020406, 209260476470893719341255412061883963, -369878104623052727903611418116039249)\n",
      "(321240320395760718042392417783029071791688371029442076657675564, -670169637769865241011783817255057796, 1184557540796355918125238241135905535)\n",
      "(103536195076346823405617516274241972766522702616616270603589202, 7581126491939411370470877401867519719, -13400011053382967827281232070611000134)\n",
      "(10631735166720247825539868960303153492120263179593264846907958, -23413549113588099352424416022857616953, 41384590700945259399968934452968905937)\n",
      "(7850578575864592975758695631513591337440334000276886981417580, 218303068514232305542290621607586072296, -385861327361890302427001642147331153567)\n",
      "(2781156590855654849781173328789562154679929179316377865490378, -241716617627820404894715037630443689249, 427245918062835561826970576600300059504)\n",
      "(2288265394153283276196348973934467028080475641644131250436824, 701736303769873115331720696868473450794, -1240353163487561426080942795347931272575)\n",
      "(492891196702371573584824354855095126599453537672246615053554, -943452921397693520226435734498917140043, 1667599081550396987907913371948231332079)\n",
      "(316700607343796981857051554514086521682661490955144790222608, 4475547989360647196237463634864142010966, -7910749489689149377712596283140856600891)\n",
      "(176190589358574591727772800341008604916792046717101824830946, -5419000910758340716463899369363059151009, 9578348571239546365620509655089087932970)\n",
      "(140510017985222390129278754173077916765869444238042965391662, 9894548900118987912701363004227201161975, -17489098060928695743333105938229944533861)\n",
      "(35680571373352201598494046167930688150922602479058859439284, -15313549810877328629165262373590260312984, 27067446632168242108953615593319032466831)\n",
      "(33468303865165785333796615669285852313101636800866387073810, 55835198332750973800197150124997982100927, -98691437957433422070193952718187041934354)\n",
      "(2212267508186416264697430498644835837820965678192472365474, -71148748143628302429362412498588242413911, 125758884589601664179147568311506074401185)\n",
      "(284291242369541363335158189613314745787151627979301591700, 1123066420487175510240633337603821618309592, -1985074706801458384757407477390778157952129)\n",
      "(222228811599626721351323171351632617310904282337361223574, -7932613691553856874113795775725339570581055, 14021281832199810357480999910046953180066088)\n",
      "(62062430769914641983835018261682128476247345641940368126, 9055680112041032384354429113329161188890647, -16006356539001268742238407387437731338018217)\n",
      "(36041519289882795399818116566586231882162245411540119196, -35099654027676954027177083115712823137252996, 62040351449203616584196222072360147194120739)\n",
      "(26020911480031846584016901695095896594085100230400248930, 44155334139717986411531512229041984326143643, -78046707988204885326434629459797878532138956)\n",
      "(10020607809850948815801214871490335288077145181139870266, -79254988167394940438708595344754807463396639, 140087059437408501910630851532158025726259695)\n",
      "(5979695860329948952414471952115226017930809868120508398, 202665310474507867288948702918551599252936921, -358220826863021889147696332524113929984658346)\n",
      "(4040911949520999863386742919375109270146335313019361868, -281920298641902807727657298263306406716333560, 498307886300430391058327184056271955710918041)\n",
      "(1938783910808949089027729032740116747784474555101146530, 484585609116410675016606001181858005969270481, -856528713163452280206023516580385885695576387)\n",
      "(163344127903101685331284853894875774577386202817068808, -1251091516874724157760869300627022418654874522, 2211365312627334951470374217217043727102070815)\n",
      "(141998503874830550383595639896483227433226324113389642, 14246592294738376410386168308079104611172890223, -25181547152064136746380139905967866883818355352)\n",
      "(21345624028271134947689213998392547144159878703679166, -15497683811613100568147037608706127029827764745, 27392912464691471697850514123184910610920426167)\n",
      "(13924759705203740697460355906127944568267051891314646, 107232695164416979819268393960315866790139478693, -189539021940212966933483224645077330549340912354)\n",
      "(7420864323067394250228858092264602575892826812364520, -122730378976030080387415431569021993819967243438, 216931934404904438631333738768262241160261338521)\n",
      "(6503895382136346447231497813863341992374225078950126, 229963074140447060206683825529337860610106722131, -406470956345117405564816963413339571709602250875)\n",
      "(916968940931047802997360278401260583518601733414394, -352693453116477140594099257098359854430073965569, 623402890750021844196150702181601812869863589396)\n",
      "(85112795619011826249975865054517907744012945049368, 2698817245955787044365378625217856841620624481114, -4770291191595270314937871878684552261798647376647)\n",
      "(65840984740929540497601627856081506078472282920714, -27340865912674347584247885509276928270636318776709, 48326314806702724993574869489027124430856337355866)\n",
      "(19271810878082285752374237198436401665540662128654, 30039683158630134628613264134494785112256943257823, -53096605998297995308512741367711676692654984732513)\n",
      "(8025552106682683240478916260772301081850296534752, -117459915388564751470087677912761283607407148550178, 207616132801596710919113093592162154508821291553405)\n",
      "(3220706664716919271416404676891799501840069059150, 264959513935759637568788619960017352327071240358179, -468328871601491417146738928552035985710297567839323)\n",
      "(1584138777248844697646106906988702078170158416452, -647378943260084026607664917832795988261549629266536, 1144273876004579545212590950696234125929416427232051)\n",
      "(52429110219229876124190862914395345499752226246, 1559717400455927690784118455625609328850170498891251, -2756876623610650507571920829944504237569130422303425)\n",
      "(11265470671948413920381019556841713177591629072, -47438900956937914750131218586601075853766664596004066, 83850572584324094772370215849031361253003329096334801)\n",
      "(7367227531436220442666784687028492789385709958, 191315321228207586691308992802029912743916828882907515, -338159166960907029597052784226069949249582446807642629)\n",
      "(3898243140512193477714234869813220388205919114, -238754222185145501441440211388630988597683493478911581, 422009739545231124369423000075101310502585775903977430)\n",
      "(3468984390924026964952549817215272401179790844, 430069543413353088132749204190660901341600322361819096, -760168906506138153966475784301171259752168222711620059)\n",
      "(429258749588166512761685052597947987026128270, -668823765598498589574189415579291889939283815840730677, 1182178646051369278335898784376272570254753998615597489)\n",
      "(34914394218694862859069396431688504970764684, 5780659668201341804726264528824996020855870849087664512, -10217598074917092380653666059311351821790200211636399971)\n",
      "(10286018963828158452852295417685927376952062, -70036739784014600246289363761479244140209734004892704821, 123793355545056477846179891496112494431737156538252397141)\n",
      "(4056337327210387500512510178630722839908498, 215890879020245142543594355813262728441485072863765778975, -381597664710086525919193340547648835117001669826393591394)\n",
      "(2173344309407383451827275060424481697135066, -501818497824504885333478075388004701023179879732424262771, 886988684965229529684566572591410164665740496191039579929)\n",
      "(1882993017803004048685235118206241142773432, 717709376844750027877072431201267429464664952596190041746, -1268586349675316055603759913139058999782742166017433171323)\n",
      "(290351291604379403142039942218240554361634, -1219527874669254913210550506589272130487844832328614304517, 2155575034640545585288326485730469164448482662208472751252)\n",
      "(140885268176727629832995464896797816603628, 8034876624860279507140375470736900212391733946567875868848, -14202036557518589567333718827521873986473638139268269678835)\n",
      "(8580755250924143476049012424644921154378, -17289281124389813927491301448063072555271312725464366042213, 30559648149677724719955764140774217137395758940745012108922)\n",
      "(3593184161941334216211266102479078133580, 284663374615097302347001198639746061096732737553997732544256, -503156406952362185086625945079909348184805781191188463421587)\n",
      "(1394386927041475043626480219686764887218, -586616030354584418621493698727555194748736787833459831130725, 1036872462054402094893207654300592913507007321323121938952096)\n",
      "(804410307858384128958305663105548359144, 1457895435324266139589988596094856450594206313220917394805706, -2576901331061166374873041253681095175198820423837432341325779)\n",
      "(589976619183090914668174556581216528074, -2044511465678850558211482294822411645342943101054377225936431, 3613773793115568469766248907981688088705827745160554280277875)\n",
      "(214433688675293214290131106524331831070, 3502406901003116697801470890917268095937149414275294620742137, -6190675124176734844639290161662783263904648168997986621603654)\n",
      "(161109241832504486087912343532552865934, -9049325267685083953814424076656947837217241929604966467420705, 15995124041469038159044829231307254616515124083156527523485183)\n",
      "(53324446842788728202218762991778965136, 12551732168688200651615894967574215933154391343880261088162842, -22185799165645773003684119392970037880419772252154514145088837)\n",
      "(1135901304138301481256054557215970526, -46704521773749685908662108979379595636680415961245749731909231, 82552521538406357170097187410217368257774440839620069958751694)\n",
      "(1072986852426860064440253359844320940, 2160959733761173752450072908019035615220453525561184748755987468, -3819601789932338202828154740262968977738044050874677732247666761)\n",
      "(62914451711441416815801197371649586, -2207664255534923438358735016998415210857133941522430498487896699, 3902154311470744559998251927673186345995818491714297802206418455)\n",
      "(3441173332355978571633004526277978, 39691252077854872204548568196992094199791730531442503223050231351, -70156225084934995722798437510707136859666958410017740369756780496)\n",
      "(973331729033802526407115898645982, -716650201656922623120232962562856110807108283507487488513392061017, 1266714205840300667570370127120401649820001069872033624457828467383)\n",
      "(521178145254570992411656830340032, 2189641857048622741565247455885560426621116581053904968763226414402, -3870298842605836998433908818871912086319670168026118613743242182645)\n",
      "(452153583779231533995459068305950, -2906292058705545364685480418448416537428224864561392457276618475419, 5137013048446137666004278945992313736139671237898152238201070650028)\n",
      "(69024561475339458416197762034082, 5095933915754168106250727874333976964049341445615297426039844889821, -9007311891051974664438187764864225822459341405924270851944312832673)\n",
      "(38006214927194783498272496101458, -33481895553230554002189847664452278321724273538253177013515687814345, 59180884394757985652633405535177668670895719673443777349866947646066)\n",
      "(31018346548144674917925265932624, 38577829468984722108440575538786255285773614983868474439555532704166, -68188196285809960317071593300041894493355061079368048201811260478739)\n",
      "(6987868379050108580347230168834, -72059725022215276110630423203238533607497888522121651453071220518511, 127369080680567945969704998835219563164250780752811825551678208124805)\n",
      "(3066873031944240596536345257288, 326816729557845826550962268351740389715765169072355080251840414778210, -577664519008081744195891588640920147150358184090615350408524092977959)\n",
      "(854122315161627387274539654258, -725693184137906929212554959906719313039028226666831811956752050074931, 1282698118696731434361488176117059857464967148934042526368726394080723)\n",
      "(504506086459358434712726294514, 2503896281971566614188627148071898328832849849072850516122096565003003, -4425758875098276047280356116992099719545259630892742929514703275220128)\n",
      "(349616228702268952561813359744, -3229589466109473543401182107978617641871878075739682328078848615077934, 5708456993795007481641844293109159577010226779826785455883429669300851)\n",
      "(154889857757089482150912934770, 5733485748081040157589809256050515970704727924812532844200945180080937, -10134215868893283528922200410101259296555486410719528385398132944520979)\n",
      "(39836513188089988259987490204, -14696560962271553858580800620079649583281333925364748016480738975239808, 25976888731581574539486245113311678170121199601265842226679695558342809)\n",
      "(35380318192819517370950464158, 49823168634895701733332211116289464720548729700906776893643162105800361, -88064882063638007147380935750036293806919085214517055065437219619549406)\n",
      "(4456194995270470889037026046, -64519729597167255591913011736369114303830063626271524910123901081040169, 114041770795219581686867180863347971977040284815782897292116915177892215)\n",
      "(4186953225926221147691281836, 501461275815066490876723293270873264847359175084807451264510469673081544, -886357277630175078955451201793472097646201078924997336110255625864794911)\n",
      "(269241769344249741345744210, -565981005412233746468636305007242379151189238711078976174634370754121713, 1000399048425394660642318382656820069623241363740780233402372541042687126)\n",
      "(148326685762475027505118686, 8991176356998572687906267868379508952115197755750992093884026030984907239, -15892343004011094988590226941645773141994821535036700837145843741505101801)\n",
      "(120915083581774713840625524, -9557157362410806434374904173386751331266386994462071070058660401739028952, 16892742052436489649232545324302593211618062898777481070548216282547788927)\n",
      "(27411602180700313664493162, 18548333719409379122281172041766260283381584750213063163942686432723936191, -32785085056447584637822772265948366353612884433814181907694060024052890728)\n",
      "(11268674858973459182652876, -83750492240048322923499592340451792464792725995314323725829406132634773716, 148033082278226828200523634388096058626069600634034208701324456378759351839)\n",
      "(4874252462753395299187410, 186049318199506024969280356722669845212967036740841710615601498697993483623, -328851249612901241038870041042140483605752085701882599310342972781571594406)\n",
      "(1520169933466668584278056, -455849128639060372862060305785791482890726799476997744957032403528621740962, 805735581504029310278263716472377025837573772037799407322010401941902540651)\n",
      "(313742662353389546353242, 1553596704116687143555461274080044293885147435171834945486698709283858706509, -2746057994124989171873661190459271561118473401815280821276374178607279216359)\n",
      "(265199284053110398865088, -6670235945105808947083905402105968658431316540164337526903827240664056566998, 11789967558003985997772908478309463270311467379298922692427507116371019406087)\n",
      "(48543378300279147488154, 8223832649222496090639366676186012952316463975336172472390525949947915273507, -14536025552128975169646569668768734831429940781114203513703881294978298622446)\n",
      "(22482392551714661424318, -47789399191218289400280738783036033420013636416845199888856456990403632934533, 84470095318648861846005756822153137427461171284869940260946913591262512518317)\n",
      "(3578593196849824639518, 103802631031659074891200844242258079792343736809026572250103439930755181142573, -183476216189426698861658083313075009686352283350854084035597708477503323659080)\n",
      "(1010833370615713587210, -670605185381172738747485804236584512174076057271004633389477096574934719789971, 1185327392455209055015954256700603195545574871389994444474533164456282454472797)\n",
      "(546093085002683877888, 2115618187175177291133658256952011616314571908622040472418534729655559340512486, -3739458393555053863909520853414884596323076897520837417459197201846350687077471)\n",
      "(464740285613029709322, -2786223372556350029881144061188596128488647965893045105808011826230494060302457, 4924785786010262918925475110115487791868651768910831861933730366302633141550268)\n",
      "(81352799389654168566, 4901841559731527321014802318140607744803219874515085578226546555886053400814943, -8664244179565316782834995963530372388191728666431669279392927568148983828627739)\n",
      "(57976288664758866492, -27295431171213986634955155651891634852504747338468472996940744605660761064377172, 48246006683836846833100454927767349732827295101069178258898368207047552284688963)\n",
      "(23376510724895302074, 32197272730945513955969957970032242597307967212983558575167291161546814465192115, -56910250863402163615935450891297722121019023767500847538291295775196536113316702)\n",
      "(11223267214968262344, -91689976633105014546895071591956120047120681764435590147275326928754389994761402, 162066508410641174064971356710362793974865342636070873335480959757440624511322367)\n",
      "(929976294958777386, 215577225997155543049760101153944482691549330741854738869717945019055594454714919, -381043267684684511745878164312023310070749709039642594209253215290077785135961436)\n",
      "(63551675462933712, -2678616688598971531144016285439289912345712650666692456583890667157421523451340430, 4734585720626855315015509328454642514823861851111782003846519543238374046142859599)\n",
      "(40252838477705418, 37716210866382756979065988097304003255531526440075549131044187285222956922773480939, -66665243356460658921963008762677018517604815624604590648060526820627314431135995822)\n",
      "(23298836985228294, -40394827554981728510210004382743293167877239090742241587628077952380378446224821369, 71399829077087514236978518091131661032428677475716372651907046363865688477278855421)\n",
      "(16954001492477124, 78111038421364485489275992480047296423408765530817790718672265237603335368998302308, -138065072433548173158941526853808679550033493100320963299967573184493002908414851243)\n",
      "(6344835492751170, -118505865976346213999485996862790589591286004621560032306300343189983713815223123677, 209464901510635687395920044944940340582462170576037335951874619548358691385693706664)\n",
      "(4264330506974784, 315122770374056913488247986205628475605980774773937855331272951617570762999444549662, -556994875454819547950781616743689360714957834252395635203716812281210385679802264571)\n",
      "(2080504985776386, -433628636350403127487733983068419065197266779395497887637573294807554476814667673339, 766459776965455235346701661688629701297420004828432971155591431829569077065495971235)\n",
      "(103320535422012, 1182380043074863168463715952342466606000514333564933630606419541232679716628779896340, -2089914429385730018644184940120948763309797843909261577514899675940348539810794207041)\n",
      "(14094277336146, -24081229497847666496762053029917751185207553450694170499765964119461148809390265600139, 42564748364680055608230400464107604967493376883013664521453584950636539873281380112055)\n",
      "(4660594068990, 169750986528008528645798087161766724902453388488424127128968168377460721382360639097313, -300043152982146119276256988188874183535763436025004913227689994330396127652780454991426)\n",
      "(112495129176, -533334189081873252434156314515217925892567718915966551886670469251843312956472182892078, 942694207311118413437001365030730155574783684958028404204523567941824922831622745086333)\n",
      "(48293772774, 22036452738884811878446206982285701686497729864043052754482457407703036552597720137672511, -38950505652738001070193312954448810562101894519304169485613156279945217963749313003531079)\n",
      "(15907583628, -44606239666851497009326570279086621298888027447002072060851585284657916418151912458237100, 78843705512787120553823627273928351279778572723566367375430836127832260850330248752148491)\n",
      "(571021890, 155855171739439302906425917819545565583161812205049268937037213261676785807053457512383811, -275481622191099362731664194776233864401437612690003271611905664663442000514740059259976552)\n",
      "(489992598, -4252695876631712675482826351406816892044256956983332333360856343349931133208595265292599997, 7516847504672469914308756886232242690118594115353654700896883782040766274748311848771515395)\n",
      "(81029292, 4408551048371151978389252269226362457627418769188381602297893556611607919015648722804983808, -7792329126863569277040421081008476554520031728043657972508789446704208275263051908031491947)\n",
      "(3816846, -30704002166858624545818339966764991637808769572113621947148217683019578647302487602122502845, 54270822265853885576551283372283102017238784483615602535949620462266015926326623296960467077)\n",
      "(875526, 649192596552402267440574391571291186851611579783574442492410464900022759512367888367377543553, -1147479596709795166384617371898953618916534505883971311227450819154290542728122141144201300564)\n",
      "(314742, -2627474388376467694308115906251929739044255088706411391916790077283110616696774041071632677057, 4644189209105034551115020770968097577683376808019500847445752897079428186838815187873765669333)\n",
      "(246042, 5904141373305337656056806204075150664940121757196397226325990619466243992905915970510642897667, -10435858014919864268614658913835148774283288121922973006118956613313146916405752516891732639230)\n",
      "(68700, -8531615761681805350364922110327080403984376845902808618242780696749354609602690011582275574724, 15080047224024898819729679684803246351966664929942473853564709510392575103244567704765498308563)\n",
      "(39942, 31498988658350753707151572535056391876893252294904823081054332709714307821713986005257469621839, -55675999686994560727803697968244887830183282911750394566813085144490872226139455631188227564919)\n",
      "(28758, -40030604420032559057516494645383472280877629140807631699297113406463662431316676016839745196563, 70756046911019459547533377653048134182149947841692868420377794654883447329384023335953725873482)\n",
      "(11184, 71529593078383312764668067180439864157770881435712454780351446116177970253030662022097214818402, -126432046598014020275337075621293022012333230753443262987190879799374319555523478967141953438401)\n",
      "(6390, -183089790576799184586852629006263200596419392012232541260000005638819602937378000061034174833367, 323620140107047500098207528895634178206816409348579394394759554253632086440430981270237632750284)\n",
      "(4794, 254619383655182497351520696186703064754190273447944996040351451754997573190408662083131389651769, -450052186705061520373544604516927200219149640102022657381950434053006405995954460237379586188685)\n",
      "(1596, -437709174231981681938373325192966265350609665460177537300351457393817176127786662144165564485136, 773672326812109020471752133412561378425966049450602051776709988306638492436385441507617218938969)\n",
      "(723967, 0, 1)\n",
      "(88032, 1, -2552879250212963812859976996542113655162777569812922426154896750619286364410795524116367114820951880068917587882145560645322970243683153641840461811250298755647489432931631289872939615823645188)\n",
      "(19711, -8, 20423034001703710502879815972336909241302220558503379409239174004954290915286364192930936918567615040551340703057164485162583761949465229134723694490002390045179915463453050318983516926589161505)\n",
      "(9188, 33, -84245015257027805824379240885889750620371659803826440063111592770436450025556252295840114789091412042274280400110803501295658018041544070180735239771259858936367151286743832565807007322180291208)\n",
      "(1335, -74, 188913064515759322151638297744116410482045540166156259535462359545827190966398868784611166496750439125099901503278771487753899798032553369496194174032522107917914218036940715450597531570949743921)\n",
      "(1178, 477, -1217723402351583738734209027350588213512644900800763997275885750045399595823949465003507113769594046792873689419783432427819056806236864287157900283966392506443852459508388125269392196747878754734)\n",
      "(157, -551, 1406636466867343060885847325094704623994690440966920256811348109591226786790348333788118280266344485917973590923062203915572956604269417656654094457998914614361766677545328840719989728318828498655)\n",
      "(79, 4334, -11064178670422985164935140303013520581475477987569205794955322517183987103356387801520335075634005448218688825881218859836829753036122787883736561489958794806976219202325690010309320294979678245319)\n",
      "(78, -4885, 12470815137290328225820987628108225205470168428536126051766670626775213890146736135308453355900349934136662416804281063752402709640392205540390655947957709421337985879871018851029310023298506743974)\n",
      "Alice's public key exponent and modulus which will be passed to Bob\n",
      "(e, n) = (723967, 11089201992833572636228793797533626379523383533308512060576492815133557348300342419247723706093480425479143098377959930265620877268344797318088361004658395132805456331306111738289262979276162791976923)\n"
     ]
    }
   ],
   "source": [
    "\"\"\"\n",
    "Before any public key encryption can be carried out. Alice must generate a pair of numbers known as the public\n",
    "and private exponents. She can give the public key to Bob for encryption but must keep the private key secret. \n",
    "\"\"\"\n",
    "\n",
    "from RSA import RSA\n",
    "import sys\n",
    "\n",
    "rsa = RSA()\n",
    "\n",
    "rsa.keygen(100) \n",
    "e, n = rsa.get_public_key()\n",
    "\n",
    "print(\"Alice's public key exponent and modulus which will be passed to Bob\")\n",
    "print(\"(e, n) = ({}, {})\".format(e, n))\n",
    "\n",
    "#print(\"WARNING! Remember this number. Variable is set to be deleted after display!\")\n",
    "#print(\"{}\".format(rsa.d))\n",
    "d = rsa.d\n",
    "\n",
    "#print(n > sys.maxsize)"
   ]
  },
  {
   "cell_type": "code",
   "execution_count": 5,
   "metadata": {},
   "outputs": [
    {
     "name": "stdout",
     "output_type": "stream",
     "text": [
      "Input Bob's message (max 128 characters)\n",
      ">> howdy mate\n",
      "Numerical representation of string by ASCII encoding\n",
      "939974343295487571944\n",
      "Cipher Text\n",
      "11045298581390720201751284965884390719413469440397662764051563719588160958339009784612175984534153336220588361292614908317863428389865699819001108132200756811976876929250798831590585119213065798798874\n"
     ]
    }
   ],
   "source": [
    "\"\"\" \n",
    "Here, Bob recieves Alice's public key (e,n) and proceeds to encrypt his message. He must first convert his \n",
    "message into a number M < n. Then he calculates C(M) by (M**e)%n. C(M) is the ciphertext send to Alice. \n",
    "\n",
    "In the script below, we create M by using a dictionary to translate between text to M. \n",
    "\"\"\"\n",
    "DEFAULT_BLOCKSIZE = 128\n",
    "\n",
    "if sys.version_info > (3,): # Python 2 and Python 3 compatibility\n",
    "    raw_input = input\n",
    "    \n",
    "s = raw_input(\"Input Bob's message (max 128 characters)\\n>> \")\n",
    "\n",
    "m = bytearray(s, \"ascii\")\n",
    "block = 0\n",
    "for i, unit in enumerate(m):\n",
    "    block += unit*(DEFAULT_BLOCKSIZE**i)\n",
    "print(\"Numerical representation of string by ASCII encoding\")\n",
    "print(block)\n",
    "\n",
    "assert block < n\n",
    "\n",
    "C_M = pow(block, e, n)\n",
    "\n",
    "print(\"Cipher Text\")\n",
    "print(C_M)\n",
    "#print(any([num > sys.maxsize for num in C_M]))"
   ]
  },
  {
   "cell_type": "code",
   "execution_count": 6,
   "metadata": {},
   "outputs": [
    {
     "name": "stdout",
     "output_type": "stream",
     "text": [
      "[104, 111, 119, 100, 121, 32, 109, 97, 116, 101]\n",
      "Decoded message\n",
      "howdy mate\n"
     ]
    }
   ],
   "source": [
    "\"\"\" \n",
    "Once Alice recieves the message she can decipher it using the formula (C(M)**d)%n\n",
    "\"\"\"\n",
    "M = pow(C_M, d, n)\n",
    "\n",
    "assert M == block\n",
    "\n",
    "text = list()\n",
    "i = 0\n",
    "\n",
    "while M//128**i > 0:\n",
    "    i += 1\n",
    "\n",
    "for power in range(i)[::-1]: \n",
    "    q, M = divmod(M, 128**power)\n",
    "    text.insert(0, q)\n",
    "\n",
    "print(text)\n",
    "\n",
    "assert all([num < 128 for num in text])\n",
    "\n",
    "text = bytes(text)\n",
    "text = text.decode(\"ascii\")\n",
    "\n",
    "print(\"Decoded message\")\n",
    "print(text)"
   ]
  },
  {
   "cell_type": "markdown",
   "metadata": {},
   "source": [
    "## Looking forward \n",
    "\n",
    "The horizon of Python programming stretches ever onward! This course represents just  a glimpse of what you can do with Python. In fact, in the previous demo, I wrote the encryption script using the `class` keyword which is the way Python creates objects. When you start using `pandas` and `matplotlib`, you will be interacting with objects the same way I showed you how in the script above. In `pandas`, the fundamental object you will be using is the `DataFrame` while in `matplotlib`, it is `Figure` and `Axes`. \n",
    "\n",
    "With what you have learnt today, you will be able to tackle the challenges of learning how to deal with data using `pandas` and visualize it using `matplotlib` or `seaborn`. Things that we did not cover in this course are: \n",
    "\n",
    "   * Object Oriented Programming. The `class` keyword, object inheritance and methods. \n",
    "   * Iterators and generators. The `yield` keyword. \n",
    "   * Decorators and decorator statements. Decorators are used in IPython interactive widgets and web development frameworks. \n",
    "   * Module and packages.\n",
    "   * Unit testing. The `unittest` module. \n",
    "   * Debugging and code profiling. \n",
    "\n",
    "The knowledge you have learnt here is enough to enable you to explore these topics even further. All the best!"
   ]
  }
 ],
 "metadata": {
  "kernelspec": {
   "display_name": "Python 3",
   "language": "python",
   "name": "python3"
  },
  "language_info": {
   "codemirror_mode": {
    "name": "ipython",
    "version": 3
   },
   "file_extension": ".py",
   "mimetype": "text/x-python",
   "name": "python",
   "nbconvert_exporter": "python",
   "pygments_lexer": "ipython3",
   "version": "3.6.1"
  }
 },
 "nbformat": 4,
 "nbformat_minor": 2
}
