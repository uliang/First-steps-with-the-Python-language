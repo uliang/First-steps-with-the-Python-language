{
 "cells": [
  {
   "cell_type": "code",
   "execution_count": 1,
   "metadata": {
    "collapsed": true
   },
   "outputs": [],
   "source": [
    "from __future__ import division, print_function"
   ]
  },
  {
   "cell_type": "markdown",
   "metadata": {},
   "source": [
    "# 9. Python functions \n",
    "________\n",
    "\n",
    "Sometimes, a portion of code is reused over and over again in the entire script. To prevent repetitive coding, we are able to define our own custom defined functions using the `def` keyword. When invoked, functions will instruct the computer to perform a set list of instructions, possibly returning an output at the end. Functions can also be pre-defined and saved in another file (with extension `.py`) so that it can be used for another project. \n",
    "\n",
    "You will have encountered many pre-defined functions in Python up to now. Functions like `print`, `len`, etc... But there are many other pre-built functions in Python which are extremely useful and makes code more transparent and readable.\n",
    "\n",
    "We will also encounter what is known as anonymous functions which are defined using the `lambda` keyword. These are short functions and can only be defined in one line of code. While technically `def` does what `lambda` does, nevertheless `lambda` allows for less pendantic and more natural style of coding. You will encounter anonymous functions alot when working with `pandas` especially when cleaning up data frames. \n",
    "\n",
    "Finally we introduce what is perhaps one of the more important concepts in Python programming: List comprehensions. These are syntatical shortcuts for the `for` loop which translate not only to better code style, but faster scripts. \n",
    "\n",
    "## 9.1 Learning objectives \n",
    "\n",
    "The objectives of this unit are:\n",
    "\n",
    "1. To use the `def` keyword to defined functions. \n",
    "\n",
    "1. Recall the terms  arguments, keyword arguments, the signature of a function. \n",
    "\n",
    "1. To use `lambda` to define anonymous functions. \n",
    "\n",
    "1. To use build in  functions: `zip` and `enumerate`.  \n",
    "\n",
    "1. To learn how to refactor `for` loops into list comprehension statements. \n",
    "\n",
    "## 9.2 Let's build our own functions\n",
    "\n",
    "All functions are defined using the `def` keyword. In general, the format of function definition looks like this: \n",
    "\n",
    "    def my_function_name(arg_1, arg_2, ..., arg_n) : \n",
    "    \n",
    "        code\n",
    "        \n",
    "        return <something, or None> \n",
    "        \n",
    "First, we tell Python that we are going to define a function by typing out `def`. Then we proceed by naming our function. The normal rules for naming variables apply to naming functions as well - one cannot start a name with a number or use special characters or use words which have been reserved for Python. \n",
    "\n",
    "Then after the name, we describe the *signature* of the function by writing down every argument to the function seperated by commas and enclosed in round braces `( )`. And *argument* to a function is an input to the code which will be executed when the function is *called*. It is not mandatory that a function recieve inputs. Sometimes, a function just needs to run a set of instructions, without any input. We end the `def` statement with a `:`. The newline under this marks the beginning of the function code. \n",
    "\n",
    "Every line of code meant for the function *must* be indented. There are no enclosing `{ }` which marks the \"body\" of the function. In Python, the \"body\" of the function is denoted with indentation only. Thus, every line of code meant for the function must be on the same indentation level. Finally, at the end of the function we `return` an output or `None`. While this last syntax is not mandatory, it is not good practice to leave off a function definition *without* a `return` statement.  "
   ]
  },
  {
   "cell_type": "code",
   "execution_count": 2,
   "metadata": {
    "collapsed": true
   },
   "outputs": [],
   "source": [
    "# Our first function\n",
    "\n",
    "def my_first_function():\n",
    "    pass"
   ]
  },
  {
   "cell_type": "markdown",
   "metadata": {},
   "source": [
    "For our first function, we see above that `my_first_function` does not take in any input and does nothing. The `pass` keyword is a kind of temporary placeholder and basically does nothing. We use `pass` because one cannot leave a function \"body\" without any code at all. \n",
    "\n",
    "Now let's code something into `my_first_function` so that it does something useful. "
   ]
  },
  {
   "cell_type": "code",
   "execution_count": 3,
   "metadata": {
    "collapsed": true
   },
   "outputs": [],
   "source": [
    "def my_first_function():\n",
    "    print(\"Hello world!\")"
   ]
  },
  {
   "cell_type": "markdown",
   "metadata": {},
   "source": [
    "`my_first_function` will `print` the string `\"Hello world!\"` whenever it is *called*. Calling a function basically means instructing Python to run the code contained in the function. Notice that after defining a function and running the cell, there is no output. But that doesn't mean nothing has happened. In fact, Python has populated the global namespace with a new name, `my_first_function` and is ready to do what ever has been coded into this function when it is called. "
   ]
  },
  {
   "cell_type": "code",
   "execution_count": 4,
   "metadata": {},
   "outputs": [
    {
     "data": {
      "text/plain": [
       "<function __main__.my_first_function>"
      ]
     },
     "execution_count": 4,
     "metadata": {},
     "output_type": "execute_result"
    }
   ],
   "source": [
    "my_first_function"
   ]
  },
  {
   "cell_type": "markdown",
   "metadata": {},
   "source": [
    "It is good to understand what happens when we type `my_first_function` and execute a cell. Notice that the output says `<function ...` This means that the variable `my_first_function` represents an object of type `function`. The rest of the output indicates that this function is represented by a name `my_first_function` in the module `__main__`. We will not describe what modules are in this course, but suffices for our purposes to think of `__main__` as file containing all the functions that we will define in this Jupyter Notebook session. \n",
    "\n",
    "To actually execute the instructions in `my_first_function`, we must type `my_first_function()`. "
   ]
  },
  {
   "cell_type": "code",
   "execution_count": 5,
   "metadata": {},
   "outputs": [
    {
     "name": "stdout",
     "output_type": "stream",
     "text": [
      "Hello world!\n"
     ]
    }
   ],
   "source": [
    "my_first_function()"
   ]
  },
  {
   "cell_type": "markdown",
   "metadata": {},
   "source": [
    "## 9.3 Functions with arguments\n",
    "\n",
    "Functions won't be useful if we are unable to pass input into it. Most of the time, the set of instructions will act on the input we have supplied to the function and produces some output which is then passed to a variable to be stored. Let's modify `my_first_function` to print out a name supplied as input to it. "
   ]
  },
  {
   "cell_type": "code",
   "execution_count": 6,
   "metadata": {},
   "outputs": [
    {
     "name": "stdout",
     "output_type": "stream",
     "text": [
      "Hello Tang U-Liang\n"
     ]
    }
   ],
   "source": [
    "def my_first_function(name):\n",
    "    print(\"Hello %s\" % (name))\n",
    "    return None\n",
    "\n",
    "my_first_function(\"Tang U-Liang\")"
   ]
  },
  {
   "cell_type": "code",
   "execution_count": 15,
   "metadata": {
    "collapsed": true
   },
   "outputs": [],
   "source": [
    "# Passing two arguments\n",
    "\n",
    "def special_product(x,y):\n",
    "    prod = x-y+x*y\n",
    "    return prod "
   ]
  },
  {
   "cell_type": "markdown",
   "metadata": {},
   "source": [
    "When defining functions with arguments, the same variable name used in the signature must be used in the body of the function. Now there is nothing inherently special about using `name` to represent the argument for names to `my_first_function`. After all, the computer doesn't \"understand\" that we intend to print out a name when calling `my_first_function`. However, we should use recognizable variable names to improve readibility of our code and to make our intentions transparent. \n",
    "\n",
    "In the function `special_product`, I passed two arguments named `x` and `y`. Inside the function, it performs the operation and assigns the result to a variable named `prod`. Then the function uses the keyword `return` to send the answer out from the function environment to the global environment. "
   ]
  },
  {
   "cell_type": "code",
   "execution_count": 16,
   "metadata": {},
   "outputs": [
    {
     "name": "stdout",
     "output_type": "stream",
     "text": [
      "1\n"
     ]
    }
   ],
   "source": [
    "answer = special_product(1,3)\n",
    "print(answer)"
   ]
  },
  {
   "cell_type": "markdown",
   "metadata": {},
   "source": [
    "What  happened is that the function `special_product` performs the said operation on inputs `1` and `3`. It then outputs the answer, in this case `7`. We assign the output `7` to a variable named `answer` and print it. \n",
    "\n",
    "Note that we do not need to explicit declare a variable to \"capture\" the answer. The following works too. "
   ]
  },
  {
   "cell_type": "code",
   "execution_count": 17,
   "metadata": {},
   "outputs": [
    {
     "data": {
      "text/plain": [
       "1"
      ]
     },
     "execution_count": 17,
     "metadata": {},
     "output_type": "execute_result"
    }
   ],
   "source": [
    "special_product(1,3)"
   ]
  },
  {
   "cell_type": "markdown",
   "metadata": {},
   "source": [
    "Passing arguments in correct sequence matters. Python will pass values to arguments according to the sequence as it was declared in the signature. "
   ]
  },
  {
   "cell_type": "code",
   "execution_count": 20,
   "metadata": {},
   "outputs": [
    {
     "name": "stdout",
     "output_type": "stream",
     "text": [
      "1\n",
      "5\n"
     ]
    }
   ],
   "source": [
    "# x = 1, and y =3\n",
    "print(special_product(1,3))\n",
    "\n",
    "# x =3 and y = 1\n",
    "print(special_product(3,1))"
   ]
  },
  {
   "cell_type": "markdown",
   "metadata": {},
   "source": [
    "What will happen if we try to display the variable `prod` directly? "
   ]
  },
  {
   "cell_type": "code",
   "execution_count": 18,
   "metadata": {},
   "outputs": [
    {
     "ename": "NameError",
     "evalue": "name 'prod' is not defined",
     "output_type": "error",
     "traceback": [
      "\u001b[0;31m---------------------------------------------------------------------------\u001b[0m",
      "\u001b[0;31mNameError\u001b[0m                                 Traceback (most recent call last)",
      "\u001b[0;32m<ipython-input-18-2d17e3b3f56a>\u001b[0m in \u001b[0;36m<module>\u001b[0;34m()\u001b[0m\n\u001b[0;32m----> 1\u001b[0;31m \u001b[1;32mprint\u001b[0m\u001b[1;33m(\u001b[0m\u001b[0mprod\u001b[0m\u001b[1;33m)\u001b[0m\u001b[1;33m\u001b[0m\u001b[0m\n\u001b[0m",
      "\u001b[0;31mNameError\u001b[0m: name 'prod' is not defined"
     ]
    }
   ],
   "source": [
    "print(prod)"
   ]
  },
  {
   "cell_type": "markdown",
   "metadata": {},
   "source": [
    "### 9.3.1 Function scope\n",
    "\n",
    "But isn't the variable `prod` defined already when we defined the function `special_product`? This happens because the variable `prod` is only available in the *scope* of the function. The global environment is another scope. In general, variables from one scope are not accessible in another scope with exeptions given by scoping rules (which are programming language dependant). For this course, it suffices to know that variables defined in the function scope will *NOT* be accessible from the global scope. \n",
    "\n",
    "(This can be overriden using the `global` keyword. But this is not encouraged.) \n",
    "\n",
    "## 9.4 Function defaults\n",
    "\n",
    "When we define functions, all variables we define in the signature must be assigned values. We cannot leave any out. "
   ]
  },
  {
   "cell_type": "code",
   "execution_count": 21,
   "metadata": {},
   "outputs": [
    {
     "ename": "TypeError",
     "evalue": "special_product() takes exactly 2 arguments (1 given)",
     "output_type": "error",
     "traceback": [
      "\u001b[0;31m---------------------------------------------------------------------------\u001b[0m",
      "\u001b[0;31mTypeError\u001b[0m                                 Traceback (most recent call last)",
      "\u001b[0;32m<ipython-input-21-a921fb88b85c>\u001b[0m in \u001b[0;36m<module>\u001b[0;34m()\u001b[0m\n\u001b[0;32m----> 1\u001b[0;31m \u001b[0mspecial_product\u001b[0m\u001b[1;33m(\u001b[0m\u001b[1;36m1\u001b[0m\u001b[1;33m,\u001b[0m\u001b[1;33m)\u001b[0m\u001b[1;33m\u001b[0m\u001b[0m\n\u001b[0m",
      "\u001b[0;31mTypeError\u001b[0m: special_product() takes exactly 2 arguments (1 given)"
     ]
    }
   ],
   "source": [
    "special_product(1,)"
   ]
  },
  {
   "cell_type": "markdown",
   "metadata": {},
   "source": [
    "Therefore, it becomes quite a hassle if we have to call the function in various places in our code with the same input in one of the arguments. To do that we can assign default values to particular arguments in the following manner.\n",
    "\n",
    "    def my_function(arg_1, arg_2 = default_value, ...):\n",
    "    \n",
    "        code\n",
    "        \n",
    "Note that arguments assigned default values must come after arguments without default values. Also, don't worry that you cannot input values other than defaults. You are still able to override default values when you need to. "
   ]
  },
  {
   "cell_type": "code",
   "execution_count": 24,
   "metadata": {},
   "outputs": [
    {
     "name": "stdout",
     "output_type": "stream",
     "text": [
      "3\n",
      "11\n"
     ]
    }
   ],
   "source": [
    "def special_product(x, y=1): # default value of y is 1\n",
    "    return x-y+x*y\n",
    "\n",
    "# We don't have to pass any value to arguments with default values\n",
    "print(special_product(2))\n",
    "\n",
    "# Default values can be overriden\n",
    "print(special_product(2,9))"
   ]
  },
  {
   "cell_type": "markdown",
   "metadata": {},
   "source": [
    "## 9.5 Passing arguments to functions by keyword \n",
    "\n",
    "The arguments to a function have names, just as variables have names. The names of arguments to a function are called keywords. We can pass arguments to functions by assigning values explicitly to keywords like so:\n",
    "\n",
    "    my_function(keyword_1 = value_1, keyword_2 = value_2,...)\n",
    "    \n",
    "This gives enormous flexibility in using Python interactively. Most functions given in the `matplotlib` and `seaborn` libraries have many arguments almost all of have them have default values. However, we often use a few of these keywords and it is quite a pain to remember the exact sequence of arguments in the function signature. Passing argments to keywords allows us to pass arguments in any order convenient to us. "
   ]
  },
  {
   "cell_type": "code",
   "execution_count": 25,
   "metadata": {},
   "outputs": [
    {
     "data": {
      "text/plain": [
       "False"
      ]
     },
     "execution_count": 25,
     "metadata": {},
     "output_type": "execute_result"
    }
   ],
   "source": [
    "special_product(1,3) == special_product(3,1)"
   ]
  },
  {
   "cell_type": "code",
   "execution_count": 27,
   "metadata": {},
   "outputs": [
    {
     "data": {
      "text/plain": [
       "True"
      ]
     },
     "execution_count": 27,
     "metadata": {},
     "output_type": "execute_result"
    }
   ],
   "source": [
    "special_product(x=1, y=3) == special_product( y=3, x=1)"
   ]
  },
  {
   "cell_type": "markdown",
   "metadata": {},
   "source": [
    "### 9.5.1 An application: A function to implement the Euclidean algorithm\n",
    "\n",
    "To end this section, below is code to find the gcd of two positive integers. The function will also print out each stage of the algorithm as an output of 3 numbers: (m, n, remainder). "
   ]
  },
  {
   "cell_type": "code",
   "execution_count": 1,
   "metadata": {
    "collapsed": true
   },
   "outputs": [],
   "source": [
    "def gcd(m=1,n=1):\n",
    "    \"\"\"\n",
    "    This function implementats the Euclidean algorithm to find the gcd of two positive integers. \n",
    "    \n",
    "    Returns:\n",
    "        int, greatest common divisor of m and n. \n",
    "    \"\"\"\n",
    "    \n",
    "    if m < n:\n",
    "        r = [n, m, n%m]\n",
    "    else:\n",
    "        r = [m, n, m%n]\n",
    "        \n",
    "    for _ in range(0, r[1]):\n",
    "        \n",
    "        print(\"{} {} {}\".format(r[0], r[1], r[2]))\n",
    "        \n",
    "        if r[2] == 0:\n",
    "            break\n",
    "        else:\n",
    "            r = [r[1], r[2], r[1]%r[2]]\n",
    "        \n",
    "    print(\"Greatest common divisor of {} and {} is {}\".format(m, n, r[1]))\n",
    "    return r[1]"
   ]
  },
  {
   "cell_type": "code",
   "execution_count": 2,
   "metadata": {},
   "outputs": [
    {
     "name": "stdout",
     "output_type": "stream",
     "text": [
      "151000 14356 7440\n",
      "14356 7440 6916\n",
      "7440 6916 524\n",
      "6916 524 104\n",
      "524 104 4\n",
      "104 4 0\n",
      "Greatest common divisor of 151000 and 14356 is 4\n"
     ]
    },
    {
     "data": {
      "text/plain": [
       "4"
      ]
     },
     "execution_count": 2,
     "metadata": {},
     "output_type": "execute_result"
    }
   ],
   "source": [
    "gcd(151000,14356)"
   ]
  },
  {
   "cell_type": "markdown",
   "metadata": {
    "collapsed": true
   },
   "source": [
    "# 10. Lambda expressions\n",
    "_______\n",
    "\n",
    "Lambda expressions are used to define short functions that may be written in one line of code. This is more than just a convenience. Most arguments to `pandas` and `seaborn` functions are intended to take in *callables* (functions) and lambda expressions provide a good syntactical way of passing functions as arguments to other functions. \n",
    "\n",
    "Recall our definition of `my_first_function`: "
   ]
  },
  {
   "cell_type": "code",
   "execution_count": 3,
   "metadata": {
    "collapsed": true
   },
   "outputs": [],
   "source": [
    "def my_first_function(name):\n",
    "    print(\"Hello %s\" % (name))"
   ]
  },
  {
   "cell_type": "markdown",
   "metadata": {},
   "source": [
    "Notice that this function essentially consists of one line, namely the `print` statement. Using lambda expressions, this can be shortened to:"
   ]
  },
  {
   "cell_type": "code",
   "execution_count": 8,
   "metadata": {
    "collapsed": true
   },
   "outputs": [],
   "source": [
    "printer = lambda name: print(\"Hello %s\" % (name))"
   ]
  },
  {
   "cell_type": "markdown",
   "metadata": {},
   "source": [
    "We use the `lambda` keyword to define lambda expressions. After `lambda` we type in the arguments to the function but without enclosing it in `( )`. All arguments must be seperated by commas. Once that is done, type a `:` and follow it with one line of code which does whatever you want it to do. In this case here, I simply want to `print` a name. Functionally, this lambda expression is equivalent to `my_first_function`. However, as you can see below, they are different objects."
   ]
  },
  {
   "cell_type": "code",
   "execution_count": 9,
   "metadata": {},
   "outputs": [
    {
     "data": {
      "text/plain": [
       "False"
      ]
     },
     "execution_count": 9,
     "metadata": {},
     "output_type": "execute_result"
    }
   ],
   "source": [
    "my_first_function is printer"
   ]
  },
  {
   "cell_type": "code",
   "execution_count": 10,
   "metadata": {},
   "outputs": [
    {
     "data": {
      "text/plain": [
       "<function __main__.<lambda>>"
      ]
     },
     "execution_count": 10,
     "metadata": {},
     "output_type": "execute_result"
    }
   ],
   "source": [
    "printer"
   ]
  },
  {
   "cell_type": "markdown",
   "metadata": {},
   "source": [
    "Notice that `printer` is of class `function` but is given a name `<lambda>`. However, we can call `printer` just as we called `my_first_function`, by passing arguments to it.  "
   ]
  },
  {
   "cell_type": "code",
   "execution_count": 11,
   "metadata": {},
   "outputs": [
    {
     "name": "stdout",
     "output_type": "stream",
     "text": [
      "Hello Joe\n"
     ]
    }
   ],
   "source": [
    "printer(\"Joe\")"
   ]
  },
  {
   "cell_type": "markdown",
   "metadata": {},
   "source": [
    "Lambda expressions can take on more than one argument. Here is the function `special_product` refactored as a lambda expression."
   ]
  },
  {
   "cell_type": "code",
   "execution_count": 15,
   "metadata": {},
   "outputs": [
    {
     "data": {
      "text/plain": [
       "91"
      ]
     },
     "execution_count": 15,
     "metadata": {},
     "output_type": "execute_result"
    }
   ],
   "source": [
    "special_product = lambda x, y: x-y+x*y\n",
    "\n",
    "special_product(10,9)"
   ]
  },
  {
   "cell_type": "markdown",
   "metadata": {},
   "source": [
    "Notice that I did not need to put a `return` to indicate which output to pass to the global environment. This is because lambda expressions are meant to be written in one line, hence it is understood that that one line of code *is* the output. \n",
    "\n",
    "## 10.1 Use cases\n",
    "\n",
    "Lambda expressions are also known as anonymous functions because we rarely assign lambda expressions to variables. Instead, they are passed directly to keywords or as arguments to most `pandas` functions or methods. Here is an example to how this is used in a pandas dataframe.\n",
    "\n",
    "In what follows, we intend to calculate the ratio of `sulphates` to `alchohol` content for each sample (row) and assign it as a new column to the data frame. The data frame is displayed below and has been assigned to variable named `wine`. "
   ]
  },
  {
   "cell_type": "code",
   "execution_count": 17,
   "metadata": {},
   "outputs": [
    {
     "data": {
      "text/html": [
       "<div>\n",
       "<style>\n",
       "    .dataframe thead tr:only-child th {\n",
       "        text-align: right;\n",
       "    }\n",
       "\n",
       "    .dataframe thead th {\n",
       "        text-align: left;\n",
       "    }\n",
       "\n",
       "    .dataframe tbody tr th {\n",
       "        vertical-align: top;\n",
       "    }\n",
       "</style>\n",
       "<table border=\"1\" class=\"dataframe\">\n",
       "  <thead>\n",
       "    <tr style=\"text-align: right;\">\n",
       "      <th></th>\n",
       "      <th>fixed acidity</th>\n",
       "      <th>volatile acidity</th>\n",
       "      <th>citric acid</th>\n",
       "      <th>residual sugar</th>\n",
       "      <th>chlorides</th>\n",
       "      <th>free sulfur dioxide</th>\n",
       "      <th>total sulfur dioxide</th>\n",
       "      <th>density</th>\n",
       "      <th>pH</th>\n",
       "      <th>sulphates</th>\n",
       "      <th>alcohol</th>\n",
       "      <th>quality</th>\n",
       "    </tr>\n",
       "  </thead>\n",
       "  <tbody>\n",
       "    <tr>\n",
       "      <th>290</th>\n",
       "      <td>8.7</td>\n",
       "      <td>0.520</td>\n",
       "      <td>0.09</td>\n",
       "      <td>2.5</td>\n",
       "      <td>0.091</td>\n",
       "      <td>20.0</td>\n",
       "      <td>49.0</td>\n",
       "      <td>0.99760</td>\n",
       "      <td>3.34</td>\n",
       "      <td>0.86</td>\n",
       "      <td>10.6</td>\n",
       "      <td>7</td>\n",
       "    </tr>\n",
       "    <tr>\n",
       "      <th>1478</th>\n",
       "      <td>7.1</td>\n",
       "      <td>0.875</td>\n",
       "      <td>0.05</td>\n",
       "      <td>5.7</td>\n",
       "      <td>0.082</td>\n",
       "      <td>3.0</td>\n",
       "      <td>14.0</td>\n",
       "      <td>0.99808</td>\n",
       "      <td>3.40</td>\n",
       "      <td>0.52</td>\n",
       "      <td>10.2</td>\n",
       "      <td>3</td>\n",
       "    </tr>\n",
       "    <tr>\n",
       "      <th>622</th>\n",
       "      <td>10.0</td>\n",
       "      <td>0.580</td>\n",
       "      <td>0.22</td>\n",
       "      <td>1.9</td>\n",
       "      <td>0.080</td>\n",
       "      <td>9.0</td>\n",
       "      <td>32.0</td>\n",
       "      <td>0.99740</td>\n",
       "      <td>3.13</td>\n",
       "      <td>0.55</td>\n",
       "      <td>9.5</td>\n",
       "      <td>5</td>\n",
       "    </tr>\n",
       "    <tr>\n",
       "      <th>287</th>\n",
       "      <td>7.5</td>\n",
       "      <td>0.400</td>\n",
       "      <td>0.12</td>\n",
       "      <td>3.0</td>\n",
       "      <td>0.092</td>\n",
       "      <td>29.0</td>\n",
       "      <td>53.0</td>\n",
       "      <td>0.99670</td>\n",
       "      <td>3.37</td>\n",
       "      <td>0.70</td>\n",
       "      <td>10.3</td>\n",
       "      <td>6</td>\n",
       "    </tr>\n",
       "    <tr>\n",
       "      <th>1292</th>\n",
       "      <td>5.9</td>\n",
       "      <td>0.395</td>\n",
       "      <td>0.13</td>\n",
       "      <td>2.4</td>\n",
       "      <td>0.056</td>\n",
       "      <td>14.0</td>\n",
       "      <td>28.0</td>\n",
       "      <td>0.99362</td>\n",
       "      <td>3.62</td>\n",
       "      <td>0.67</td>\n",
       "      <td>12.4</td>\n",
       "      <td>6</td>\n",
       "    </tr>\n",
       "  </tbody>\n",
       "</table>\n",
       "</div>"
      ],
      "text/plain": [
       "      fixed acidity  volatile acidity  citric acid  residual sugar  chlorides  \\\n",
       "290             8.7             0.520         0.09             2.5      0.091   \n",
       "1478            7.1             0.875         0.05             5.7      0.082   \n",
       "622            10.0             0.580         0.22             1.9      0.080   \n",
       "287             7.5             0.400         0.12             3.0      0.092   \n",
       "1292            5.9             0.395         0.13             2.4      0.056   \n",
       "\n",
       "      free sulfur dioxide  total sulfur dioxide  density    pH  sulphates  \\\n",
       "290                  20.0                  49.0  0.99760  3.34       0.86   \n",
       "1478                  3.0                  14.0  0.99808  3.40       0.52   \n",
       "622                   9.0                  32.0  0.99740  3.13       0.55   \n",
       "287                  29.0                  53.0  0.99670  3.37       0.70   \n",
       "1292                 14.0                  28.0  0.99362  3.62       0.67   \n",
       "\n",
       "      alcohol  quality  \n",
       "290      10.6        7  \n",
       "1478     10.2        3  \n",
       "622       9.5        5  \n",
       "287      10.3        6  \n",
       "1292     12.4        6  "
      ]
     },
     "execution_count": 17,
     "metadata": {},
     "output_type": "execute_result"
    }
   ],
   "source": [
    "import pandas as pd # Importing the pandas library\n",
    "\n",
    "wine = pd.read_csv(\"winequality-red.csv\", sep=';')\n",
    "\n",
    "wine.sample(5)"
   ]
  },
  {
   "cell_type": "markdown",
   "metadata": {},
   "source": [
    "Here's how this could be achieved. We first define the function that calculates the ratio and then proceed to create the new calculated column. "
   ]
  },
  {
   "cell_type": "code",
   "execution_count": 20,
   "metadata": {},
   "outputs": [
    {
     "data": {
      "text/html": [
       "<div>\n",
       "<style>\n",
       "    .dataframe thead tr:only-child th {\n",
       "        text-align: right;\n",
       "    }\n",
       "\n",
       "    .dataframe thead th {\n",
       "        text-align: left;\n",
       "    }\n",
       "\n",
       "    .dataframe tbody tr th {\n",
       "        vertical-align: top;\n",
       "    }\n",
       "</style>\n",
       "<table border=\"1\" class=\"dataframe\">\n",
       "  <thead>\n",
       "    <tr style=\"text-align: right;\">\n",
       "      <th></th>\n",
       "      <th>fixed acidity</th>\n",
       "      <th>volatile acidity</th>\n",
       "      <th>citric acid</th>\n",
       "      <th>residual sugar</th>\n",
       "      <th>chlorides</th>\n",
       "      <th>free sulfur dioxide</th>\n",
       "      <th>total sulfur dioxide</th>\n",
       "      <th>density</th>\n",
       "      <th>pH</th>\n",
       "      <th>sulphates</th>\n",
       "      <th>alcohol</th>\n",
       "      <th>quality</th>\n",
       "      <th>ratio_sul_to_alc</th>\n",
       "    </tr>\n",
       "  </thead>\n",
       "  <tbody>\n",
       "    <tr>\n",
       "      <th>0</th>\n",
       "      <td>7.4</td>\n",
       "      <td>0.70</td>\n",
       "      <td>0.00</td>\n",
       "      <td>1.9</td>\n",
       "      <td>0.076</td>\n",
       "      <td>11.0</td>\n",
       "      <td>34.0</td>\n",
       "      <td>0.9978</td>\n",
       "      <td>3.51</td>\n",
       "      <td>0.56</td>\n",
       "      <td>9.4</td>\n",
       "      <td>5</td>\n",
       "      <td>0.059574</td>\n",
       "    </tr>\n",
       "    <tr>\n",
       "      <th>1</th>\n",
       "      <td>7.8</td>\n",
       "      <td>0.88</td>\n",
       "      <td>0.00</td>\n",
       "      <td>2.6</td>\n",
       "      <td>0.098</td>\n",
       "      <td>25.0</td>\n",
       "      <td>67.0</td>\n",
       "      <td>0.9968</td>\n",
       "      <td>3.20</td>\n",
       "      <td>0.68</td>\n",
       "      <td>9.8</td>\n",
       "      <td>5</td>\n",
       "      <td>0.069388</td>\n",
       "    </tr>\n",
       "    <tr>\n",
       "      <th>2</th>\n",
       "      <td>7.8</td>\n",
       "      <td>0.76</td>\n",
       "      <td>0.04</td>\n",
       "      <td>2.3</td>\n",
       "      <td>0.092</td>\n",
       "      <td>15.0</td>\n",
       "      <td>54.0</td>\n",
       "      <td>0.9970</td>\n",
       "      <td>3.26</td>\n",
       "      <td>0.65</td>\n",
       "      <td>9.8</td>\n",
       "      <td>5</td>\n",
       "      <td>0.066327</td>\n",
       "    </tr>\n",
       "    <tr>\n",
       "      <th>3</th>\n",
       "      <td>11.2</td>\n",
       "      <td>0.28</td>\n",
       "      <td>0.56</td>\n",
       "      <td>1.9</td>\n",
       "      <td>0.075</td>\n",
       "      <td>17.0</td>\n",
       "      <td>60.0</td>\n",
       "      <td>0.9980</td>\n",
       "      <td>3.16</td>\n",
       "      <td>0.58</td>\n",
       "      <td>9.8</td>\n",
       "      <td>6</td>\n",
       "      <td>0.059184</td>\n",
       "    </tr>\n",
       "    <tr>\n",
       "      <th>4</th>\n",
       "      <td>7.4</td>\n",
       "      <td>0.70</td>\n",
       "      <td>0.00</td>\n",
       "      <td>1.9</td>\n",
       "      <td>0.076</td>\n",
       "      <td>11.0</td>\n",
       "      <td>34.0</td>\n",
       "      <td>0.9978</td>\n",
       "      <td>3.51</td>\n",
       "      <td>0.56</td>\n",
       "      <td>9.4</td>\n",
       "      <td>5</td>\n",
       "      <td>0.059574</td>\n",
       "    </tr>\n",
       "  </tbody>\n",
       "</table>\n",
       "</div>"
      ],
      "text/plain": [
       "   fixed acidity  volatile acidity  citric acid  residual sugar  chlorides  \\\n",
       "0            7.4              0.70         0.00             1.9      0.076   \n",
       "1            7.8              0.88         0.00             2.6      0.098   \n",
       "2            7.8              0.76         0.04             2.3      0.092   \n",
       "3           11.2              0.28         0.56             1.9      0.075   \n",
       "4            7.4              0.70         0.00             1.9      0.076   \n",
       "\n",
       "   free sulfur dioxide  total sulfur dioxide  density    pH  sulphates  \\\n",
       "0                 11.0                  34.0   0.9978  3.51       0.56   \n",
       "1                 25.0                  67.0   0.9968  3.20       0.68   \n",
       "2                 15.0                  54.0   0.9970  3.26       0.65   \n",
       "3                 17.0                  60.0   0.9980  3.16       0.58   \n",
       "4                 11.0                  34.0   0.9978  3.51       0.56   \n",
       "\n",
       "   alcohol  quality  ratio_sul_to_alc  \n",
       "0      9.4        5          0.059574  \n",
       "1      9.8        5          0.069388  \n",
       "2      9.8        5          0.066327  \n",
       "3      9.8        6          0.059184  \n",
       "4      9.4        5          0.059574  "
      ]
     },
     "execution_count": 20,
     "metadata": {},
     "output_type": "execute_result"
    }
   ],
   "source": [
    "def ratio(df): \n",
    "    \"\"\" This function calculates the ratio of sulphates to alcohol content in the wine dataframe\n",
    "    \n",
    "    Returns\n",
    "        Series, shape (n_samples, ) Array containing the ratio of sulphate to alcohol content for each sample\n",
    "    \"\"\"\n",
    "    ratio_col = df.sulphates/df.alcohol\n",
    "    return ratio_col\n",
    "\n",
    "(wine.assign(ratio_sul_to_alc=ratio)\n",
    "     .head(5))"
   ]
  },
  {
   "cell_type": "markdown",
   "metadata": {},
   "source": [
    "As you can see, a new column has been added with the calculated column named `ratio_sul_to_alc`. However, we had to define a function named `ratio` which we may or may not use again. We would like to achieve the same thing, but without populating the global namespace with unnecessary variables.  \n",
    "\n",
    "So let's do the same thing but with lambda expressions. "
   ]
  },
  {
   "cell_type": "code",
   "execution_count": 21,
   "metadata": {},
   "outputs": [
    {
     "data": {
      "text/html": [
       "<div>\n",
       "<style>\n",
       "    .dataframe thead tr:only-child th {\n",
       "        text-align: right;\n",
       "    }\n",
       "\n",
       "    .dataframe thead th {\n",
       "        text-align: left;\n",
       "    }\n",
       "\n",
       "    .dataframe tbody tr th {\n",
       "        vertical-align: top;\n",
       "    }\n",
       "</style>\n",
       "<table border=\"1\" class=\"dataframe\">\n",
       "  <thead>\n",
       "    <tr style=\"text-align: right;\">\n",
       "      <th></th>\n",
       "      <th>fixed acidity</th>\n",
       "      <th>volatile acidity</th>\n",
       "      <th>citric acid</th>\n",
       "      <th>residual sugar</th>\n",
       "      <th>chlorides</th>\n",
       "      <th>free sulfur dioxide</th>\n",
       "      <th>total sulfur dioxide</th>\n",
       "      <th>density</th>\n",
       "      <th>pH</th>\n",
       "      <th>sulphates</th>\n",
       "      <th>alcohol</th>\n",
       "      <th>quality</th>\n",
       "      <th>ratio_sul_to_alc</th>\n",
       "    </tr>\n",
       "  </thead>\n",
       "  <tbody>\n",
       "    <tr>\n",
       "      <th>0</th>\n",
       "      <td>7.4</td>\n",
       "      <td>0.70</td>\n",
       "      <td>0.00</td>\n",
       "      <td>1.9</td>\n",
       "      <td>0.076</td>\n",
       "      <td>11.0</td>\n",
       "      <td>34.0</td>\n",
       "      <td>0.9978</td>\n",
       "      <td>3.51</td>\n",
       "      <td>0.56</td>\n",
       "      <td>9.4</td>\n",
       "      <td>5</td>\n",
       "      <td>0.059574</td>\n",
       "    </tr>\n",
       "    <tr>\n",
       "      <th>1</th>\n",
       "      <td>7.8</td>\n",
       "      <td>0.88</td>\n",
       "      <td>0.00</td>\n",
       "      <td>2.6</td>\n",
       "      <td>0.098</td>\n",
       "      <td>25.0</td>\n",
       "      <td>67.0</td>\n",
       "      <td>0.9968</td>\n",
       "      <td>3.20</td>\n",
       "      <td>0.68</td>\n",
       "      <td>9.8</td>\n",
       "      <td>5</td>\n",
       "      <td>0.069388</td>\n",
       "    </tr>\n",
       "    <tr>\n",
       "      <th>2</th>\n",
       "      <td>7.8</td>\n",
       "      <td>0.76</td>\n",
       "      <td>0.04</td>\n",
       "      <td>2.3</td>\n",
       "      <td>0.092</td>\n",
       "      <td>15.0</td>\n",
       "      <td>54.0</td>\n",
       "      <td>0.9970</td>\n",
       "      <td>3.26</td>\n",
       "      <td>0.65</td>\n",
       "      <td>9.8</td>\n",
       "      <td>5</td>\n",
       "      <td>0.066327</td>\n",
       "    </tr>\n",
       "    <tr>\n",
       "      <th>3</th>\n",
       "      <td>11.2</td>\n",
       "      <td>0.28</td>\n",
       "      <td>0.56</td>\n",
       "      <td>1.9</td>\n",
       "      <td>0.075</td>\n",
       "      <td>17.0</td>\n",
       "      <td>60.0</td>\n",
       "      <td>0.9980</td>\n",
       "      <td>3.16</td>\n",
       "      <td>0.58</td>\n",
       "      <td>9.8</td>\n",
       "      <td>6</td>\n",
       "      <td>0.059184</td>\n",
       "    </tr>\n",
       "    <tr>\n",
       "      <th>4</th>\n",
       "      <td>7.4</td>\n",
       "      <td>0.70</td>\n",
       "      <td>0.00</td>\n",
       "      <td>1.9</td>\n",
       "      <td>0.076</td>\n",
       "      <td>11.0</td>\n",
       "      <td>34.0</td>\n",
       "      <td>0.9978</td>\n",
       "      <td>3.51</td>\n",
       "      <td>0.56</td>\n",
       "      <td>9.4</td>\n",
       "      <td>5</td>\n",
       "      <td>0.059574</td>\n",
       "    </tr>\n",
       "  </tbody>\n",
       "</table>\n",
       "</div>"
      ],
      "text/plain": [
       "   fixed acidity  volatile acidity  citric acid  residual sugar  chlorides  \\\n",
       "0            7.4              0.70         0.00             1.9      0.076   \n",
       "1            7.8              0.88         0.00             2.6      0.098   \n",
       "2            7.8              0.76         0.04             2.3      0.092   \n",
       "3           11.2              0.28         0.56             1.9      0.075   \n",
       "4            7.4              0.70         0.00             1.9      0.076   \n",
       "\n",
       "   free sulfur dioxide  total sulfur dioxide  density    pH  sulphates  \\\n",
       "0                 11.0                  34.0   0.9978  3.51       0.56   \n",
       "1                 25.0                  67.0   0.9968  3.20       0.68   \n",
       "2                 15.0                  54.0   0.9970  3.26       0.65   \n",
       "3                 17.0                  60.0   0.9980  3.16       0.58   \n",
       "4                 11.0                  34.0   0.9978  3.51       0.56   \n",
       "\n",
       "   alcohol  quality  ratio_sul_to_alc  \n",
       "0      9.4        5          0.059574  \n",
       "1      9.8        5          0.069388  \n",
       "2      9.8        5          0.066327  \n",
       "3      9.8        6          0.059184  \n",
       "4      9.4        5          0.059574  "
      ]
     },
     "execution_count": 21,
     "metadata": {},
     "output_type": "execute_result"
    }
   ],
   "source": [
    "(wine.assign(ratio_sul_to_alc=lambda df: df.sulphates/df.alcohol)\n",
    "     .head(5))"
   ]
  },
  {
   "cell_type": "markdown",
   "metadata": {},
   "source": [
    "Notice that they give the same answer. We will learn how to do this in detail in the next unit. For now, the purpose of this example is to illustrate how lambda expressions are a great help in simplifying and making code more compact and readable. "
   ]
  },
  {
   "cell_type": "markdown",
   "metadata": {
    "collapsed": true
   },
   "source": [
    "# 11. Built in functions\n",
    "_____\n",
    "Python has some built in functions for coding purposes. While there are quite a few of them, the following three will be used quite often in handling dataframes and visualization. These are \n",
    "\n",
    "  * `zip` is a utility function that produces tuples from two lists of equal length. \n",
    "  * `enumerate` also creates a tuple in the form $ (i, item_i)$ for $0\\leq i < $ `len(items)`. \n",
    "\n",
    "We will also cover the concept of **list comprehension** in this section as it is an important programming concept and syntax in Python. \n",
    "\n",
    "## 11.1 `zip`\n",
    "\n",
    "To understand what `zip` does, we need to describe a rather simple data structure called `tuple`. A tuple is like a list, with the difference being that its elements are **immutable**. Tuples are created by enclosing a list of objects seperated by commas within two round braces `()`"
   ]
  },
  {
   "cell_type": "code",
   "execution_count": 1,
   "metadata": {},
   "outputs": [
    {
     "name": "stdout",
     "output_type": "stream",
     "text": [
      "(1, 4)\n"
     ]
    }
   ],
   "source": [
    "pair = (1,4)\n",
    "\n",
    "print(pair)"
   ]
  },
  {
   "cell_type": "markdown",
   "metadata": {},
   "source": [
    "As with lists, tuples can also be indexed and sliced. However, once assigned, individual components of a tuple cannot be changed. For example, the following code will raise and error"
   ]
  },
  {
   "cell_type": "code",
   "execution_count": 4,
   "metadata": {},
   "outputs": [
    {
     "ename": "TypeError",
     "evalue": "'tuple' object does not support item assignment",
     "output_type": "error",
     "traceback": [
      "\u001b[0;31m---------------------------------------------------------------------------\u001b[0m",
      "\u001b[0;31mTypeError\u001b[0m                                 Traceback (most recent call last)",
      "\u001b[0;32m<ipython-input-4-43fb3051a481>\u001b[0m in \u001b[0;36m<module>\u001b[0;34m()\u001b[0m\n\u001b[0;32m----> 1\u001b[0;31m \u001b[0mpair\u001b[0m\u001b[1;33m[\u001b[0m\u001b[1;36m0\u001b[0m\u001b[1;33m]\u001b[0m \u001b[1;33m=\u001b[0m \u001b[1;36m2\u001b[0m\u001b[1;33m\u001b[0m\u001b[0m\n\u001b[0m",
      "\u001b[0;31mTypeError\u001b[0m: 'tuple' object does not support item assignment"
     ]
    }
   ],
   "source": [
    "pair[0] = 2"
   ]
  },
  {
   "cell_type": "markdown",
   "metadata": {},
   "source": [
    "Think of tuples as lists which you wish to protect from changing by accidental assignment. Another way of thinking about tuples are also as constant lists, or as \"coordinates\" in $\\mathbb{R}^n$. \n",
    "\n",
    "Given two lists with items $$ x_1, \\ldots, x_n$$ and $$ y_1, \\ldots, y_n$$ `zip` produces a new list of `tuples` in the following form $$ (x_1, y_1), \\ldots, (x_n, y_n)$$\n",
    "\n",
    "To understand how `zip` works, let's try to replicate its function using a for loop.  "
   ]
  },
  {
   "cell_type": "code",
   "execution_count": 6,
   "metadata": {},
   "outputs": [
    {
     "name": "stdout",
     "output_type": "stream",
     "text": [
      "[('Andy', 29), ('Lisa', 24), ('Dayton', 50)]\n"
     ]
    }
   ],
   "source": [
    "zipped = list() # This creates and empty list \n",
    "\n",
    "my_colleagues = ['Andy', 'Lisa', 'Dayton']\n",
    "ages = [29, 24, 50]\n",
    "\n",
    "for i in range(0,3):\n",
    "    zipped.append((my_colleagues[i], ages[i]))\n",
    "\n",
    "print(zipped)"
   ]
  },
  {
   "cell_type": "markdown",
   "metadata": {},
   "source": [
    "Imagine having to write such a snippet of code every time we need to do something with elements from two lists! As you can imagine, it can cause code to be bloated and distracts from the main logic of the program. \n",
    "\n",
    "Here's how `zip` is typically used in a program.  "
   ]
  },
  {
   "cell_type": "code",
   "execution_count": 7,
   "metadata": {},
   "outputs": [
    {
     "name": "stdout",
     "output_type": "stream",
     "text": [
      "Andy's age is 29\n",
      "Lisa's age is 24\n",
      "Dayton's age is 50\n"
     ]
    }
   ],
   "source": [
    "for tup in zip(my_colleagues, ages):\n",
    "    name = tup[0]\n",
    "    age = tup[1]\n",
    "    print(\"%s's age is %d\" % (name, age))"
   ]
  },
  {
   "cell_type": "markdown",
   "metadata": {},
   "source": [
    "In fact, we can do even better in terms of readibility. We can utilize what is known as **list unpacking** to rewrite this for loop. "
   ]
  },
  {
   "cell_type": "code",
   "execution_count": 8,
   "metadata": {},
   "outputs": [
    {
     "name": "stdout",
     "output_type": "stream",
     "text": [
      "Andy's age is 29\n",
      "Lisa's age is 24\n",
      "Dayton's age is 50\n"
     ]
    }
   ],
   "source": [
    "for name, age in zip(my_colleagues, ages): # The syntax name, age is what is known as list unpacking\n",
    "    print(\"%s's age is %d\" % (name, age))"
   ]
  },
  {
   "cell_type": "markdown",
   "metadata": {},
   "source": [
    "Of course, `zip` is used in many other context other than to simplify `for` loops. Can you think of any other situations where you might need to use `zip`? \n",
    "\n",
    "## 11.2 `enumerate`\n",
    "\n",
    "As the name of this function suggests, `enumerate` is useful when we wish to produce a count of items in the list. This is one of the most useful functions you will ever use in Python. It's utility can not be understated. \n",
    "\n",
    "`enumerate` works by producing from a list $$ x_0, x_1, \\ldots, x_n$$ the following list of tuples (note the 0 indexing) $$(0, x_0), (1, x_1), \\ldots, (n, x_n) $$.  \n",
    "\n",
    "We can use list unpacking to capture both the enumerated index and the object itself. You will use `enumerate` most often in `for` loops. Below is an example where we wish to assign staff names to staff id numbers based on a running serial number. "
   ]
  },
  {
   "cell_type": "code",
   "execution_count": 9,
   "metadata": {},
   "outputs": [
    {
     "name": "stdout",
     "output_type": "stream",
     "text": [
      "A list of staff id numbers\n",
      "['s2017-1', 's2017-0', 's2017-2']\n",
      "and the respective staff names\n",
      "['Lisa', 'Andy', 'Dayton']\n"
     ]
    }
   ],
   "source": [
    "staff_id = dict()\n",
    "\n",
    "for i, name in enumerate(my_colleagues):\n",
    "    id_no = 's2017-'+str(i) # The str function coerces and integer i into 'i'\n",
    "    staff_id[id_no] = name\n",
    "\n",
    "print(\"A list of staff id numbers\")    \n",
    "print(staff_id.keys())\n",
    "print(\"and the respective staff names\")\n",
    "print(staff_id.values())"
   ]
  },
  {
   "cell_type": "markdown",
   "metadata": {},
   "source": [
    "## 11.3 List comprehension\n",
    "\n",
    "One one the great things about `for` loops in Python is there are easy to write and understand. However, this comes at a cost: time. `for` loops in Python are slow. Thus, if the code is iterated over a large number of loops, it *will* take time. \n",
    "\n",
    "Let's see this. The scenario here is that we want to assign a running serial number to staff id. This will involve coercing `int` into `str` type. The thing is, we have `5000` staff. So let's see how much computer time it takes by using `%timeit`. "
   ]
  },
  {
   "cell_type": "code",
   "execution_count": 1,
   "metadata": {},
   "outputs": [
    {
     "name": "stdout",
     "output_type": "stream",
     "text": [
      "1.87 ms ± 10.2 µs per loop (mean ± std. dev. of 7 runs, 1000 loops each)\n"
     ]
    }
   ],
   "source": [
    "%%timeit\n",
    "\n",
    "serial_numbers = list()\n",
    "for i in range(0,5000): # 5000 staff, so we need 5000 int's\n",
    "    serial_numbers.append('s'+str(i)) # our serial numbers are prefixed with 's'"
   ]
  },
  {
   "cell_type": "markdown",
   "metadata": {},
   "source": [
    "Notice that the entire script needed about 1.8 ms to execute. This isn't exactly a short amount of time as far as computers go. Just imagine that we have to do this for 10 times in a row! \n",
    "\n",
    "Fortunately Python implements what is known as **list comprehension** which is a way of writing `for` loops in a more compact and abstracted way. If we think about a `for` loop to create a list element by element, the code will look something like this: \n",
    "\n",
    "    for i in iterable:\n",
    "        \n",
    "        do code and return result_i\n",
    "        append(result_i) to list[i]\n",
    "\n",
    "Python **list comprehension** provides an alternative syntax which does the exact same thing but faster. The syntax is:\n",
    "\n",
    "    [do code for i in iterable]\n",
    "\n",
    "The code is enclosed in `[ ]` because we are using **list comprehension** to create a `list` using a set instruction for each item in the iterable (think of iterables as a `list`). If one is familiar with set notation from calculus courses, list comprehension is syntatically similiar to the following $$\\{\\, f(x_n) \\mid x_n \\in A\\}$$ where $f$ is some function meant to be evaluated element-wise on each element in a set $A$.  \n",
    "\n",
    "Now let's refactor the for loop above using list comprehension and time the script. "
   ]
  },
  {
   "cell_type": "code",
   "execution_count": 4,
   "metadata": {},
   "outputs": [
    {
     "name": "stdout",
     "output_type": "stream",
     "text": [
      "1.68 ms ± 11 µs per loop (mean ± std. dev. of 7 runs, 1000 loops each)\n"
     ]
    }
   ],
   "source": [
    "%%timeit\n",
    "\n",
    "serial_numbers = ['s'+str(i) for i in range(5000)]"
   ]
  },
  {
   "cell_type": "markdown",
   "metadata": {},
   "source": [
    "That's an improvement of about 10.2 %! \n",
    "\n",
    "Let's see another example to really familiarize ourselves with list comprehensions. In the following example, we wish to to extract the first three letters of the months in a year and capitalize them "
   ]
  },
  {
   "cell_type": "code",
   "execution_count": 8,
   "metadata": {},
   "outputs": [
    {
     "name": "stdout",
     "output_type": "stream",
     "text": [
      "['JAN', 'FEB', 'MAR', 'APR', 'MAY', 'JUN', 'JUL', 'AUG', 'SEP', 'OCT', 'NOV', 'DEC']\n"
     ]
    }
   ],
   "source": [
    "months = [\"January\", \"February\", \"March\", \"April\", \"May\", \"June\", \"July\", \"August\", \"September\", \"October\", \n",
    "          \"November\", \"December\"]\n",
    "\n",
    "# multiline statements are allowed in Python as long as they are enclosed in some sort of braces. \n",
    "\n",
    "short_name = []\n",
    "mk_list = short_name.append # Here's a neat trick, assign the append method to a variable mk_list.\n",
    "                            # mk_list is now a function\n",
    "\n",
    "for month in months:\n",
    "    mk_list(month[0:3].upper()) # .upper() is a string method that simply capitalizes all letters in a string. \n",
    "    \n",
    "print(short_name)\n"
   ]
  },
  {
   "cell_type": "markdown",
   "metadata": {},
   "source": [
    "To refactor this into a list comprehension statement, we first identify the code that is being looped over. That is \n",
    "\n",
    "    mk_list(month[0:3].upper())\n",
    "\n",
    "However, this composite statement can be broken down into steps: \n",
    "\n",
    "1. `month[0:3]` just extracts the first 3 letters from `month`\n",
    "\n",
    "1. Calling the `.upper()` method on the string of 3 letters captilizes them. \n",
    "\n",
    "1. Calling `mk_list` is essentially the task of appending the result of the previous two steps to the list `short_name`. \n",
    "\n",
    "In list comprehension, the last step is taken care of. Thus, the essential part of the code is `month[0:3].upper()`. Now we identify the iterable: This is simply the list `months` (note plural). \n",
    "\n",
    "What is the variable to indicate the particular month as we iterate over the lists of months? This is simply denoted by the name `month` (note singular). There is nothing particularly special about using `month` to name each object in the list `months`. I could have easily used `mon` as well. In that case, the essential part of the code which is being looped should be written `mon[0:3].upper()`. With that clarified, the list comprehension statement is"
   ]
  },
  {
   "cell_type": "code",
   "execution_count": 9,
   "metadata": {},
   "outputs": [
    {
     "name": "stdout",
     "output_type": "stream",
     "text": [
      "['JAN', 'FEB', 'MAR', 'APR', 'MAY', 'JUN', 'JUL', 'AUG', 'SEP', 'OCT', 'NOV', 'DEC']\n"
     ]
    }
   ],
   "source": [
    "short_name = [month[0:3].upper() for month in months]\n",
    "print(short_name)"
   ]
  },
  {
   "cell_type": "markdown",
   "metadata": {
    "collapsed": true
   },
   "source": [
    "# 12. A concluding demonstration\n",
    "_____\n",
    "In this section I want to pull together all that we have learnt in this unit to write a script that illustrates and implements the [RSA](https://en.wikipedia.org/wiki/RSA_(cryptosystem) cryptosystem method. While I will not go through the mathematical details of RSA, I will describe an outline of the program. The script is an attempt to simulate how  Bob can pass sensitive information (like a password) securely to Alice over and open channel using public key cryptography. \n",
    "\n",
    "A brief sypnosis on what you will see. \n",
    "\n",
    "1. Although we did not cover this in the course, I have created a class called `RSA` which will be used to create an object called `rsa`. Alice will use the *instance method* `rsa.keygen()` which is a `function` to create a pair of tuples: a public and private key. \n",
    "\n",
    "1. Bob will use Alice's public key, a pair numbers $(e, n)$ to encrypt his message by the following way: If $M$ is his message coded as a number ($ < n$), the ciphertext $C(M)$ is defined to be $$ C(M) \\equiv M^e\\mod n $$ This is implemented in Python as `pow(M, e, n)` where `pow` is another of Python's built in function to implement the following code `(M**e)%n` so that the calculation is done more efficiently.   \n",
    "\n",
    "1. Bob sends the ciphertext $C(M)$ to Alice to be decrypted. $M$ can be recovered from $C(M)$ by the following $$M \\equiv C(M)^d \\mod n $$ where $d$ is Alice's private key exponent which *must not* be revealed to anybody else. \n",
    "\n",
    "1. The public key exponent is usually a large (but not to big) prime number which does not divide $n$. However, $n$ itself is very huge (almost 200 digits long). \n",
    "\n",
    "Note that this is merely a simulated exchange and nothing here is meant to be a reflection of how cryptosystems are actually implemented in real life. But the essential ideas of the algorithm are real and I want to use this to illustrate program flow and how Python scripts will generally look like. \n",
    "\n",
    "Note too that the code for the `RSA` class is stored on a  `RSA.py` file. So you will get to see how to import user written code into Jupyter Notebook. "
   ]
  },
  {
   "cell_type": "code",
   "execution_count": 1,
   "metadata": {},
   "outputs": [
    {
     "name": "stdout",
     "output_type": "stream",
     "text": [
      "Alice's public key exponent and modulus which will be passed to Bob\n",
      "(e, n) = (960793, 9060512274574451877644215476077616158634400095889076858004842224787317540174868497104668479740290317477906106925706855172138373704017284248936367041849615281054536428433707569651428001191473352006853)\n"
     ]
    }
   ],
   "source": [
    "\"\"\"\n",
    "Before any public key encryption can be carried out. Alice must generate a pair of numbers known as the public\n",
    "and private exponents. She can give the public key to Bob for encryption but must keep the private key secret. \n",
    "\"\"\"\n",
    "\n",
    "from RSA import RSA\n",
    "import sys\n",
    "\n",
    "if sys.version_info > (3,): # Python 2 and Python 3 compatibility\n",
    "    raw_input = input\n",
    "    \n",
    "rsa = RSA()\n",
    "\n",
    "rsa.keygen(100) \n",
    "e, n = rsa.get_public_key()\n",
    "\n",
    "print(\"Alice's public key exponent and modulus which will be passed to Bob\")\n",
    "print(\"(e, n) = ({}, {})\".format(e, n))\n",
    "\n",
    "d = rsa.d # Alice's private key is a big number. So for convenience we will assign it to a variable. "
   ]
  },
  {
   "cell_type": "code",
   "execution_count": 2,
   "metadata": {},
   "outputs": [
    {
     "name": "stdout",
     "output_type": "stream",
     "text": [
      "Input Bob's message (max 128 characters)\n",
      ">> my secret key = 2551\n",
      "Numerical representation of string by ASCII encoding\n",
      "280927121274015673682511295131170413120652867949\n",
      "Cipher Text\n",
      "7996187146205243960564553581879158027133574825049410723928426455051424099464233438547720697741960573593473576524839539578128347957216022194957862031182093328704775100728783457363794665052610677981242\n"
     ]
    }
   ],
   "source": [
    "\"\"\" \n",
    "Here, Bob recieves Alice's public key (e,n) and proceeds to encrypt his message. He must first convert his \n",
    "message into a number M < n. Then he calculates C(M) by (M**e)%n. C(M) is the ciphertext send to Alice. \n",
    "\n",
    "In the script below, we create M by using a dictionary to translate between text to M. \n",
    "\"\"\"\n",
    "\n",
    "s = raw_input(\"Input Bob's message (max 128 characters)\\n>> \")\n",
    "\n",
    "m = bytearray(s, \"ascii\")\n",
    "block = 0\n",
    "for i, unit in enumerate(m):\n",
    "    block += unit*(256**i)\n",
    "print(\"Numerical representation of string by ASCII encoding\")\n",
    "print(block)\n",
    "\n",
    "C_M = pow(block, e, n)\n",
    "\n",
    "print(\"Cipher Text\")\n",
    "print(C_M)"
   ]
  },
  {
   "cell_type": "code",
   "execution_count": 3,
   "metadata": {},
   "outputs": [
    {
     "name": "stdout",
     "output_type": "stream",
     "text": [
      "Decoded message\n",
      "my secret key = 2551\n"
     ]
    }
   ],
   "source": [
    "\"\"\" \n",
    "Once Alice recieves the message she can decipher it using the formula (C(M)**d)%n\n",
    "\"\"\"\n",
    "M = pow(C_M, d, n)\n",
    "\n",
    "text = list()\n",
    "for power in range(len(s))[::-1]: \n",
    "    q, M = divmod(M, 256**power)\n",
    "    text.insert(0, q)\n",
    "\n",
    "text = bytes(text)\n",
    "text = text.decode(\"ascii\")\n",
    "\n",
    "print(\"Decoded message\")\n",
    "print(text)"
   ]
  },
  {
   "cell_type": "markdown",
   "metadata": {},
   "source": [
    "## Looking forward \n",
    "\n",
    "The horizon of Python programming stretches ever onward! This course represents just  a glimpse of what you can do with Python. In fact, in the previous demo, I wrote the encryption script using the `class` keyword which is the way Python creates objects. When you start using `pandas` and `matplotlib`, you will be interacting with objects the same way I showed you how in the script above. In `pandas`, the fundamental object you will be using is the `DataFrame` while in `matplotlib`, it is `Figure` and `Axes`. \n",
    "\n",
    "With what you have learnt today, you will be able to tackle the challenges of learning how to deal with data using `pandas` and visualize it using `matplotlib` or `seaborn`. Things that we did not cover in this course are: \n",
    "\n",
    "   * Object Oriented Programming. The `class` keyword, object inheritance and methods. \n",
    "   * Iterators and generators. The `yield` keyword. \n",
    "   * Decorators and decorator statements. Decorators are used in IPython interactive widgets and web development frameworks. \n",
    "   * Module and packages.\n",
    "   * Unit testing. The `unittest` module. \n",
    "   * Debugging and code profiling. \n",
    "\n",
    "The knowledge you have learnt here is enough to enable you to explore these topics even further. All the best!"
   ]
  }
 ],
 "metadata": {
  "kernelspec": {
   "display_name": "Python 2",
   "language": "python",
   "name": "python2"
  },
  "language_info": {
   "codemirror_mode": {
    "name": "ipython",
    "version": 2
   },
   "file_extension": ".py",
   "mimetype": "text/x-python",
   "name": "python",
   "nbconvert_exporter": "python",
   "pygments_lexer": "ipython2",
   "version": "2.7.13"
  }
 },
 "nbformat": 4,
 "nbformat_minor": 2
}
